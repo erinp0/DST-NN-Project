{
 "cells": [
  {
   "cell_type": "code",
   "execution_count": null,
   "id": "12aac3f6",
   "metadata": {},
   "outputs": [],
   "source": [
    "#C&W attack\n",
    "import tensorflow as tf\n",
    "from cleverhans.attacks import CarliniWagnerL2\n",
    "\n",
    "# Load the trained model\n",
    "model = tf.keras.models.load_model('path/to/model')\n",
    "\n",
    "# Define the attack\n",
    "attack = CarliniWagnerL2(model)\n",
    "\n",
    "# Load the test image\n",
    "image = tf.keras.preprocessing.image.load_img('path/to/image', target_size=(224, 224))\n",
    "image = tf.keras.preprocessing.image.img_to_array(image)\n",
    "image = image / 255.0\n",
    "\n",
    "# Generate the adversarial example\n",
    "adv_example = attack.generate(tf.convert_to_tensor(image), eps=0.3)\n",
    "\n",
    "# Check if the model misclassifies the adversarial example\n",
    "adv_prediction = model.predict(tf.expand_dims(adv_example, axis=0))\n",
    "adv_class = tf.argmax(adv_prediction[0])\n",
    "if adv_class != target_class:\n",
    "    print(\"Misclassified the adversarial example!\")\n"
   ]
  }
 ],
 "metadata": {
  "kernelspec": {
   "display_name": "Python 3 (ipykernel)",
   "language": "python",
   "name": "python3"
  },
  "language_info": {
   "codemirror_mode": {
    "name": "ipython",
    "version": 3
   },
   "file_extension": ".py",
   "mimetype": "text/x-python",
   "name": "python",
   "nbconvert_exporter": "python",
   "pygments_lexer": "ipython3",
   "version": "3.9.13"
  }
 },
 "nbformat": 4,
 "nbformat_minor": 5
}
