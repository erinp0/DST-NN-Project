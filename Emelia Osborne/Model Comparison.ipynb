{
 "cells": [
  {
   "cell_type": "markdown",
   "id": "e9a7edeb",
   "metadata": {},
   "source": [
    "# Model Comparison"
   ]
  },
  {
   "cell_type": "code",
   "execution_count": 2,
   "id": "d3ad091e",
   "metadata": {},
   "outputs": [],
   "source": [
    "import pandas as pd\n",
    "import numpy as np\n",
    "from sklearn import metrics\n",
    "import matplotlib.pyplot as plt\n",
    "from sklearn.metrics import roc_curve, auc\n",
    "import tensorflow as tf"
   ]
  },
  {
   "cell_type": "markdown",
   "id": "bca9102a",
   "metadata": {},
   "source": [
    "## 1. Load in test sets\n",
    "\n",
    "We will be looking at each one separately as well as the combined scores, in order to see the strengths and weaknesses of the models."
   ]
  },
  {
   "cell_type": "code",
   "execution_count": 3,
   "id": "555b7614",
   "metadata": {},
   "outputs": [],
   "source": [
    "test_labels=np.load('32_filter_test_label.npy')\n",
    "\n",
    "orig_test=np.load('32_filter_test_data.npy')\n",
    "noisy_test=np.load('noisy_test.npy')\n",
    "colour_patch_test=np.load('colour_patched_test.npy')\n",
    "other_patch_test=np.load('other_patched_test.npy')\n",
    "same_patch_test=np.load('same_patched_test.npy')\n",
    "cw_005_advs_test=np.load('005_cw_advs.npy')\n",
    "cw_02_advs_test=np.load('02_cw_advs.npy')"
   ]
  },
  {
   "cell_type": "code",
   "execution_count": 4,
   "id": "ebfee3ad",
   "metadata": {},
   "outputs": [],
   "source": [
    "cw_advs_test=np.concatenate((cw_005_advs_test, cw_02_advs_test), axis=0)"
   ]
  },
  {
   "cell_type": "markdown",
   "id": "07016747",
   "metadata": {},
   "source": [
    "## 2. Basic CNN \n",
    "First we load in the model."
   ]
  },
  {
   "cell_type": "code",
   "execution_count": 5,
   "id": "8e2def8d",
   "metadata": {},
   "outputs": [],
   "source": [
    "cnn_model=tf.keras.models.load_model('basic_cnn_model_filter.h5')"
   ]
  },
  {
   "cell_type": "markdown",
   "id": "32318085",
   "metadata": {},
   "source": [
    "Then we get the predictions for the test sets. We begin with the original test set.\n",
    "\n",
    "The first line below returns probabilities across the classes. We then take the index of the maximum in each row to be the predicted class."
   ]
  },
  {
   "cell_type": "code",
   "execution_count": 6,
   "id": "4a597fff",
   "metadata": {},
   "outputs": [
    {
     "name": "stdout",
     "output_type": "stream",
     "text": [
      "395/395 [==============================] - 12s 27ms/step\n"
     ]
    }
   ],
   "source": [
    "y_pred_prob = cnn_model.predict(orig_test)"
   ]
  },
  {
   "cell_type": "code",
   "execution_count": 8,
   "id": "32135452",
   "metadata": {},
   "outputs": [],
   "source": [
    "y_pred = np.argmax(y_pred_prob, axis=-1)"
   ]
  },
  {
   "cell_type": "markdown",
   "id": "5f74da92",
   "metadata": {},
   "source": [
    "We can look at the classification report if we want."
   ]
  },
  {
   "cell_type": "code",
   "execution_count": 57,
   "id": "bc1d64e9",
   "metadata": {},
   "outputs": [
    {
     "name": "stdout",
     "output_type": "stream",
     "text": [
      "              precision    recall  f1-score   support\n",
      "\n",
      "           0       1.00      1.00      1.00        60\n",
      "           1       0.99      1.00      1.00       720\n",
      "           2       1.00      1.00      1.00       750\n",
      "           3       0.99      0.98      0.98       450\n",
      "           4       1.00      0.99      1.00       660\n",
      "           5       0.93      1.00      0.96       630\n",
      "           6       1.00      0.85      0.92       150\n",
      "           7       1.00      1.00      1.00       450\n",
      "           8       1.00      0.95      0.98       450\n",
      "           9       1.00      1.00      1.00       480\n",
      "          10       1.00      1.00      1.00       660\n",
      "          11       0.99      0.99      0.99       420\n",
      "          12       1.00      1.00      1.00       690\n",
      "          13       1.00      1.00      1.00       720\n",
      "          14       0.97      1.00      0.98       270\n",
      "          15       1.00      1.00      1.00       210\n",
      "          16       1.00      1.00      1.00       150\n",
      "          17       1.00      0.97      0.99       360\n",
      "          18       0.99      0.96      0.97       390\n",
      "          19       1.00      1.00      1.00        60\n",
      "          20       1.00      1.00      1.00        90\n",
      "          21       1.00      0.84      0.92        90\n",
      "          22       0.97      0.95      0.96       120\n",
      "          23       0.96      1.00      0.98       150\n",
      "          24       1.00      0.97      0.98        90\n",
      "          25       0.99      1.00      0.99       480\n",
      "          26       0.90      0.99      0.94       180\n",
      "          27       0.97      0.95      0.96        60\n",
      "          28       0.99      0.99      0.99       150\n",
      "          29       0.98      1.00      0.99        90\n",
      "          30       0.98      0.93      0.96       150\n",
      "          31       0.97      1.00      0.98       270\n",
      "          32       0.98      1.00      0.99        60\n",
      "          33       1.00      1.00      1.00       210\n",
      "          34       1.00      1.00      1.00       120\n",
      "          35       0.99      1.00      1.00       390\n",
      "          36       0.99      1.00      1.00       120\n",
      "          37       0.98      0.98      0.98        60\n",
      "          38       1.00      1.00      1.00       690\n",
      "          39       1.00      0.99      0.99        90\n",
      "          40       1.00      0.99      0.99        90\n",
      "          41       0.95      1.00      0.98        60\n",
      "          42       0.92      0.98      0.95        90\n",
      "\n",
      "    accuracy                           0.99     12630\n",
      "   macro avg       0.99      0.98      0.98     12630\n",
      "weighted avg       0.99      0.99      0.99     12630\n",
      "\n"
     ]
    }
   ],
   "source": [
    "from sklearn.metrics import classification_report\n",
    "print(classification_report(test_labels, y_pred))"
   ]
  },
  {
   "cell_type": "markdown",
   "id": "b29946cc",
   "metadata": {},
   "source": [
    "But we have chosen to look at the macro average F1-score as our evaluation metric, so we can just report that as so."
   ]
  },
  {
   "cell_type": "code",
   "execution_count": 10,
   "id": "c42f5213",
   "metadata": {},
   "outputs": [
    {
     "name": "stdout",
     "output_type": "stream",
     "text": [
      "0.9832841326326808\n"
     ]
    }
   ],
   "source": [
    "report=classification_report(test_labels, y_pred,output_dict=True)\n",
    "macro_f1 = report['macro avg']['f1-score']\n",
    "print(macro_f1)"
   ]
  },
  {
   "cell_type": "markdown",
   "id": "70b3da72",
   "metadata": {},
   "source": [
    "We do the same for each of our adversarial test sets."
   ]
  },
  {
   "cell_type": "code",
   "execution_count": 11,
   "id": "99967588",
   "metadata": {},
   "outputs": [
    {
     "name": "stdout",
     "output_type": "stream",
     "text": [
      "395/395 [==============================] - 10s 26ms/step\n",
      "0.9190819000175338\n"
     ]
    }
   ],
   "source": [
    "y_pred_prob_noisy = cnn_model.predict(noisy_test)\n",
    "y_pred_noisy = np.argmax(y_pred_prob_noisy, axis=-1)\n",
    "report_noisy=classification_report(test_labels, y_pred_noisy,output_dict=True)\n",
    "macro_f1_noisy = report_noisy['macro avg']['f1-score']\n",
    "print(macro_f1_noisy)"
   ]
  },
  {
   "cell_type": "code",
   "execution_count": 12,
   "id": "ab0dd549",
   "metadata": {},
   "outputs": [
    {
     "name": "stdout",
     "output_type": "stream",
     "text": [
      "395/395 [==============================] - 10s 26ms/step\n",
      "0.9422006227902302\n"
     ]
    }
   ],
   "source": [
    "y_pred_prob_colour_patch = cnn_model.predict(colour_patch_test)\n",
    "y_pred_colour_patch = np.argmax(y_pred_prob_colour_patch, axis=-1)\n",
    "report_colour_patch=classification_report(test_labels, y_pred_colour_patch,output_dict=True)\n",
    "macro_f1_colour_patch = report_colour_patch['macro avg']['f1-score']\n",
    "print(macro_f1_colour_patch)"
   ]
  },
  {
   "cell_type": "code",
   "execution_count": 13,
   "id": "9a10f061",
   "metadata": {},
   "outputs": [
    {
     "name": "stdout",
     "output_type": "stream",
     "text": [
      "395/395 [==============================] - 11s 27ms/step\n",
      "0.9368071543386852\n"
     ]
    }
   ],
   "source": [
    "y_pred_prob_other_patch = cnn_model.predict(other_patch_test)\n",
    "y_pred_other_patch = np.argmax(y_pred_prob_other_patch, axis=-1)\n",
    "report_other_patch=classification_report(test_labels, y_pred_other_patch,output_dict=True)\n",
    "macro_f1_other_patch = report_other_patch['macro avg']['f1-score']\n",
    "print(macro_f1_other_patch)"
   ]
  },
  {
   "cell_type": "code",
   "execution_count": 14,
   "id": "57862a3b",
   "metadata": {},
   "outputs": [
    {
     "name": "stdout",
     "output_type": "stream",
     "text": [
      "395/395 [==============================] - 10s 26ms/step\n",
      "0.9517097250498128\n"
     ]
    }
   ],
   "source": [
    "y_pred_prob_same_patch = cnn_model.predict(same_patch_test)\n",
    "y_pred_same_patch = np.argmax(y_pred_prob_same_patch, axis=-1)\n",
    "report_same_patch=classification_report(test_labels, y_pred_same_patch,output_dict=True)\n",
    "macro_f1_same_patch = report_same_patch['macro avg']['f1-score']\n",
    "print(macro_f1_same_patch)"
   ]
  },
  {
   "cell_type": "code",
   "execution_count": 15,
   "id": "cb64b78d",
   "metadata": {},
   "outputs": [
    {
     "name": "stdout",
     "output_type": "stream",
     "text": [
      "395/395 [==============================] - 11s 27ms/step\n",
      "0.02174800572586635\n"
     ]
    }
   ],
   "source": [
    "y_pred_prob_cw = cnn_model.predict(cw_advs_test)\n",
    "y_pred_cw = np.argmax(y_pred_prob_cw, axis=-1)\n",
    "report_cw=classification_report(test_labels, y_pred_cw,output_dict=True)\n",
    "macro_f1_cw = report_cw['macro avg']['f1-score']\n",
    "print(macro_f1_cw)"
   ]
  },
  {
   "cell_type": "markdown",
   "id": "1d4e7b3c",
   "metadata": {},
   "source": [
    "We can see that the score for the CW adversarial images is very bad. This is because these were created to specifically fool this model. Out of the other adversarial images, the noisy ones have the next lowest score, although it is not very low. Then these are followed by images patched with other images, images with randomly coloured patches, and images patched with the same image.\n",
    "\n",
    "Now we obtain a combined F1-score for how well the model performed on the test set as a whole."
   ]
  },
  {
   "cell_type": "code",
   "execution_count": 16,
   "id": "6fc9941a",
   "metadata": {},
   "outputs": [],
   "source": [
    "y_pred_prob_combined=np.concatenate((y_pred_prob, y_pred_prob_noisy, y_pred_prob_colour_patch, y_pred_prob_other_patch, y_pred_prob_same_patch, y_pred_prob_cw), axis=0)"
   ]
  },
  {
   "cell_type": "code",
   "execution_count": 17,
   "id": "1d88cb88",
   "metadata": {},
   "outputs": [],
   "source": [
    "y_pred_combined=np.concatenate((y_pred, y_pred_noisy, y_pred_colour_patch, y_pred_other_patch, y_pred_same_patch, y_pred_cw), axis=0)"
   ]
  },
  {
   "cell_type": "code",
   "execution_count": 18,
   "id": "fcf7095b",
   "metadata": {},
   "outputs": [],
   "source": [
    "test_labels_repeated=np.concatenate((test_labels, test_labels, test_labels, test_labels, test_labels, test_labels), axis=0)"
   ]
  },
  {
   "cell_type": "code",
   "execution_count": 19,
   "id": "8a055c9b",
   "metadata": {},
   "outputs": [
    {
     "name": "stdout",
     "output_type": "stream",
     "text": [
      "0.7623218084605388\n"
     ]
    }
   ],
   "source": [
    "report_combined=classification_report(test_labels_repeated, y_pred_combined,output_dict=True)\n",
    "macro_f1_combined = report_combined['macro avg']['f1-score']\n",
    "print(macro_f1_combined)"
   ]
  },
  {
   "cell_type": "markdown",
   "id": "1dae0bcb",
   "metadata": {},
   "source": [
    "## 2. Model With Defences\n",
    "\n",
    "This model consists of three stages: an autoencoder, a classifier of whether an image is adversarial or not, and then the CNN. So we begin by loading in the three models."
   ]
  },
  {
   "cell_type": "code",
   "execution_count": 21,
   "id": "558de8fb",
   "metadata": {},
   "outputs": [],
   "source": [
    "autoencoder=tf.keras.models.load_model('denoising_autoencoder.h5')"
   ]
  },
  {
   "cell_type": "code",
   "execution_count": 22,
   "id": "9bcfb3e7",
   "metadata": {},
   "outputs": [],
   "source": [
    "adv_classifier=tf.keras.models.load_model('adv_classifier_200.h5')"
   ]
  },
  {
   "cell_type": "code",
   "execution_count": 23,
   "id": "ef3765c1",
   "metadata": {},
   "outputs": [],
   "source": [
    "defences_cnn=tf.keras.models.load_model('DEFENCE_cnn_200.h5')"
   ]
  },
  {
   "cell_type": "markdown",
   "id": "b5b49aa3",
   "metadata": {},
   "source": [
    "First we pass each set of images through the autoencoder. This should remove any noise from the images."
   ]
  },
  {
   "cell_type": "code",
   "execution_count": 24,
   "id": "45eb17d3",
   "metadata": {},
   "outputs": [
    {
     "name": "stdout",
     "output_type": "stream",
     "text": [
      "395/395 [==============================] - 41s 103ms/step\n",
      "395/395 [==============================] - 41s 103ms/step\n",
      "395/395 [==============================] - 40s 102ms/step\n",
      "395/395 [==============================] - 40s 100ms/step\n",
      "395/395 [==============================] - 40s 102ms/step\n",
      "395/395 [==============================] - 41s 103ms/step\n"
     ]
    }
   ],
   "source": [
    "orig_test_autoencoder=autoencoder.predict(orig_test)\n",
    "noisy_test_autoencoder=autoencoder.predict(noisy_test)\n",
    "colour_patch_test_autoencoder=autoencoder.predict(colour_patch_test)\n",
    "other_patch_test_autoencoder=autoencoder.predict(other_patch_test)\n",
    "same_patch_test_autoencoder=autoencoder.predict(same_patch_test)\n",
    "cw_advs_test_autoencoder=autoencoder.predict(cw_advs_test)"
   ]
  },
  {
   "cell_type": "markdown",
   "id": "39140f60",
   "metadata": {},
   "source": [
    "Next we obtain a classification of whether the image is adversarial or not."
   ]
  },
  {
   "cell_type": "code",
   "execution_count": 25,
   "id": "83c7d3c8",
   "metadata": {},
   "outputs": [
    {
     "name": "stdout",
     "output_type": "stream",
     "text": [
      "395/395 [==============================] - 9s 22ms/step\n",
      "395/395 [==============================] - 9s 23ms/step\n",
      "395/395 [==============================] - 9s 23ms/step\n",
      "395/395 [==============================] - 9s 23ms/step\n",
      "395/395 [==============================] - 9s 23ms/step\n",
      "395/395 [==============================] - 9s 23ms/step\n"
     ]
    }
   ],
   "source": [
    "orig_test_classifications=adv_classifier.predict(orig_test_autoencoder)\n",
    "noisy_test_classifications=adv_classifier.predict(noisy_test_autoencoder)\n",
    "colour_patch_test_classifications=adv_classifier.predict(colour_patch_test_autoencoder)\n",
    "other_patch_test_classifications=adv_classifier.predict(other_patch_test_autoencoder)\n",
    "same_patch_test_classifications=adv_classifier.predict(same_patch_test_autoencoder)\n",
    "cw_advs_test_classifications=adv_classifier.predict(cw_advs_test_autoencoder)"
   ]
  },
  {
   "cell_type": "markdown",
   "id": "faff6599",
   "metadata": {},
   "source": [
    "The above are probabilities so we have to convert these into binary outputs by checking if they are over 0.5 or not."
   ]
  },
  {
   "cell_type": "code",
   "execution_count": 26,
   "id": "b16d5a4c",
   "metadata": {},
   "outputs": [],
   "source": [
    "orig_test_classifications_b = np.where(orig_test_classifications[:, 0] > 0.5, 1, 0)\n",
    "noisy_test_classifications_b = np.where(noisy_test_classifications[:, 0] > 0.5, 1, 0)\n",
    "colour_patch_test_classifications_b = np.where(colour_patch_test_classifications[:, 0] > 0.5, 1, 0)\n",
    "other_patch_test_classifications_b = np.where(other_patch_test_classifications[:, 0] > 0.5, 1, 0)\n",
    "same_patch_test_classifications_b = np.where(same_patch_test_classifications[:, 0] > 0.5, 1, 0)\n",
    "cw_advs_test_classifications_b = np.where(cw_advs_test_classifications[:, 0] > 0.5, 1, 0)"
   ]
  },
  {
   "cell_type": "markdown",
   "id": "1559e4f8",
   "metadata": {},
   "source": [
    "Now we obtain the predicitions using the CNN as we did before, except now we have the extra input of the adversarial classification. \n",
    "\n",
    "We begin with the original test set."
   ]
  },
  {
   "cell_type": "code",
   "execution_count": 27,
   "id": "8f3167ab",
   "metadata": {},
   "outputs": [
    {
     "name": "stdout",
     "output_type": "stream",
     "text": [
      "395/395 [==============================] - 11s 27ms/step\n"
     ]
    }
   ],
   "source": [
    "y_pred_prob_defence = defences_cnn.predict([orig_test_autoencoder,orig_test_classifications_b])"
   ]
  },
  {
   "cell_type": "code",
   "execution_count": 28,
   "id": "4e6112a3",
   "metadata": {},
   "outputs": [],
   "source": [
    "y_pred_defence = np.argmax(y_pred_prob_defence, axis=-1)"
   ]
  },
  {
   "cell_type": "code",
   "execution_count": 29,
   "id": "77fe5149",
   "metadata": {},
   "outputs": [
    {
     "name": "stdout",
     "output_type": "stream",
     "text": [
      "              precision    recall  f1-score   support\n",
      "\n",
      "           0       0.97      0.55      0.70        60\n",
      "           1       0.88      0.96      0.92       720\n",
      "           2       0.90      0.90      0.90       750\n",
      "           3       0.82      0.86      0.84       450\n",
      "           4       0.92      0.89      0.91       660\n",
      "           5       0.83      0.91      0.87       630\n",
      "           6       0.95      0.68      0.79       150\n",
      "           7       0.89      0.85      0.87       450\n",
      "           8       0.85      0.86      0.85       450\n",
      "           9       0.98      0.91      0.95       480\n",
      "          10       0.97      0.97      0.97       660\n",
      "          11       0.92      0.95      0.94       420\n",
      "          12       0.97      0.98      0.97       690\n",
      "          13       0.99      0.99      0.99       720\n",
      "          14       1.00      1.00      1.00       270\n",
      "          15       0.97      0.92      0.95       210\n",
      "          16       1.00      0.99      1.00       150\n",
      "          17       1.00      0.96      0.98       360\n",
      "          18       0.96      0.86      0.91       390\n",
      "          19       0.85      0.92      0.88        60\n",
      "          20       0.80      0.91      0.85        90\n",
      "          21       0.87      0.64      0.74        90\n",
      "          22       1.00      0.89      0.94       120\n",
      "          23       0.77      0.75      0.76       150\n",
      "          24       0.79      0.81      0.80        90\n",
      "          25       0.92      0.94      0.93       480\n",
      "          26       0.86      0.98      0.92       180\n",
      "          27       0.65      0.50      0.57        60\n",
      "          28       0.96      0.88      0.92       150\n",
      "          29       0.86      0.99      0.92        90\n",
      "          30       0.78      0.85      0.81       150\n",
      "          31       0.96      0.97      0.96       270\n",
      "          32       0.92      1.00      0.96        60\n",
      "          33       0.95      1.00      0.97       210\n",
      "          34       0.92      1.00      0.96       120\n",
      "          35       0.97      0.97      0.97       390\n",
      "          36       0.97      0.93      0.94       120\n",
      "          37       0.98      0.95      0.97        60\n",
      "          38       0.99      0.99      0.99       690\n",
      "          39       1.00      0.87      0.93        90\n",
      "          40       0.91      0.91      0.91        90\n",
      "          41       0.94      0.85      0.89        60\n",
      "          42       0.69      0.87      0.77        90\n",
      "\n",
      "    accuracy                           0.92     12630\n",
      "   macro avg       0.91      0.89      0.90     12630\n",
      "weighted avg       0.92      0.92      0.92     12630\n",
      "\n"
     ]
    }
   ],
   "source": [
    "print(classification_report(test_labels, y_pred_defence))"
   ]
  },
  {
   "cell_type": "code",
   "execution_count": 58,
   "id": "b9a11ef3",
   "metadata": {},
   "outputs": [
    {
     "name": "stdout",
     "output_type": "stream",
     "text": [
      "0.8972372679996006\n"
     ]
    }
   ],
   "source": [
    "report_defence=classification_report(test_labels, y_pred_defence,output_dict=True)\n",
    "macro_f1_defence = report_defence['macro avg']['f1-score']\n",
    "print(macro_f1_defence)"
   ]
  },
  {
   "cell_type": "code",
   "execution_count": 30,
   "id": "d5926fd1",
   "metadata": {},
   "outputs": [
    {
     "name": "stdout",
     "output_type": "stream",
     "text": [
      "395/395 [==============================] - 10s 26ms/step\n",
      "0.8856664256720654\n"
     ]
    }
   ],
   "source": [
    "y_pred_prob_noisy_defence = defences_cnn.predict([noisy_test_autoencoder,noisy_test_classifications_b])\n",
    "y_pred_noisy_defence = np.argmax(y_pred_prob_noisy_defence, axis=-1)\n",
    "report_noisy_defence=classification_report(test_labels, y_pred_noisy_defence,output_dict=True)\n",
    "macro_f1_noisy_defence = report_noisy_defence['macro avg']['f1-score']\n",
    "print(macro_f1_noisy_defence)"
   ]
  },
  {
   "cell_type": "code",
   "execution_count": 32,
   "id": "53c6708e",
   "metadata": {},
   "outputs": [
    {
     "name": "stdout",
     "output_type": "stream",
     "text": [
      "395/395 [==============================] - 11s 27ms/step\n",
      "0.8480705305317889\n"
     ]
    }
   ],
   "source": [
    "y_pred_prob_colour_patch_defence = defences_cnn.predict([colour_patch_test_autoencoder,colour_patch_test_classifications_b])\n",
    "y_pred_colour_patch_defence = np.argmax(y_pred_prob_colour_patch_defence, axis=-1)\n",
    "report_colour_patch_defence=classification_report(test_labels, y_pred_colour_patch_defence,output_dict=True)\n",
    "macro_f1_colour_patch_defence = report_colour_patch_defence['macro avg']['f1-score']\n",
    "print(macro_f1_colour_patch_defence)"
   ]
  },
  {
   "cell_type": "code",
   "execution_count": 34,
   "id": "14551114",
   "metadata": {},
   "outputs": [
    {
     "name": "stdout",
     "output_type": "stream",
     "text": [
      "395/395 [==============================] - 11s 27ms/step\n",
      "0.855512027419354\n"
     ]
    }
   ],
   "source": [
    "y_pred_prob_other_patch_defence = defences_cnn.predict([other_patch_test_autoencoder,other_patch_test_classifications_b])\n",
    "y_pred_other_patch_defence = np.argmax(y_pred_prob_other_patch_defence, axis=-1)\n",
    "report_other_patch_defence=classification_report(test_labels, y_pred_other_patch_defence,output_dict=True)\n",
    "macro_f1_other_patch_defence = report_other_patch_defence['macro avg']['f1-score']\n",
    "print(macro_f1_other_patch_defence)"
   ]
  },
  {
   "cell_type": "code",
   "execution_count": 35,
   "id": "a1adf869",
   "metadata": {},
   "outputs": [
    {
     "name": "stdout",
     "output_type": "stream",
     "text": [
      "395/395 [==============================] - 10s 25ms/step\n",
      "0.8697185820849073\n"
     ]
    }
   ],
   "source": [
    "y_pred_prob_same_patch_defence = defences_cnn.predict([same_patch_test_autoencoder,same_patch_test_classifications_b])\n",
    "y_pred_same_patch_defence = np.argmax(y_pred_prob_same_patch_defence, axis=-1)\n",
    "report_same_patch_defence=classification_report(test_labels, y_pred_same_patch_defence,output_dict=True)\n",
    "macro_f1_same_patch_defence = report_same_patch_defence['macro avg']['f1-score']\n",
    "print(macro_f1_same_patch_defence)"
   ]
  },
  {
   "cell_type": "code",
   "execution_count": 31,
   "id": "64020279",
   "metadata": {},
   "outputs": [
    {
     "name": "stdout",
     "output_type": "stream",
     "text": [
      "395/395 [==============================] - 11s 26ms/step\n",
      "0.8691694353521981\n"
     ]
    }
   ],
   "source": [
    "y_pred_prob_cw_defence = defences_cnn.predict([cw_advs_test_autoencoder,cw_advs_test_classifications_b])\n",
    "y_pred_cw_defence = np.argmax(y_pred_prob_cw_defence, axis=-1)\n",
    "report_cw_defence=classification_report(test_labels, y_pred_cw_defence,output_dict=True)\n",
    "macro_f1_cw_defence = report_cw_defence['macro avg']['f1-score']\n",
    "print(macro_f1_cw_defence)"
   ]
  },
  {
   "cell_type": "markdown",
   "id": "b1821fbf",
   "metadata": {},
   "source": [
    "And then we have a combined F1-score again."
   ]
  },
  {
   "cell_type": "code",
   "execution_count": 36,
   "id": "ae87ace4",
   "metadata": {},
   "outputs": [],
   "source": [
    "y_pred_combined_defence=np.concatenate((y_pred_defence, y_pred_noisy_defence, y_pred_colour_patch_defence, y_pred_other_patch_defence, y_pred_same_patch_defence, y_pred_cw_defence), axis=0)"
   ]
  },
  {
   "cell_type": "code",
   "execution_count": 39,
   "id": "a76392fb",
   "metadata": {},
   "outputs": [
    {
     "name": "stdout",
     "output_type": "stream",
     "text": [
      "0.8709262001405003\n"
     ]
    }
   ],
   "source": [
    "report_combined_defence=classification_report(test_labels_repeated, y_pred_combined_defence,output_dict=True)\n",
    "macro_f1_combined_defence = report_combined_defence['macro avg']['f1-score']\n",
    "print(macro_f1_combined_defence)"
   ]
  },
  {
   "cell_type": "markdown",
   "id": "98058f42",
   "metadata": {},
   "source": [
    "So we can see that in comparison to the basic CNN, the one with added defences saw a very large improvement on the CW adversarial images, but saw reductions to the F1-score in all of the other test sets. This very large improvement in the CW images meant that it performed better on the test set overall."
   ]
  },
  {
   "cell_type": "code",
   "execution_count": null,
   "id": "9e130f48",
   "metadata": {},
   "outputs": [],
   "source": []
  }
 ],
 "metadata": {
  "kernelspec": {
   "display_name": "Python 3 (ipykernel)",
   "language": "python",
   "name": "python3"
  },
  "language_info": {
   "codemirror_mode": {
    "name": "ipython",
    "version": 3
   },
   "file_extension": ".py",
   "mimetype": "text/x-python",
   "name": "python",
   "nbconvert_exporter": "python",
   "pygments_lexer": "ipython3",
   "version": "3.9.13"
  }
 },
 "nbformat": 4,
 "nbformat_minor": 5
}
