{
 "cells": [
  {
   "cell_type": "markdown",
   "id": "758f9902",
   "metadata": {},
   "source": [
    "# Autoencoder"
   ]
  },
  {
   "cell_type": "markdown",
   "id": "b51d9547",
   "metadata": {},
   "source": [
    "## Build Autoencoder"
   ]
  },
  {
   "cell_type": "code",
   "execution_count": 251,
   "id": "f656a0a4",
   "metadata": {},
   "outputs": [],
   "source": [
    "import sys\n",
    "\n",
    "import tensorflow.keras\n",
    "import pandas as pd\n",
    "import sklearn as sk\n",
    "import tensorflow as tf\n",
    "import platform"
   ]
  },
  {
   "cell_type": "code",
   "execution_count": 252,
   "id": "599aec95",
   "metadata": {},
   "outputs": [
    {
     "name": "stdout",
     "output_type": "stream",
     "text": [
      "Python Platform: macOS-13.0-arm64-arm-64bit\n",
      "Tensor Flow Version: 2.12.0\n",
      "Keras Version: 2.12.0\n",
      "\n",
      "Python 3.10.10 | packaged by conda-forge | (main, Mar 24 2023, 20:12:31) [Clang 14.0.6 ]\n",
      "Pandas 1.5.3\n",
      "Scikit-Learn 1.2.2\n",
      "GPU is available\n"
     ]
    }
   ],
   "source": [
    "print(f\"Python Platform: {platform.platform()}\")\n",
    "print(f\"Tensor Flow Version: {tf.__version__}\")\n",
    "print(f\"Keras Version: {tensorflow.keras.__version__}\")\n",
    "print()\n",
    "print(f\"Python {sys.version}\")\n",
    "print(f\"Pandas {pd.__version__}\")\n",
    "print(f\"Scikit-Learn {sk.__version__}\")\n",
    "gpu = len(tf.config.list_physical_devices('GPU'))>0\n",
    "print(\"GPU is\", \"available\" if gpu else \"NOT AVAILABLE\")"
   ]
  },
  {
   "cell_type": "code",
   "execution_count": 253,
   "id": "95739f12",
   "metadata": {},
   "outputs": [],
   "source": [
    "# Load the original data \n",
    "import numpy as np\n",
    "original_train = np.load('/Users/xinyu/Downloads/Training data/unedited_train_data.npy')"
   ]
  },
  {
   "cell_type": "code",
   "execution_count": 254,
   "id": "4fa84cab",
   "metadata": {},
   "outputs": [
    {
     "name": "stdout",
     "output_type": "stream",
     "text": [
      "[[[[ 44  37  37]\n",
      "   [ 44  38  40]\n",
      "   [ 40  35  38]\n",
      "   ...\n",
      "   [ 68  43  27]\n",
      "   [216 143 107]\n",
      "   [245 183 139]]\n",
      "\n",
      "  [[ 43  35  35]\n",
      "   [ 43  35  38]\n",
      "   [ 38  33  35]\n",
      "   ...\n",
      "   [ 65  39  26]\n",
      "   [213 137 103]\n",
      "   [244 182 138]]\n",
      "\n",
      "  [[ 35  30  29]\n",
      "   [ 36  31  30]\n",
      "   [ 37  32  32]\n",
      "   ...\n",
      "   [ 62  36  25]\n",
      "   [209 132  99]\n",
      "   [243 180 138]]\n",
      "\n",
      "  ...\n",
      "\n",
      "  [[ 34  31  32]\n",
      "   [ 35  31  32]\n",
      "   [ 39  32  35]\n",
      "   ...\n",
      "   [106 115 115]\n",
      "   [ 63  68  80]\n",
      "   [105  65  64]]\n",
      "\n",
      "  [[ 37  31  30]\n",
      "   [ 38  32  31]\n",
      "   [ 39  33  32]\n",
      "   ...\n",
      "   [133 139 144]\n",
      "   [ 73  80  98]\n",
      "   [ 97  62  64]]\n",
      "\n",
      "  [[ 39  32  32]\n",
      "   [ 40  33  33]\n",
      "   [ 44  35  34]\n",
      "   ...\n",
      "   [149 151 160]\n",
      "   [ 81  87 108]\n",
      "   [ 93  56  59]]]\n",
      "\n",
      "\n",
      " [[[ 55  61  64]\n",
      "   [ 56  62  66]\n",
      "   [ 58  61  65]\n",
      "   ...\n",
      "   [ 89 107 123]\n",
      "   [ 83 105 120]\n",
      "   [ 82 105 114]]\n",
      "\n",
      "  [[ 52  58  59]\n",
      "   [ 54  60  62]\n",
      "   [ 56  60  63]\n",
      "   ...\n",
      "   [ 90 107 130]\n",
      "   [ 86 103 122]\n",
      "   [ 93 112 123]]\n",
      "\n",
      "  [[ 52  57  59]\n",
      "   [ 55  61  62]\n",
      "   [ 57  62  65]\n",
      "   ...\n",
      "   [ 84 101 123]\n",
      "   [ 86  96 108]\n",
      "   [ 95 109 115]]\n",
      "\n",
      "  ...\n",
      "\n",
      "  [[ 61  65  67]\n",
      "   [ 61  65  68]\n",
      "   [ 55  59  61]\n",
      "   ...\n",
      "   [ 46  52  57]\n",
      "   [ 43  47  50]\n",
      "   [ 49  52  53]]\n",
      "\n",
      "  [[ 62  66  69]\n",
      "   [ 60  65  70]\n",
      "   [ 54  60  61]\n",
      "   ...\n",
      "   [ 41  49  52]\n",
      "   [ 43  48  51]\n",
      "   [ 47  51  53]]\n",
      "\n",
      "  [[ 65  67  69]\n",
      "   [ 62  67  70]\n",
      "   [ 58  64  65]\n",
      "   ...\n",
      "   [ 45  53  56]\n",
      "   [ 44  54  56]\n",
      "   [ 49  56  58]]]\n",
      "\n",
      "\n",
      " [[[ 58  66  63]\n",
      "   [ 57  69  67]\n",
      "   [ 62  70  68]\n",
      "   ...\n",
      "   [ 52  68  68]\n",
      "   [ 65  77  76]\n",
      "   [ 66  78  75]]\n",
      "\n",
      "  [[ 65  75  74]\n",
      "   [ 61  73  71]\n",
      "   [ 65  72  68]\n",
      "   ...\n",
      "   [ 46  62  59]\n",
      "   [ 59  75  72]\n",
      "   [ 55  69  66]]\n",
      "\n",
      "  [[ 62  69  70]\n",
      "   [ 62  70  68]\n",
      "   [ 65  72  66]\n",
      "   ...\n",
      "   [ 54  68  60]\n",
      "   [ 60  74  69]\n",
      "   [ 52  63  59]]\n",
      "\n",
      "  ...\n",
      "\n",
      "  [[ 51  51  50]\n",
      "   [ 50  50  46]\n",
      "   [ 58  59  51]\n",
      "   ...\n",
      "   [ 49  53  52]\n",
      "   [ 67  73  74]\n",
      "   [ 44  47  50]]\n",
      "\n",
      "  [[ 51  50  50]\n",
      "   [ 51  51  49]\n",
      "   [ 51  52  48]\n",
      "   ...\n",
      "   [ 53  56  52]\n",
      "   [ 46  52  52]\n",
      "   [ 44  48  53]]\n",
      "\n",
      "  [[ 51  50  50]\n",
      "   [ 51  51  51]\n",
      "   [ 50  50  50]\n",
      "   ...\n",
      "   [ 58  61  54]\n",
      "   [ 57  61  61]\n",
      "   [ 48  51  58]]]\n",
      "\n",
      "\n",
      " ...\n",
      "\n",
      "\n",
      " [[[ 53  53  58]\n",
      "   [ 48  47  48]\n",
      "   [ 38  37  41]\n",
      "   ...\n",
      "   [ 77 110 228]\n",
      "   [ 73 107 223]\n",
      "   [ 69 105 218]]\n",
      "\n",
      "  [[ 53  54  58]\n",
      "   [ 48  47  48]\n",
      "   [ 36  36  39]\n",
      "   ...\n",
      "   [ 83 113 225]\n",
      "   [ 78 112 226]\n",
      "   [ 68 105 219]]\n",
      "\n",
      "  [[ 55  55  58]\n",
      "   [ 48  47  46]\n",
      "   [ 39  38  38]\n",
      "   ...\n",
      "   [ 89 118 230]\n",
      "   [ 85 118 235]\n",
      "   [ 80 114 233]]\n",
      "\n",
      "  ...\n",
      "\n",
      "  [[ 63  61  67]\n",
      "   [ 59  58  61]\n",
      "   [ 55  55  56]\n",
      "   ...\n",
      "   [255 216 182]\n",
      "   [247 206 156]\n",
      "   [248 215 173]]\n",
      "\n",
      "  [[ 62  61  66]\n",
      "   [ 61  60  60]\n",
      "   [ 57  55  56]\n",
      "   ...\n",
      "   [250 206 190]\n",
      "   [233 187 147]\n",
      "   [231 191 161]]\n",
      "\n",
      "  [[ 67  62  66]\n",
      "   [ 61  57  58]\n",
      "   [ 55  53  55]\n",
      "   ...\n",
      "   [240 205 186]\n",
      "   [224 200 162]\n",
      "   [213 196 165]]]\n",
      "\n",
      "\n",
      " [[[223 222 220]\n",
      "   [226 224 221]\n",
      "   [186 194 206]\n",
      "   ...\n",
      "   [221 229 226]\n",
      "   [224 233 229]\n",
      "   [220 229 224]]\n",
      "\n",
      "  [[255 255 255]\n",
      "   [255 255 255]\n",
      "   [236 242 245]\n",
      "   ...\n",
      "   [228 231 230]\n",
      "   [227 232 232]\n",
      "   [224 231 228]]\n",
      "\n",
      "  [[252 253 250]\n",
      "   [255 255 255]\n",
      "   [244 246 247]\n",
      "   ...\n",
      "   [231 232 230]\n",
      "   [229 231 229]\n",
      "   [228 233 231]]\n",
      "\n",
      "  ...\n",
      "\n",
      "  [[254 254 252]\n",
      "   [254 254 251]\n",
      "   [254 254 254]\n",
      "   ...\n",
      "   [236 238 239]\n",
      "   [231 233 232]\n",
      "   [230 235 230]]\n",
      "\n",
      "  [[254 254 252]\n",
      "   [253 254 252]\n",
      "   [253 254 254]\n",
      "   ...\n",
      "   [232 238 232]\n",
      "   [234 237 233]\n",
      "   [232 234 232]]\n",
      "\n",
      "  [[254 255 253]\n",
      "   [253 254 251]\n",
      "   [254 255 254]\n",
      "   ...\n",
      "   [231 239 234]\n",
      "   [231 235 234]\n",
      "   [234 233 229]]]\n",
      "\n",
      "\n",
      " [[[ 38  33  32]\n",
      "   [ 40  34  34]\n",
      "   [ 41  34  35]\n",
      "   ...\n",
      "   [ 49  47  46]\n",
      "   [ 49  46  44]\n",
      "   [ 52  45  42]]\n",
      "\n",
      "  [[ 40  34  32]\n",
      "   [ 41  35  34]\n",
      "   [ 43  36  36]\n",
      "   ...\n",
      "   [ 47  45  44]\n",
      "   [ 46  43  41]\n",
      "   [ 49  43  40]]\n",
      "\n",
      "  [[ 42  34  33]\n",
      "   [ 41  33  32]\n",
      "   [ 40  34  34]\n",
      "   ...\n",
      "   [ 47  44  43]\n",
      "   [ 50  43  41]\n",
      "   [ 53  46  44]]\n",
      "\n",
      "  ...\n",
      "\n",
      "  [[ 44  38  37]\n",
      "   [ 43  37  37]\n",
      "   [ 43  39  38]\n",
      "   ...\n",
      "   [ 43  36  36]\n",
      "   [ 44  40  40]\n",
      "   [ 50  46  46]]\n",
      "\n",
      "  [[ 46  39  37]\n",
      "   [ 43  37  38]\n",
      "   [ 42  40  40]\n",
      "   ...\n",
      "   [ 38  34  32]\n",
      "   [ 42  40  37]\n",
      "   [ 46  44  39]]\n",
      "\n",
      "  [[ 47  41  43]\n",
      "   [ 44  39  38]\n",
      "   [ 41  39  38]\n",
      "   ...\n",
      "   [ 39  35  32]\n",
      "   [ 38  35  32]\n",
      "   [ 43  40  37]]]]\n"
     ]
    }
   ],
   "source": [
    "print(original_train)"
   ]
  },
  {
   "cell_type": "code",
   "execution_count": 255,
   "id": "fd9212ff",
   "metadata": {},
   "outputs": [
    {
     "name": "stdout",
     "output_type": "stream",
     "text": [
      "(95460, 32, 32, 3)\n"
     ]
    }
   ],
   "source": [
    "print(original_train.shape)"
   ]
  },
  {
   "cell_type": "code",
   "execution_count": 256,
   "id": "fea8801c",
   "metadata": {},
   "outputs": [],
   "source": [
    "original_train =original_train.astype('float32')/255.0 "
   ]
  },
  {
   "cell_type": "code",
   "execution_count": 257,
   "id": "3c8fac8a",
   "metadata": {},
   "outputs": [
    {
     "name": "stdout",
     "output_type": "stream",
     "text": [
      "Maximum pixel value: 1.0\n",
      "Minimum pixel value: 0.0\n"
     ]
    }
   ],
   "source": [
    "max_value = np.max(original_train)\n",
    "min_value = np.min(original_train)\n",
    "print(\"Maximum pixel value:\", max_value)\n",
    "print(\"Minimum pixel value:\", min_value)"
   ]
  },
  {
   "cell_type": "code",
   "execution_count": 258,
   "id": "0808f157",
   "metadata": {},
   "outputs": [
    {
     "data": {
      "image/png": "[encoded data removed]",
      "text/plain": [
       "<Figure size 1000x1000 with 5 Axes>"
      ]
     },
     "metadata": {},
     "output_type": "display_data"
    }
   ],
   "source": [
    "num_images = 5\n",
    "images = original_train[:num_images]\n",
    "\n",
    "# Display the images\n",
    "fig, axs = plt.subplots(1, num_images, figsize=(10, 10))\n",
    "for i in range(num_images):\n",
    "    axs[i].imshow(images[i])\n",
    "    axs[i].axis('off')\n",
    "plt.show()"
   ]
  },
  {
   "cell_type": "code",
   "execution_count": 259,
   "id": "5353644e",
   "metadata": {},
   "outputs": [],
   "source": [
    "# Load the data with noise added\n",
    "noisy_train = np.load('/Users/xinyu/Downloads/noisy_training.npy')"
   ]
  },
  {
   "cell_type": "code",
   "execution_count": 260,
   "id": "daecaabd",
   "metadata": {},
   "outputs": [
    {
     "name": "stdout",
     "output_type": "stream",
     "text": [
      "[[[[0.94509291 0.96072069 0.9134108 ]\n",
      "   [0.79577509 1.         0.85024139]\n",
      "   [0.97882846 0.97563394 0.85039027]\n",
      "   ...\n",
      "   [0.89050754 1.         0.87407183]\n",
      "   [0.98919572 1.         0.95115111]\n",
      "   [0.92072082 0.97342284 0.91186438]]\n",
      "\n",
      "  [[0.97284576 0.95586043 0.90373644]\n",
      "   [0.9390784  1.         0.89121266]\n",
      "   [0.9491018  0.97018584 0.78276212]\n",
      "   ...\n",
      "   [0.9506112  1.         0.89834631]\n",
      "   [0.94126845 1.         0.97375394]\n",
      "   [0.84459862 1.         0.95365493]]\n",
      "\n",
      "  [[0.93913914 0.99784681 0.92527942]\n",
      "   [0.88305785 0.99252652 0.93041087]\n",
      "   [0.91000618 0.89614722 0.93729248]\n",
      "   ...\n",
      "   [0.92749181 0.9124723  0.97213496]\n",
      "   [0.99101137 0.94199754 0.89991337]\n",
      "   [0.95389765 1.         0.94087955]]\n",
      "\n",
      "  ...\n",
      "\n",
      "  [[0.76710226 1.         0.93201475]\n",
      "   [0.9308711  0.85684552 0.80611415]\n",
      "   [0.95110664 1.         0.84233801]\n",
      "   ...\n",
      "   [0.86131573 0.97872846 0.93909401]\n",
      "   [0.95706232 0.99481219 0.88331919]\n",
      "   [0.87159059 1.         0.95504079]]\n",
      "\n",
      "  [[0.89674333 0.90826828 0.87364126]\n",
      "   [1.         1.         0.83458803]\n",
      "   [0.92825471 0.94964063 0.78288447]\n",
      "   ...\n",
      "   [0.94908939 1.         0.94616813]\n",
      "   [0.97863785 0.95840376 0.89451921]\n",
      "   [0.99184854 1.         0.85621781]]\n",
      "\n",
      "  [[0.84609943 1.         0.91396148]\n",
      "   [0.85131357 0.97430319 0.98794146]\n",
      "   [0.91372213 0.94691386 0.92553326]\n",
      "   ...\n",
      "   [0.90724528 0.93913428 0.89496941]\n",
      "   [0.82133328 1.         0.88782989]\n",
      "   [0.89149369 0.97559107 0.92124747]]]\n",
      "\n",
      "\n",
      " [[[0.85865843 0.89419063 1.        ]\n",
      "   [0.84394135 0.95523468 0.94844799]\n",
      "   [0.88175846 0.94341031 1.        ]\n",
      "   ...\n",
      "   [0.86792048 0.87362236 0.77553163]\n",
      "   [0.65608487 0.74684232 0.7663296 ]\n",
      "   [1.         0.88853403 0.89330994]]\n",
      "\n",
      "  [[0.82663917 0.86242819 0.95758173]\n",
      "   [0.97999936 0.91189974 0.99339176]\n",
      "   [1.         0.85617774 0.96586246]\n",
      "   ...\n",
      "   [0.78691464 0.81278678 0.95013092]\n",
      "   [0.81756235 0.80760421 0.97088337]\n",
      "   [0.65772194 0.612997   0.96219599]]\n",
      "\n",
      "  [[0.76373341 0.99910349 0.9703728 ]\n",
      "   [0.7971877  0.89539068 1.        ]\n",
      "   [0.89815779 0.86717322 1.        ]\n",
      "   ...\n",
      "   [0.46632781 0.64716278 0.75699627]\n",
      "   [0.37799364 0.57475086 0.92303908]\n",
      "   [0.32674142 0.41164505 0.84237398]]\n",
      "\n",
      "  ...\n",
      "\n",
      "  [[0.50440114 0.71889843 0.93931216]\n",
      "   [0.5846484  0.70143647 0.97675036]\n",
      "   [0.5902216  0.72354409 0.90886957]\n",
      "   ...\n",
      "   [0.29102087 0.35981074 0.34190648]\n",
      "   [0.59823812 0.45955318 0.41209213]\n",
      "   [0.69142074 0.67036748 0.65377501]]\n",
      "\n",
      "  [[0.52896941 0.62934483 0.80754701]\n",
      "   [0.69489248 0.64581561 0.82138652]\n",
      "   [0.52636115 0.77996782 0.98408793]\n",
      "   ...\n",
      "   [0.30725147 0.43348604 0.42388296]\n",
      "   [0.38377993 0.58403953 0.46886208]\n",
      "   [0.79266144 0.6450566  0.62910339]]\n",
      "\n",
      "  [[0.59335141 0.66860888 0.83224601]\n",
      "   [0.64237812 0.7291588  0.85767934]\n",
      "   [0.78867904 0.66465998 0.99186806]\n",
      "   ...\n",
      "   [0.30902639 0.34237726 0.31495938]\n",
      "   [0.4717087  0.50029886 0.43382714]\n",
      "   [0.72396095 0.61808715 0.52267379]]]\n",
      "\n",
      "\n",
      " [[[0.50899133 0.43118592 0.50191587]\n",
      "   [0.47777543 0.43843176 0.62251355]\n",
      "   [0.5741735  0.50416496 0.74261194]\n",
      "   ...\n",
      "   [0.38182968 0.33724704 0.19960202]\n",
      "   [0.2595571  0.32575011 0.37717636]\n",
      "   [0.32762187 0.48740986 0.51334542]]\n",
      "\n",
      "  [[0.44788456 0.51564586 0.42050355]\n",
      "   [0.37992949 0.57266972 0.47267753]\n",
      "   [0.37291422 0.48170767 0.39769737]\n",
      "   ...\n",
      "   [0.19556385 0.27174124 0.34034182]\n",
      "   [0.23397159 0.27137008 0.39648057]\n",
      "   [0.33463235 0.25470082 0.43300912]]\n",
      "\n",
      "  [[0.29874863 0.23276632 0.46000614]\n",
      "   [0.42779381 0.48822918 0.61256202]\n",
      "   [0.54318295 0.39098691 0.47889157]\n",
      "   ...\n",
      "   [0.45857876 0.31669839 0.28962151]\n",
      "   [0.451146   0.1584002  0.22994932]\n",
      "   [0.38307659 0.33770981 0.35458201]]\n",
      "\n",
      "  ...\n",
      "\n",
      "  [[0.88389241 0.68058831 0.92400999]\n",
      "   [0.78260555 0.94547065 0.66027568]\n",
      "   [0.76234502 0.76134378 0.62747878]\n",
      "   ...\n",
      "   [0.24372795 0.46568327 0.26371201]\n",
      "   [0.46296978 0.38722232 0.31241043]\n",
      "   [0.2637475  0.29749598 0.33743306]]\n",
      "\n",
      "  [[0.91065576 0.81443013 0.75407739]\n",
      "   [0.73120674 0.76341415 0.7168684 ]\n",
      "   [0.64664998 0.62295084 0.88964149]\n",
      "   ...\n",
      "   [0.27358744 0.41072317 0.25743913]\n",
      "   [0.43362118 0.2886375  0.18534654]\n",
      "   [0.35955077 0.39036537 0.45978284]]\n",
      "\n",
      "  [[0.91557259 0.94321036 0.88623906]\n",
      "   [0.78317838 0.54243784 0.67863217]\n",
      "   [0.61539662 0.63287469 0.49113281]\n",
      "   ...\n",
      "   [0.20652256 0.47418475 0.22709833]\n",
      "   [0.31358517 0.27334299 0.40692037]\n",
      "   [0.27063466 0.48269302 0.33997268]]]\n",
      "\n",
      "\n",
      " ...\n",
      "\n",
      "\n",
      " [[[0.36273164 0.33427181 0.31942737]\n",
      "   [0.36905833 0.32033765 0.3499783 ]\n",
      "   [0.3850332  0.30553962 0.3571519 ]\n",
      "   ...\n",
      "   [0.34985257 0.28553889 0.30503507]\n",
      "   [0.37073655 0.31961897 0.32801032]\n",
      "   [0.34953656 0.28087772 0.34225706]]\n",
      "\n",
      "  [[0.35769452 0.30428652 0.33150341]\n",
      "   [0.35592138 0.29668992 0.28827327]\n",
      "   [0.35526681 0.31655637 0.31610749]\n",
      "   ...\n",
      "   [0.2935979  0.28883306 0.31590537]\n",
      "   [0.3472214  0.24568165 0.31614613]\n",
      "   [0.35786155 0.28977771 0.32358346]]\n",
      "\n",
      "  [[0.37809351 0.32603556 0.31205425]\n",
      "   [0.28776135 0.31328554 0.35366206]\n",
      "   [0.34258338 0.296761   0.33426652]\n",
      "   ...\n",
      "   [0.36435118 0.27840273 0.30581552]\n",
      "   [0.33303324 0.32434554 0.31827612]\n",
      "   [0.30144125 0.26139267 0.36345582]]\n",
      "\n",
      "  ...\n",
      "\n",
      "  [[0.30285464 0.27739175 0.29705147]\n",
      "   [0.32211237 0.22715712 0.26527   ]\n",
      "   [0.28908666 0.27704394 0.28874259]\n",
      "   ...\n",
      "   [0.32051656 0.27739211 0.32824165]\n",
      "   [0.33119908 0.26844623 0.33035577]\n",
      "   [0.33337844 0.25070297 0.34009778]]\n",
      "\n",
      "  [[0.31549835 0.24322744 0.26426739]\n",
      "   [0.32423252 0.27411201 0.31835929]\n",
      "   [0.30435061 0.29922011 0.30431774]\n",
      "   ...\n",
      "   [0.34322885 0.31204792 0.30535895]\n",
      "   [0.35149237 0.27170978 0.32788512]\n",
      "   [0.31930511 0.32958608 0.29395522]]\n",
      "\n",
      "  [[0.34430998 0.25045777 0.31238351]\n",
      "   [0.2985015  0.26184289 0.31377649]\n",
      "   [0.36583171 0.24951584 0.27568328]\n",
      "   ...\n",
      "   [0.32318802 0.24472785 0.36957188]\n",
      "   [0.35036967 0.33171335 0.32470457]\n",
      "   [0.33646668 0.29808278 0.2987305 ]]]\n",
      "\n",
      "\n",
      " [[[0.75177767 0.66896928 0.62445685]\n",
      "   [0.76718449 0.68560269 0.7110898 ]\n",
      "   [0.46863773 0.47868569 0.48216402]\n",
      "   ...\n",
      "   [0.41548716 0.54514558 0.46624555]\n",
      "   [0.39309615 0.481281   0.42188883]\n",
      "   [0.55028612 0.46065437 0.41273141]]\n",
      "\n",
      "  [[0.71932833 0.6862594  0.59599977]\n",
      "   [0.51788503 0.46172255 0.51431869]\n",
      "   [0.29492143 0.2934253  0.27296246]\n",
      "   ...\n",
      "   [0.46000343 0.44596874 0.37091737]\n",
      "   [0.45040733 0.38939222 0.4101216 ]\n",
      "   [0.4567398  0.48331757 0.46546135]]\n",
      "\n",
      "  [[0.47738296 0.51041439 0.48422445]\n",
      "   [0.17747045 0.2921926  0.20909492]\n",
      "   [0.15002948 0.24856706 0.18552652]\n",
      "   ...\n",
      "   [0.44164216 0.44920923 0.40685613]\n",
      "   [0.41942818 0.45171864 0.37277617]\n",
      "   [0.47752338 0.44688409 0.43007671]]\n",
      "\n",
      "  ...\n",
      "\n",
      "  [[0.83965741 0.80168964 0.72115465]\n",
      "   [0.73795864 0.71532855 0.7721448 ]\n",
      "   [0.60116119 0.62390542 0.67396687]\n",
      "   ...\n",
      "   [0.27378929 0.29045605 0.28124294]\n",
      "   [0.28953138 0.24702215 0.30780159]\n",
      "   [0.34671506 0.36480556 0.29818201]]\n",
      "\n",
      "  [[0.77256731 0.79131123 0.75389286]\n",
      "   [0.7261231  0.76120796 0.67557306]\n",
      "   [0.55930183 0.63592855 0.72497877]\n",
      "   ...\n",
      "   [0.38476643 0.35709935 0.31674425]\n",
      "   [0.31454506 0.3817412  0.30084422]\n",
      "   [0.39479735 0.294857   0.34359357]]\n",
      "\n",
      "  [[0.84110603 0.76828028 0.78276997]\n",
      "   [0.76324319 0.7033902  0.69049143]\n",
      "   [0.68151336 0.63355798 0.66365798]\n",
      "   ...\n",
      "   [0.31964414 0.4222422  0.34771806]\n",
      "   [0.30352483 0.34818978 0.31418335]\n",
      "   [0.37276564 0.37437442 0.35530238]]]\n",
      "\n",
      "\n",
      " [[[0.4102087  0.37889616 0.41044758]\n",
      "   [0.56389321 0.47976044 0.27151649]\n",
      "   [0.4854953  0.46132747 0.34636568]\n",
      "   ...\n",
      "   [0.54817304 0.27324336 0.49631467]\n",
      "   [0.50951133 0.31644229 0.42398002]\n",
      "   [0.48081489 0.55089006 0.52129222]]\n",
      "\n",
      "  [[0.44860437 0.28498999 0.36890136]\n",
      "   [0.37382212 0.34513132 0.33705159]\n",
      "   [0.45825386 0.31831819 0.34887687]\n",
      "   ...\n",
      "   [0.55612064 0.44405957 0.44486757]\n",
      "   [0.54146014 0.59993747 0.42748684]\n",
      "   [0.4753549  0.44053511 0.34330661]]\n",
      "\n",
      "  [[0.44914709 0.33734626 0.40215829]\n",
      "   [0.31148109 0.41790684 0.3387804 ]\n",
      "   [0.58904244 0.33151647 0.42174117]\n",
      "   ...\n",
      "   [0.55929963 0.39207001 0.48101174]\n",
      "   [0.47236246 0.59658968 0.38445987]\n",
      "   [0.45173194 0.55348542 0.56338385]]\n",
      "\n",
      "  ...\n",
      "\n",
      "  [[0.57012727 0.34806709 0.38192244]\n",
      "   [0.67992252 0.3796937  0.47306009]\n",
      "   [0.65304622 0.40663496 0.27126753]\n",
      "   ...\n",
      "   [0.58365196 0.40836887 0.58756685]\n",
      "   [0.46516883 0.46267022 0.36748534]\n",
      "   [0.52404274 0.44249852 0.32562373]]\n",
      "\n",
      "  [[0.42998153 0.58585217 0.4357462 ]\n",
      "   [0.47625363 0.30098015 0.4006111 ]\n",
      "   [0.47042874 0.45603837 0.444294  ]\n",
      "   ...\n",
      "   [0.48655354 0.31927842 0.55902084]\n",
      "   [0.49813106 0.46479831 0.47728332]\n",
      "   [0.62226623 0.31859877 0.36177779]]\n",
      "\n",
      "  [[0.40543408 0.49565705 0.4268741 ]\n",
      "   [0.32433446 0.32937053 0.47073659]\n",
      "   [0.58469692 0.47850635 0.4640661 ]\n",
      "   ...\n",
      "   [0.43757181 0.39346368 0.4307844 ]\n",
      "   [0.3627867  0.42161604 0.36895131]\n",
      "   [0.62519833 0.46400429 0.36009993]]]]\n"
     ]
    }
   ],
   "source": [
    "print(noisy_train)"
   ]
  },
  {
   "cell_type": "code",
   "execution_count": 261,
   "id": "0073da7d",
   "metadata": {},
   "outputs": [
    {
     "name": "stdout",
     "output_type": "stream",
     "text": [
      "Maximum pixel value: 1.0\n",
      "Minimum pixel value: 0.0\n"
     ]
    }
   ],
   "source": [
    "# Find the range of pixel values in the image data\n",
    "max_value = np.max(noisy_train)\n",
    "min_value = np.min(noisy_train)\n",
    "print(\"Maximum pixel value:\", max_value)\n",
    "print(\"Minimum pixel value:\", min_value)"
   ]
  },
  {
   "cell_type": "code",
   "execution_count": 262,
   "id": "6c05593f",
   "metadata": {},
   "outputs": [
    {
     "name": "stdout",
     "output_type": "stream",
     "text": [
      "Pixel mean: 0.5106262173898898\n",
      "Pixel standard deviation: 0.25190882925364866\n"
     ]
    }
   ],
   "source": [
    "# Calculate the mean and standard deviation of the pixel values\n",
    "pixel_mean = np.mean(noisy_train)\n",
    "pixel_std = np.std(noisy_train)\n",
    "\n",
    "print(\"Pixel mean:\", pixel_mean)\n",
    "print(\"Pixel standard deviation:\", pixel_std)"
   ]
  },
  {
   "cell_type": "code",
   "execution_count": 263,
   "id": "8dce4379",
   "metadata": {},
   "outputs": [
    {
     "name": "stdout",
     "output_type": "stream",
     "text": [
      "(95460, 32, 32, 3)\n"
     ]
    }
   ],
   "source": [
    "# Get the shape of the data\n",
    "print(noisy_train.shape)"
   ]
  },
  {
   "cell_type": "code",
   "execution_count": 264,
   "id": "91f61b00",
   "metadata": {},
   "outputs": [
    {
     "data": {
      "image/png": "[encoded data removed]",
      "text/plain": [
       "<Figure size 1000x1000 with 5 Axes>"
      ]
     },
     "metadata": {},
     "output_type": "display_data"
    }
   ],
   "source": [
    "num_images = 5\n",
    "images = noisy_train[:num_images]\n",
    "\n",
    "# Display the images\n",
    "fig, axs = plt.subplots(1, num_images, figsize=(10, 10))\n",
    "for i in range(num_images):\n",
    "    axs[i].imshow(images[i])\n",
    "    axs[i].axis('off')\n",
    "plt.show()"
   ]
  },
  {
   "cell_type": "code",
   "execution_count": 265,
   "id": "8e68d592",
   "metadata": {},
   "outputs": [],
   "source": [
    "# Split the data into training and testing sets\n",
    "#\n",
    "n_original = original_train.shape[0]\n",
    "n_train = int(n_original * 0.9)\n",
    "n_test = n_original - n_train\n",
    "\n",
    "x_train_noisy = noisy_train[:n_train]\n",
    "x_train_original = original_train[:n_train]\n",
    "x_test_noisy = noisy_train[n_train:]\n",
    "x_test_original = original_train[n_train:]"
   ]
  },
  {
   "cell_type": "code",
   "execution_count": 266,
   "id": "048a83c1",
   "metadata": {},
   "outputs": [
    {
     "name": "stdout",
     "output_type": "stream",
     "text": [
      "95460\n",
      "85914\n",
      "9546\n"
     ]
    }
   ],
   "source": [
    "print(n_original)\n",
    "print(n_train)\n",
    "print(n_test)"
   ]
  },
  {
   "cell_type": "code",
   "execution_count": 267,
   "id": "8dafc1e2",
   "metadata": {},
   "outputs": [],
   "source": [
    "from tensorflow.keras.models import Model\n",
    "from tensorflow.keras.layers import Input, Conv2D, MaxPooling2D, Flatten, Dense"
   ]
  },
  {
   "cell_type": "code",
   "execution_count": 268,
   "id": "1796e889",
   "metadata": {},
   "outputs": [],
   "source": [
    "# Encoder\n",
    "input_shape = (32, 32, 3)\n",
    "input_img = Input(shape=input_shape)\n",
    "x = Conv2D(48, (3, 3), activation='relu', padding='same')(input_img)\n",
    "x = MaxPooling2D((2, 2), padding='same')(x)\n",
    "x = Conv2D(96, (3, 3), activation='relu', padding='same')(x)\n",
    "x = MaxPooling2D((2, 2), padding='same')(x)\n",
    "x = Conv2D(192, (3, 3), activation='relu', padding='same')(x)\n",
    "x = MaxPooling2D((2, 2), padding='same')(x)\n",
    "encoded = Conv2D(32, (1, 1), activation='relu', padding='same')(x)\n"
   ]
  },
  {
   "cell_type": "code",
   "execution_count": 269,
   "id": "e14ee566",
   "metadata": {},
   "outputs": [],
   "source": [
    "# LATENT SPACE\n",
    "latentSize = (4,4,32)"
   ]
  },
  {
   "cell_type": "code",
   "execution_count": 270,
   "id": "da138e0a",
   "metadata": {},
   "outputs": [],
   "source": [
    "# Decoder\n",
    "direct_input = Input(shape=latentSize)\n",
    "x = Conv2D(192, (1, 1), activation='relu', padding='same')(direct_input)\n",
    "x = UpSampling2D((2, 2))(x)\n",
    "x = Conv2D(192, (3, 3), activation='relu', padding='same')(x)\n",
    "x = UpSampling2D((2, 2))(x)\n",
    "x = Conv2D(96, (3, 3), activation='relu', padding='same')(x)\n",
    "x = UpSampling2D((2, 2))(x)\n",
    "x = Conv2D(48, (3, 3), activation='relu', padding='same')(x)\n",
    "decoded = Conv2D(3, (3, 3), activation='sigmoid', padding='same')(x)"
   ]
  },
  {
   "cell_type": "code",
   "execution_count": 271,
   "id": "9971cdbd",
   "metadata": {},
   "outputs": [
    {
     "name": "stdout",
     "output_type": "stream",
     "text": [
      "Model: \"model_27\"\n",
      "_________________________________________________________________\n",
      " Layer (type)                Output Shape              Param #   \n",
      "=================================================================\n",
      " input_25 (InputLayer)       [(None, 32, 32, 3)]       0         \n",
      "                                                                 \n",
      " conv2d_94 (Conv2D)          (None, 32, 32, 48)        1344      \n",
      "                                                                 \n",
      " max_pooling2d_35 (MaxPoolin  (None, 16, 16, 48)       0         \n",
      " g2D)                                                            \n",
      "                                                                 \n",
      " conv2d_95 (Conv2D)          (None, 16, 16, 96)        41568     \n",
      "                                                                 \n",
      " max_pooling2d_36 (MaxPoolin  (None, 8, 8, 96)         0         \n",
      " g2D)                                                            \n",
      "                                                                 \n",
      " conv2d_96 (Conv2D)          (None, 8, 8, 192)         166080    \n",
      "                                                                 \n",
      " max_pooling2d_37 (MaxPoolin  (None, 4, 4, 192)        0         \n",
      " g2D)                                                            \n",
      "                                                                 \n",
      " conv2d_97 (Conv2D)          (None, 4, 4, 32)          6176      \n",
      "                                                                 \n",
      " model_26 (Functional)       (None, 32, 32, 3)         547107    \n",
      "                                                                 \n",
      "=================================================================\n",
      "Total params: 762,275\n",
      "Trainable params: 762,275\n",
      "Non-trainable params: 0\n",
      "_________________________________________________________________\n"
     ]
    }
   ],
   "source": [
    "# Define the model\n",
    "encoder = Model(input_img, encoded)\n",
    "decoder = Model(direct_input, decoded)\n",
    "autoencoder = Model(input_img, decoder(encoded))\n",
    "\n",
    "autoencoder.summary()"
   ]
  },
  {
   "cell_type": "code",
   "execution_count": 272,
   "id": "997f5c55",
   "metadata": {},
   "outputs": [],
   "source": [
    "# Compile the model\n",
    "autoencoder.compile(optimizer='Adam', loss='binary_crossentropy')"
   ]
  },
  {
   "cell_type": "markdown",
   "id": "b50a4432",
   "metadata": {},
   "source": [
    "## Train Autoencoder"
   ]
  },
  {
   "cell_type": "code",
   "execution_count": 273,
   "id": "615ff420",
   "metadata": {},
   "outputs": [
    {
     "name": "stdout",
     "output_type": "stream",
     "text": [
      "Epoch 1/5\n",
      "2685/2685 [==============================] - 138s 51ms/step - loss: 0.6703\n",
      "Epoch 2/5\n",
      "2685/2685 [==============================] - 137s 51ms/step - loss: 0.6463\n",
      "Epoch 3/5\n",
      "2685/2685 [==============================] - 137s 51ms/step - loss: 0.5994\n",
      "Epoch 4/5\n",
      "2685/2685 [==============================] - 137s 51ms/step - loss: 0.5789\n",
      "Epoch 5/5\n",
      "2685/2685 [==============================] - 1278s 476ms/step - loss: 0.5678\n"
     ]
    },
    {
     "data": {
      "text/plain": [
       "<keras.callbacks.History at 0x2e76c6e00>"
      ]
     },
     "execution_count": 273,
     "metadata": {},
     "output_type": "execute_result"
    }
   ],
   "source": [
    "# Train the model\n",
    "autoencoder.fit(x_train_noisy, x_train_original, epochs=5)"
   ]
  },
  {
   "cell_type": "code",
   "execution_count": 274,
   "id": "7506eb69",
   "metadata": {},
   "outputs": [],
   "source": [
    "# save the trained model\n",
    "autoencoder.save('denoising_autoencoder.h5')"
   ]
  },
  {
   "cell_type": "markdown",
   "id": "f4d0b50c",
   "metadata": {},
   "source": [
    "## View Reconstruction"
   ]
  },
  {
   "cell_type": "code",
   "execution_count": 279,
   "id": "d4017809",
   "metadata": {},
   "outputs": [
    {
     "data": {
      "image/png": "[encoded data removed]",
      "text/plain": [
       "<Figure size 1000x1000 with 5 Axes>"
      ]
     },
     "metadata": {},
     "output_type": "display_data"
    }
   ],
   "source": [
    "# Testing original images\n",
    "num_images = 5\n",
    "images = x_test_original[:num_images]\n",
    "\n",
    "# Display the images\n",
    "fig, axs = plt.subplots(1, num_images, figsize=(10, 10))\n",
    "for i in range(num_images):\n",
    "    axs[i].imshow(images[i])\n",
    "    axs[i].axis('off')\n",
    "plt.show()"
   ]
  },
  {
   "cell_type": "code",
   "execution_count": 280,
   "id": "bacfd6a2",
   "metadata": {},
   "outputs": [
    {
     "data": {
      "image/png": "[encoded data removed]",
      "text/plain": [
       "<Figure size 1000x1000 with 5 Axes>"
      ]
     },
     "metadata": {},
     "output_type": "display_data"
    }
   ],
   "source": [
    "# Testing noisy images\n",
    "num_images = 5\n",
    "images = x_test_noisy[:num_images]\n",
    "\n",
    "# Display the images\n",
    "fig, axs = plt.subplots(1, num_images, figsize=(10, 10))\n",
    "for i in range(num_images):\n",
    "    axs[i].imshow(images[i])\n",
    "    axs[i].axis('off')\n",
    "plt.show()"
   ]
  },
  {
   "cell_type": "code",
   "execution_count": 275,
   "id": "b68c3d8b",
   "metadata": {},
   "outputs": [],
   "source": [
    "import matplotlib.pyplot as plt\n",
    "from tensorflow.keras.models import load_model"
   ]
  },
  {
   "cell_type": "code",
   "execution_count": 276,
   "id": "f60b90ac",
   "metadata": {},
   "outputs": [],
   "source": [
    "# Load the trained denoising autoencoder model\n",
    "loaded_autoencoder = tf.keras.models.load_model('denoising_autoencoder.h5')"
   ]
  },
  {
   "cell_type": "code",
   "execution_count": 277,
   "id": "deab83fe",
   "metadata": {},
   "outputs": [
    {
     "name": "stdout",
     "output_type": "stream",
     "text": [
      "299/299 [==============================] - 8s 26ms/step\n"
     ]
    }
   ],
   "source": [
    "# Use the denoising autoencoder to reconstruct the testing data\n",
    "test_reconstructed = loaded_autoencoder.predict(x_test_noisy)"
   ]
  },
  {
   "cell_type": "code",
   "execution_count": 282,
   "id": "32db4cda",
   "metadata": {},
   "outputs": [
    {
     "data": {
      "image/png": "[encoded data removed]",
      "text/plain": [
       "<Figure size 2000x400 with 10 Axes>"
      ]
     },
     "metadata": {},
     "output_type": "display_data"
    }
   ],
   "source": [
    "# Visualize the original testing data and the reconstructed data\n",
    "n = 5  # Number of images to visualize\n",
    "plt.figure(figsize=(20, 4))\n",
    "for i in range(n):\n",
    "    # Original images\n",
    "    ax = plt.subplot(2, n, i + 1)\n",
    "    plt.imshow(x_test_noisy[i])\n",
    "    plt.title('Noisy')\n",
    "    plt.gray()\n",
    "    ax.get_xaxis().set_visible(False)\n",
    "    ax.get_yaxis().set_visible(False)\n",
    "    \n",
    "    # Reconstructed images\n",
    "    ax = plt.subplot(2, n, i + n + 1)\n",
    "    plt.imshow(test_reconstructed[i])\n",
    "    plt.title('Dinoised')\n",
    "    plt.gray()\n",
    "    ax.get_xaxis().set_visible(False)\n",
    "    ax.get_yaxis().set_visible(False)\n",
    "plt.show()"
   ]
  },
  {
   "cell_type": "code",
   "execution_count": null,
   "id": "c4bc0880",
   "metadata": {},
   "outputs": [],
   "source": []
  }
 ],
 "metadata": {
  "kernelspec": {
   "display_name": "Python 3.10 (tensorflow)",
   "language": "python",
   "name": "tensorflow"
  },
  "language_info": {
   "codemirror_mode": {
    "name": "ipython",
    "version": 3
   },
   "file_extension": ".py",
   "mimetype": "text/x-python",
   "name": "python",
   "nbconvert_exporter": "python",
   "pygments_lexer": "ipython3",
   "version": "3.10.10"
  }
 },
 "nbformat": 4,
 "nbformat_minor": 5
}
