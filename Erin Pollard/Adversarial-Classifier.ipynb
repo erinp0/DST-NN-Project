{
 "cells": [
  {
   "cell_type": "markdown",
   "id": "7ee93cc2",
   "metadata": {},
   "source": [
    "# Classifying adversarial images"
   ]
  },
  {
   "cell_type": "markdown",
   "id": "20fc85c8",
   "metadata": {},
   "source": [
    "In order to aid in the correct classification of traffic signs, we wanted to explore designing a binary classifier which could distinguish between adversarial images and untampered images. In this notebook, the class label 1 represents an adversarial image and the class label 0 represents an untampered image."
   ]
  },
  {
   "cell_type": "markdown",
   "id": "fbc2ea2a",
   "metadata": {},
   "source": [
    "The idea would be to run images through this classifier first, before inputting the images into the multiclass CNN. The output from this binary classifier would serve as an additional feature for the multiclass CNN and would advise on whether the image it was classifying has been perturbed. "
   ]
  },
  {
   "cell_type": "markdown",
   "id": "f7b7ab66",
   "metadata": {},
   "source": [
    "First, import the necessary packages."
   ]
  },
  {
   "cell_type": "code",
   "execution_count": 1,
   "id": "bb595346",
   "metadata": {},
   "outputs": [],
   "source": [
    "import numpy as np\n",
    "import pandas as pd\n",
    "import os\n",
    "import cv2\n",
    "import matplotlib.pyplot as plt\n",
    "import tensorflow as tf\n",
    "from tensorflow import keras\n",
    "from PIL import Image\n",
    "from sklearn.model_selection import train_test_split\n",
    "from tensorflow.keras.preprocessing.image import ImageDataGenerator\n",
    "from tensorflow.keras.optimizers import Adam\n",
    "from sklearn.metrics import accuracy_score\n",
    "np.random.seed(42)\n",
    "\n",
    "from matplotlib import style\n",
    "style.use('fivethirtyeight')"
   ]
  },
  {
   "cell_type": "markdown",
   "id": "17b43242",
   "metadata": {},
   "source": [
    "Next, define the file paths for the adversarial images and real images. If you would like to replicate this notebook, the adversarial images can be found [here](https://drive.google.com/drive/u/0/folders/1B7XcUAJHHn1rkReNK7sENGZ61y_A8OY8). The untampered image dataset can be found [here](https://www.kaggle.com/datasets/meowmeowmeowmeowmeow/gtsrb-german-traffic-sign). Once downloaded, you can edit the file paths below to match your desktop file paths."
   ]
  },
  {
   "cell_type": "code",
   "execution_count": 3,
   "id": "aa248320",
   "metadata": {},
   "outputs": [],
   "source": [
    "#untampered dataset, stored as image files within folders\n",
    "data_dir = \"C:\\\\Users\\\\Team Knowhow\\\\Documents\\\\YEAR 4\\\\Data Science Toolbox\\\\DST-NN-Project\\\\Erin Pollard\"\n",
    "untampered_train_path = \"C:\\\\Users\\\\Team Knowhow\\\\Documents\\\\YEAR 4\\\\Data Science Toolbox\\\\DST-NN-Project\\\\Erin Pollard\\\\Train\"\n",
    "\n",
    "#adversarial image dataset, stored as 4 npy files - 4 types of adversarial attacks\n",
    "adv_data1 = np.load('noisy_training-004.npy')\n",
    "adv_data2 = np.load('black_patched_training-001.npy')\n",
    "adv_data3 = np.load('white_patched_training-002.npy')\n",
    "adv_data4 = np.load('same_image_patched_training-003.npy')"
   ]
  },
  {
   "cell_type": "code",
   "execution_count": null,
   "id": "ef39b1d7",
   "metadata": {},
   "outputs": [],
   "source": []
  },
  {
   "cell_type": "markdown",
   "id": "087f598f",
   "metadata": {},
   "source": [
    "Rather than 4 separate arrays, we would like just one array containing the adversarial images."
   ]
  },
  {
   "cell_type": "code",
   "execution_count": 7,
   "id": "df2ae26b",
   "metadata": {},
   "outputs": [
    {
     "ename": "MemoryError",
     "evalue": "Unable to allocate 8.74 GiB for an array with shape (381840, 32, 32, 3) and data type float64",
     "output_type": "error",
     "traceback": [
      "\u001b[1;31m---------------------------------------------------------------------------\u001b[0m",
      "\u001b[1;31mMemoryError\u001b[0m                               Traceback (most recent call last)",
      "Input \u001b[1;32mIn [7]\u001b[0m, in \u001b[0;36m<cell line: 1>\u001b[1;34m()\u001b[0m\n\u001b[1;32m----> 1\u001b[0m adv_total \u001b[38;5;241m=\u001b[39m \u001b[43mnp\u001b[49m\u001b[38;5;241;43m.\u001b[39;49m\u001b[43mconcatenate\u001b[49m\u001b[43m(\u001b[49m\u001b[43m(\u001b[49m\u001b[43madv_data1\u001b[49m\u001b[43m,\u001b[49m\u001b[43madv_data2\u001b[49m\u001b[43m,\u001b[49m\u001b[43madv_data3\u001b[49m\u001b[43m,\u001b[49m\u001b[43madv_data4\u001b[49m\u001b[43m)\u001b[49m\u001b[43m,\u001b[49m\u001b[43maxis\u001b[49m\u001b[38;5;241;43m=\u001b[39;49m\u001b[38;5;241;43m0\u001b[39;49m\u001b[43m)\u001b[49m\n",
      "File \u001b[1;32m<__array_function__ internals>:5\u001b[0m, in \u001b[0;36mconcatenate\u001b[1;34m(*args, **kwargs)\u001b[0m\n",
      "\u001b[1;31mMemoryError\u001b[0m: Unable to allocate 8.74 GiB for an array with shape (381840, 32, 32, 3) and data type float64"
     ]
    }
   ],
   "source": [
    "adv_total = np.concatenate((adv_data1,adv_data2,adv_data3,adv_data4),axis=0)"
   ]
  },
  {
   "cell_type": "code",
   "execution_count": null,
   "id": "52f28733",
   "metadata": {},
   "outputs": [],
   "source": []
  }
 ],
 "metadata": {
  "kernelspec": {
   "display_name": "Python 3 (ipykernel)",
   "language": "python",
   "name": "python3"
  },
  "language_info": {
   "codemirror_mode": {
    "name": "ipython",
    "version": 3
   },
   "file_extension": ".py",
   "mimetype": "text/x-python",
   "name": "python",
   "nbconvert_exporter": "python",
   "pygments_lexer": "ipython3",
   "version": "3.9.12"
  }
 },
 "nbformat": 4,
 "nbformat_minor": 5
}
