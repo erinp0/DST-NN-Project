{
 "cells": [
  {
   "cell_type": "code",
   "execution_count": 1,
   "metadata": {},
   "outputs": [],
   "source": [
    "import numpy as np\n",
    "import pandas as pd\n",
    "import os\n",
    "import cv2\n",
    "import matplotlib.pyplot as plt\n",
    "import tensorflow as tf\n",
    "from tensorflow import keras\n",
    "from PIL import Image\n",
    "from sklearn.model_selection import train_test_split\n",
    "from tensorflow.keras.preprocessing.image import ImageDataGenerator\n",
    "from tensorflow.keras.optimizers import Adam\n",
    "from sklearn.metrics import accuracy_score\n",
    "np.random.seed(42)\n",
    "\n",
    "from matplotlib import style\n",
    "style.use('fivethirtyeight')"
   ]
  },
  {
   "cell_type": "code",
   "execution_count": 2,
   "metadata": {},
   "outputs": [],
   "source": [
    "data_dir = \"C:\\\\Users\\\\Team Knowhow\\\\Documents\\\\YEAR 4\\\\Data Science Toolbox\\\\DST-NN-Project\\\\Erin Pollard\"\n",
    "train_path = \"C:\\\\Users\\\\Team Knowhow\\\\Documents\\\\YEAR 4\\\\Data Science Toolbox\\\\DST-NN-Project\\\\Erin Pollard\\\\Train\"\n",
    "test_path = \"C:\\\\Users\\\\Team Knowhow\\\\Documents\\\\YEAR 4\\\\Data Science Toolbox\\\\DST-NN-Project\\\\Erin Pollard\\\\Test\"\n",
    "\n",
    "# Resizing the images to 30x30x3\n",
    "IMG_HEIGHT = 30\n",
    "IMG_WIDTH = 30\n",
    "channels = 3"
   ]
  },
  {
   "cell_type": "code",
   "execution_count": 3,
   "metadata": {},
   "outputs": [
    {
     "data": {
      "text/plain": [
       "43"
      ]
     },
     "execution_count": 3,
     "metadata": {},
     "output_type": "execute_result"
    }
   ],
   "source": [
    "NUM_CATEGORIES = len(os.listdir(train_path))\n",
    "NUM_CATEGORIES = NUM_CATEGORIES \n",
    "NUM_CATEGORIES"
   ]
  },
  {
   "cell_type": "code",
   "execution_count": 4,
   "metadata": {},
   "outputs": [],
   "source": [
    "# Label Overview\n",
    "classes = { 0:'Speed limit (20km/h)',\n",
    "            1:'Speed limit (30km/h)', \n",
    "            2:'Speed limit (50km/h)', \n",
    "            3:'Speed limit (60km/h)', \n",
    "            4:'Speed limit (70km/h)', \n",
    "            5:'Speed limit (80km/h)', \n",
    "            6:'End of speed limit (80km/h)', \n",
    "            7:'Speed limit (100km/h)', \n",
    "            8:'Speed limit (120km/h)', \n",
    "            9:'No passing', \n",
    "            10:'No passing veh over 3.5 tons', \n",
    "            11:'Right-of-way at intersection', \n",
    "            12:'Priority road', \n",
    "            13:'Yield', \n",
    "            14:'Stop', \n",
    "            15:'No vehicles', \n",
    "            16:'Veh > 3.5 tons prohibited', \n",
    "            17:'No entry', \n",
    "            18:'General caution', \n",
    "            19:'Dangerous curve left', \n",
    "            20:'Dangerous curve right', \n",
    "            21:'Double curve', \n",
    "            22:'Bumpy road', \n",
    "            23:'Slippery road', \n",
    "            24:'Road narrows on the right', \n",
    "            25:'Road work', \n",
    "            26:'Traffic signals', \n",
    "            27:'Pedestrians', \n",
    "            28:'Children crossing', \n",
    "            29:'Bicycles crossing', \n",
    "            30:'Beware of ice/snow',\n",
    "            31:'Wild animals crossing', \n",
    "            32:'End speed + passing limits', \n",
    "            33:'Turn right ahead', \n",
    "            34:'Turn left ahead', \n",
    "            35:'Ahead only', \n",
    "            36:'Go straight or right', \n",
    "            37:'Go straight or left', \n",
    "            38:'Keep right', \n",
    "            39:'Keep left', \n",
    "            40:'Roundabout mandatory', \n",
    "            41:'End of no passing', \n",
    "            42:'End no passing veh > 3.5 tons' }"
   ]
  },
  {
   "cell_type": "code",
   "execution_count": 5,
   "metadata": {},
   "outputs": [
    {
     "name": "stdout",
     "output_type": "stream",
     "text": [
      "(39209, 30, 30, 3) (39209,)\n"
     ]
    }
   ],
   "source": [
    "image_data = []\n",
    "image_labels = []\n",
    "\n",
    "for i in range(NUM_CATEGORIES):\n",
    "    path = data_dir + '/Train/' + str(i)\n",
    "    images = os.listdir(path)\n",
    "\n",
    "    for img in images:\n",
    "        try:\n",
    "            image = cv2.imread(path + '/' + img)\n",
    "            image_fromarray = Image.fromarray(image, 'RGB')\n",
    "            resize_image = image_fromarray.resize((IMG_HEIGHT, IMG_WIDTH))\n",
    "            image_data.append(np.array(resize_image))\n",
    "            image_labels.append(i)\n",
    "        except:\n",
    "            print(\"Error in \" + img)\n",
    "\n",
    "# Changing the list to numpy array\n",
    "image_data = np.array(image_data)\n",
    "image_labels = np.array(image_labels)\n",
    "\n",
    "print(image_data.shape, image_labels.shape)"
   ]
  },
  {
   "cell_type": "code",
   "execution_count": 8,
   "metadata": {},
   "outputs": [
    {
     "data": {
      "text/plain": [
       "(39209, 30, 30, 3)"
      ]
     },
     "execution_count": 8,
     "metadata": {},
     "output_type": "execute_result"
    }
   ],
   "source": [
    "image_data.shape"
   ]
  },
  {
   "cell_type": "code",
   "execution_count": 9,
   "metadata": {},
   "outputs": [],
   "source": [
    "shuffle_indexes = np.arange(image_data.shape[0])\n",
    "np.random.shuffle(shuffle_indexes)\n",
    "image_data = image_data[shuffle_indexes]\n",
    "image_labels = image_labels[shuffle_indexes]"
   ]
  },
  {
   "cell_type": "code",
   "execution_count": 10,
   "metadata": {},
   "outputs": [
    {
     "data": {
      "text/plain": [
       "array([26, 15, 13, ..., 39,  1, 10])"
      ]
     },
     "execution_count": 10,
     "metadata": {},
     "output_type": "execute_result"
    }
   ],
   "source": [
    "image_labels"
   ]
  },
  {
   "cell_type": "code",
   "execution_count": 15,
   "metadata": {},
   "outputs": [
    {
     "name": "stdout",
     "output_type": "stream",
     "text": [
      "X_train.shape (27446, 30, 30, 3)\n",
      "X_valid.shape (11763, 30, 30, 3)\n",
      "y_train.shape (27446,)\n",
      "y_valid.shape (11763,)\n"
     ]
    }
   ],
   "source": [
    "X_train, X_val, y_train, y_val = train_test_split(image_data, image_labels, test_size=0.3, random_state=42, shuffle=True)\n",
    "\n",
    "X_train = X_train/255 \n",
    "X_val = X_val/255\n",
    "\n",
    "print(\"X_train.shape\", X_train.shape)\n",
    "print(\"X_valid.shape\", X_val.shape)\n",
    "print(\"y_train.shape\", y_train.shape)\n",
    "print(\"y_valid.shape\", y_val.shape)"
   ]
  },
  {
   "cell_type": "code",
   "execution_count": 16,
   "metadata": {},
   "outputs": [
    {
     "data": {
      "text/plain": [
       "array([[[[0.07058824, 0.08235294, 0.09803922],\n",
       "         [0.07058824, 0.08235294, 0.09019608],\n",
       "         [0.06666667, 0.0745098 , 0.07843137],\n",
       "         ...,\n",
       "         [0.0627451 , 0.05490196, 0.07058824],\n",
       "         [0.0627451 , 0.05490196, 0.06666667],\n",
       "         [0.0627451 , 0.05490196, 0.06666667]],\n",
       "\n",
       "        [[0.07058824, 0.0745098 , 0.08627451],\n",
       "         [0.07058824, 0.0745098 , 0.08235294],\n",
       "         [0.07843137, 0.07843137, 0.08627451],\n",
       "         ...,\n",
       "         [0.0627451 , 0.05098039, 0.0627451 ],\n",
       "         [0.06666667, 0.05490196, 0.06666667],\n",
       "         [0.0745098 , 0.0627451 , 0.0745098 ]],\n",
       "\n",
       "        [[0.06666667, 0.07058824, 0.07843137],\n",
       "         [0.0627451 , 0.06666667, 0.0745098 ],\n",
       "         [0.07058824, 0.0745098 , 0.07843137],\n",
       "         ...,\n",
       "         [0.0627451 , 0.0627451 , 0.0627451 ],\n",
       "         [0.0627451 , 0.05882353, 0.06666667],\n",
       "         [0.0627451 , 0.05490196, 0.06666667]],\n",
       "\n",
       "        ...,\n",
       "\n",
       "        [[0.30980392, 0.24705882, 0.45098039],\n",
       "         [0.23137255, 0.27843137, 0.36078431],\n",
       "         [0.18039216, 0.24313725, 0.24705882],\n",
       "         ...,\n",
       "         [0.0627451 , 0.05490196, 0.0627451 ],\n",
       "         [0.06666667, 0.05490196, 0.0627451 ],\n",
       "         [0.06666667, 0.05490196, 0.0627451 ]],\n",
       "\n",
       "        [[0.25490196, 0.23529412, 0.35294118],\n",
       "         [0.30588235, 0.34509804, 0.39215686],\n",
       "         [0.29411765, 0.3372549 , 0.35294118],\n",
       "         ...,\n",
       "         [0.06666667, 0.05490196, 0.0627451 ],\n",
       "         [0.07058824, 0.05882353, 0.06666667],\n",
       "         [0.0627451 , 0.05490196, 0.06666667]],\n",
       "\n",
       "        [[0.16470588, 0.20784314, 0.2745098 ],\n",
       "         [0.16862745, 0.19607843, 0.22745098],\n",
       "         [0.18431373, 0.18039216, 0.20784314],\n",
       "         ...,\n",
       "         [0.07058824, 0.05882353, 0.06666667],\n",
       "         [0.06666667, 0.05490196, 0.0627451 ],\n",
       "         [0.05882353, 0.05490196, 0.0627451 ]]],\n",
       "\n",
       "\n",
       "       [[[0.68627451, 0.56862745, 0.49019608],\n",
       "         [0.67843137, 0.56078431, 0.47843137],\n",
       "         [0.68235294, 0.55686275, 0.47843137],\n",
       "         ...,\n",
       "         [0.56078431, 0.4627451 , 0.41960784],\n",
       "         [0.49019608, 0.40784314, 0.33333333],\n",
       "         [0.59215686, 0.47058824, 0.38039216]],\n",
       "\n",
       "        [[0.6745098 , 0.56078431, 0.49411765],\n",
       "         [0.67843137, 0.56078431, 0.49019608],\n",
       "         [0.67843137, 0.56078431, 0.49019608],\n",
       "         ...,\n",
       "         [0.59607843, 0.50196078, 0.43921569],\n",
       "         [0.49019608, 0.43529412, 0.37647059],\n",
       "         [0.54117647, 0.42352941, 0.35294118]],\n",
       "\n",
       "        [[0.68235294, 0.56078431, 0.49411765],\n",
       "         [0.67843137, 0.55294118, 0.49411765],\n",
       "         [0.6627451 , 0.54901961, 0.48235294],\n",
       "         ...,\n",
       "         [0.62745098, 0.51372549, 0.44313725],\n",
       "         [0.56862745, 0.49019608, 0.43529412],\n",
       "         [0.5254902 , 0.43137255, 0.38431373]],\n",
       "\n",
       "        ...,\n",
       "\n",
       "        [[0.12156863, 0.10196078, 0.09411765],\n",
       "         [0.13333333, 0.10980392, 0.10588235],\n",
       "         [0.1372549 , 0.11372549, 0.10588235],\n",
       "         ...,\n",
       "         [0.12941176, 0.11372549, 0.09803922],\n",
       "         [0.14901961, 0.12941176, 0.11372549],\n",
       "         [0.1372549 , 0.1254902 , 0.11372549]],\n",
       "\n",
       "        [[0.10980392, 0.09411765, 0.08627451],\n",
       "         [0.12156863, 0.09803922, 0.09019608],\n",
       "         [0.1372549 , 0.10588235, 0.09411765],\n",
       "         ...,\n",
       "         [0.21176471, 0.17647059, 0.14117647],\n",
       "         [0.21176471, 0.17647059, 0.14509804],\n",
       "         [0.2       , 0.16078431, 0.14901961]],\n",
       "\n",
       "        [[0.11372549, 0.09411765, 0.08627451],\n",
       "         [0.12156863, 0.09803922, 0.09019608],\n",
       "         [0.12941176, 0.09411765, 0.09019608],\n",
       "         ...,\n",
       "         [0.32941176, 0.2745098 , 0.21568627],\n",
       "         [0.3254902 , 0.2745098 , 0.22745098],\n",
       "         [0.32156863, 0.2627451 , 0.2627451 ]]],\n",
       "\n",
       "\n",
       "       [[[0.16078431, 0.18039216, 0.2       ],\n",
       "         [0.17254902, 0.19215686, 0.21176471],\n",
       "         [0.19607843, 0.21176471, 0.21960784],\n",
       "         ...,\n",
       "         [0.16862745, 0.20392157, 0.19607843],\n",
       "         [0.16078431, 0.19607843, 0.18823529],\n",
       "         [0.15686275, 0.18039216, 0.17647059]],\n",
       "\n",
       "        [[0.15686275, 0.18039216, 0.19607843],\n",
       "         [0.19215686, 0.21176471, 0.21176471],\n",
       "         [0.18823529, 0.21176471, 0.21960784],\n",
       "         ...,\n",
       "         [0.19215686, 0.23529412, 0.22352941],\n",
       "         [0.18039216, 0.21960784, 0.20784314],\n",
       "         [0.18039216, 0.20784314, 0.20392157]],\n",
       "\n",
       "        [[0.13333333, 0.14901961, 0.14117647],\n",
       "         [0.16078431, 0.18039216, 0.18039216],\n",
       "         [0.2       , 0.21960784, 0.22745098],\n",
       "         ...,\n",
       "         [0.19215686, 0.21960784, 0.21568627],\n",
       "         [0.17647059, 0.20784314, 0.2       ],\n",
       "         [0.16470588, 0.20392157, 0.19607843]],\n",
       "\n",
       "        ...,\n",
       "\n",
       "        [[0.11372549, 0.11764706, 0.11372549],\n",
       "         [0.11764706, 0.12156863, 0.11764706],\n",
       "         [0.11764706, 0.1254902 , 0.12156863],\n",
       "         ...,\n",
       "         [0.16470588, 0.17254902, 0.16862745],\n",
       "         [0.14509804, 0.14509804, 0.1372549 ],\n",
       "         [0.12156863, 0.11372549, 0.11372549]],\n",
       "\n",
       "        [[0.12941176, 0.1372549 , 0.13333333],\n",
       "         [0.12941176, 0.12941176, 0.12156863],\n",
       "         [0.12156863, 0.12941176, 0.1254902 ],\n",
       "         ...,\n",
       "         [0.15686275, 0.15686275, 0.15294118],\n",
       "         [0.14117647, 0.1372549 , 0.12941176],\n",
       "         [0.11764706, 0.10980392, 0.10980392]],\n",
       "\n",
       "        [[0.1372549 , 0.14117647, 0.13333333],\n",
       "         [0.1254902 , 0.1254902 , 0.12156863],\n",
       "         [0.12156863, 0.12941176, 0.1254902 ],\n",
       "         ...,\n",
       "         [0.1372549 , 0.14117647, 0.1372549 ],\n",
       "         [0.12941176, 0.1254902 , 0.12941176],\n",
       "         [0.12156863, 0.11372549, 0.11764706]]],\n",
       "\n",
       "\n",
       "       ...,\n",
       "\n",
       "\n",
       "       [[[0.05490196, 0.05098039, 0.05098039],\n",
       "         [0.07058824, 0.05098039, 0.05490196],\n",
       "         [0.07843137, 0.06666667, 0.07058824],\n",
       "         ...,\n",
       "         [0.05490196, 0.03921569, 0.04705882],\n",
       "         [0.05098039, 0.04313725, 0.03921569],\n",
       "         [0.05882353, 0.05098039, 0.05098039]],\n",
       "\n",
       "        [[0.05098039, 0.04313725, 0.04313725],\n",
       "         [0.0745098 , 0.05098039, 0.05490196],\n",
       "         [0.0745098 , 0.05882353, 0.0627451 ],\n",
       "         ...,\n",
       "         [0.05098039, 0.03921569, 0.03921569],\n",
       "         [0.05098039, 0.03529412, 0.03529412],\n",
       "         [0.05098039, 0.03529412, 0.03529412]],\n",
       "\n",
       "        [[0.05098039, 0.03921569, 0.03529412],\n",
       "         [0.07843137, 0.05490196, 0.04705882],\n",
       "         [0.0745098 , 0.05882353, 0.05882353],\n",
       "         ...,\n",
       "         [0.05490196, 0.04313725, 0.04705882],\n",
       "         [0.04705882, 0.03529412, 0.03921569],\n",
       "         [0.05098039, 0.03921569, 0.03921569]],\n",
       "\n",
       "        ...,\n",
       "\n",
       "        [[0.05882353, 0.04313725, 0.04313725],\n",
       "         [0.05098039, 0.03921569, 0.04313725],\n",
       "         [0.04313725, 0.03529412, 0.03921569],\n",
       "         ...,\n",
       "         [0.04705882, 0.03921569, 0.03921569],\n",
       "         [0.05490196, 0.03921569, 0.03921569],\n",
       "         [0.05882353, 0.04313725, 0.04705882]],\n",
       "\n",
       "        [[0.05490196, 0.04313725, 0.04313725],\n",
       "         [0.05098039, 0.03921569, 0.04313725],\n",
       "         [0.04705882, 0.03921569, 0.04313725],\n",
       "         ...,\n",
       "         [0.04705882, 0.03529412, 0.03921569],\n",
       "         [0.05098039, 0.03921569, 0.04313725],\n",
       "         [0.05098039, 0.04313725, 0.04313725]],\n",
       "\n",
       "        [[0.05098039, 0.03921569, 0.03921569],\n",
       "         [0.04705882, 0.03921569, 0.03921569],\n",
       "         [0.05098039, 0.03921569, 0.04313725],\n",
       "         ...,\n",
       "         [0.04705882, 0.03529412, 0.04313725],\n",
       "         [0.04705882, 0.03529412, 0.03921569],\n",
       "         [0.04705882, 0.03529412, 0.04313725]]],\n",
       "\n",
       "\n",
       "       [[[0.08627451, 0.12156863, 0.15686275],\n",
       "         [0.09019608, 0.1254902 , 0.15294118],\n",
       "         [0.09803922, 0.12941176, 0.14901961],\n",
       "         ...,\n",
       "         [0.08627451, 0.11764706, 0.15686275],\n",
       "         [0.09803922, 0.12941176, 0.17254902],\n",
       "         [0.10980392, 0.1372549 , 0.16470588]],\n",
       "\n",
       "        [[0.08627451, 0.12941176, 0.16078431],\n",
       "         [0.08627451, 0.12941176, 0.15686275],\n",
       "         [0.09019608, 0.12941176, 0.14901961],\n",
       "         ...,\n",
       "         [0.10980392, 0.14901961, 0.18823529],\n",
       "         [0.11372549, 0.14117647, 0.17254902],\n",
       "         [0.10588235, 0.12941176, 0.14117647]],\n",
       "\n",
       "        [[0.09019608, 0.12941176, 0.15686275],\n",
       "         [0.09803922, 0.13333333, 0.15686275],\n",
       "         [0.09411765, 0.12941176, 0.15294118],\n",
       "         ...,\n",
       "         [0.10196078, 0.1372549 , 0.17647059],\n",
       "         [0.10196078, 0.1254902 , 0.14509804],\n",
       "         [0.09803922, 0.11372549, 0.12156863]],\n",
       "\n",
       "        ...,\n",
       "\n",
       "        [[0.14509804, 0.16470588, 0.17647059],\n",
       "         [0.14117647, 0.16470588, 0.17254902],\n",
       "         [0.14509804, 0.17647059, 0.18431373],\n",
       "         ...,\n",
       "         [0.16862745, 0.18823529, 0.19607843],\n",
       "         [0.16078431, 0.17254902, 0.18431373],\n",
       "         [0.12941176, 0.1372549 , 0.14117647]],\n",
       "\n",
       "        [[0.1254902 , 0.15294118, 0.15686275],\n",
       "         [0.11764706, 0.14509804, 0.15294118],\n",
       "         [0.12156863, 0.14901961, 0.16078431],\n",
       "         ...,\n",
       "         [0.15686275, 0.18039216, 0.19607843],\n",
       "         [0.15294118, 0.17647059, 0.19607843],\n",
       "         [0.15686275, 0.17254902, 0.18431373]],\n",
       "\n",
       "        [[0.1254902 , 0.15294118, 0.15294118],\n",
       "         [0.14117647, 0.16078431, 0.16470588],\n",
       "         [0.14509804, 0.16470588, 0.17254902],\n",
       "         ...,\n",
       "         [0.14901961, 0.17254902, 0.18039216],\n",
       "         [0.14117647, 0.16470588, 0.17647059],\n",
       "         [0.14509804, 0.16862745, 0.18039216]]],\n",
       "\n",
       "\n",
       "       [[[0.90196078, 0.96470588, 0.98823529],\n",
       "         [0.9254902 , 0.98039216, 0.99607843],\n",
       "         [0.93333333, 0.98823529, 1.        ],\n",
       "         ...,\n",
       "         [0.94117647, 1.        , 1.        ],\n",
       "         [0.95294118, 1.        , 1.        ],\n",
       "         [0.95686275, 1.        , 1.        ]],\n",
       "\n",
       "        [[0.82745098, 0.91372549, 0.95294118],\n",
       "         [0.84705882, 0.9254902 , 0.95294118],\n",
       "         [0.8627451 , 0.9372549 , 0.95686275],\n",
       "         ...,\n",
       "         [0.89803922, 1.        , 1.        ],\n",
       "         [0.90980392, 1.        , 1.        ],\n",
       "         [0.91764706, 1.        , 1.        ]],\n",
       "\n",
       "        [[0.83137255, 0.91372549, 0.96078431],\n",
       "         [0.83137255, 0.91764706, 0.95294118],\n",
       "         [0.85098039, 0.92941176, 0.95294118],\n",
       "         ...,\n",
       "         [0.88627451, 1.        , 1.        ],\n",
       "         [0.89411765, 1.        , 1.        ],\n",
       "         [0.89411765, 1.        , 1.        ]],\n",
       "\n",
       "        ...,\n",
       "\n",
       "        [[0.14117647, 0.14901961, 0.16470588],\n",
       "         [0.15686275, 0.17254902, 0.18431373],\n",
       "         [0.14901961, 0.16862745, 0.18431373],\n",
       "         ...,\n",
       "         [0.12941176, 0.12941176, 0.14117647],\n",
       "         [0.11764706, 0.1254902 , 0.13333333],\n",
       "         [0.1254902 , 0.12941176, 0.13333333]],\n",
       "\n",
       "        [[0.13333333, 0.14117647, 0.14509804],\n",
       "         [0.13333333, 0.14901961, 0.15686275],\n",
       "         [0.12156863, 0.14509804, 0.15686275],\n",
       "         ...,\n",
       "         [0.1254902 , 0.12941176, 0.14117647],\n",
       "         [0.11372549, 0.12156863, 0.13333333],\n",
       "         [0.12156863, 0.1254902 , 0.1372549 ]],\n",
       "\n",
       "        [[0.12156863, 0.13333333, 0.1372549 ],\n",
       "         [0.12941176, 0.1372549 , 0.14509804],\n",
       "         [0.1254902 , 0.13333333, 0.14117647],\n",
       "         ...,\n",
       "         [0.1254902 , 0.1254902 , 0.1372549 ],\n",
       "         [0.12156863, 0.1254902 , 0.14117647],\n",
       "         [0.1254902 , 0.12941176, 0.14509804]]]])"
      ]
     },
     "execution_count": 16,
     "metadata": {},
     "output_type": "execute_result"
    }
   ],
   "source": [
    "X_train"
   ]
  },
  {
   "cell_type": "code",
   "execution_count": 17,
   "metadata": {},
   "outputs": [
    {
     "data": {
      "text/plain": [
       "array([12, 18,  7, ...,  8,  4,  8])"
      ]
     },
     "execution_count": 17,
     "metadata": {},
     "output_type": "execute_result"
    }
   ],
   "source": [
    "y_train"
   ]
  },
  {
   "cell_type": "code",
   "execution_count": 18,
   "metadata": {},
   "outputs": [
    {
     "name": "stdout",
     "output_type": "stream",
     "text": [
      "(27446, 43)\n",
      "(11763, 43)\n"
     ]
    }
   ],
   "source": [
    "y_train = keras.utils.to_categorical(y_train, NUM_CATEGORIES)\n",
    "y_val = keras.utils.to_categorical(y_val, NUM_CATEGORIES)\n",
    "\n",
    "print(y_train.shape)\n",
    "print(y_val.shape)"
   ]
  },
  {
   "cell_type": "code",
   "execution_count": 27,
   "metadata": {},
   "outputs": [
    {
     "data": {
      "text/plain": [
       "array([[0., 0., 0., ..., 0., 0., 0.],\n",
       "       [0., 0., 0., ..., 0., 0., 0.],\n",
       "       [0., 0., 0., ..., 0., 0., 0.],\n",
       "       ...,\n",
       "       [0., 0., 0., ..., 0., 0., 0.],\n",
       "       [0., 0., 0., ..., 0., 0., 0.],\n",
       "       [0., 0., 0., ..., 0., 0., 0.]], dtype=float32)"
      ]
     },
     "execution_count": 27,
     "metadata": {},
     "output_type": "execute_result"
    }
   ],
   "source": [
    "y_train"
   ]
  },
  {
   "cell_type": "code",
   "execution_count": 26,
   "metadata": {},
   "outputs": [],
   "source": [
    "np.save(data_dir +'\\\\john_y_train.npy',y_train)\n",
    "np.save(data_dir +'\\\\john_X_train.npy',X_train)"
   ]
  },
  {
   "cell_type": "code",
   "execution_count": 28,
   "metadata": {},
   "outputs": [],
   "source": [
    "model = keras.models.Sequential([    \n",
    "    keras.layers.Conv2D(filters=16, kernel_size=(3,3), activation='relu', input_shape=(IMG_HEIGHT,IMG_WIDTH,channels)),\n",
    "    keras.layers.Conv2D(filters=32, kernel_size=(3,3), activation='relu'),\n",
    "    keras.layers.MaxPool2D(pool_size=(2, 2)),\n",
    "    keras.layers.BatchNormalization(axis=-1),\n",
    "    \n",
    "    keras.layers.Conv2D(filters=64, kernel_size=(3,3), activation='relu'),\n",
    "    keras.layers.Conv2D(filters=128, kernel_size=(3,3), activation='relu'),\n",
    "    keras.layers.MaxPool2D(pool_size=(2, 2)),\n",
    "    keras.layers.BatchNormalization(axis=-1),\n",
    "    \n",
    "    keras.layers.Flatten(),\n",
    "    keras.layers.Dense(512, activation='relu'),\n",
    "    keras.layers.BatchNormalization(),\n",
    "    keras.layers.Dropout(rate=0.5),\n",
    "    \n",
    "    keras.layers.Dense(43, activation='softmax')\n",
    "])"
   ]
  },
  {
   "cell_type": "code",
   "execution_count": 29,
   "metadata": {},
   "outputs": [
    {
     "name": "stderr",
     "output_type": "stream",
     "text": [
      "C:\\Users\\Team Knowhow\\anaconda3\\lib\\site-packages\\keras\\optimizers\\optimizer_v2\\adam.py:117: UserWarning: The `lr` argument is deprecated, use `learning_rate` instead.\n",
      "  super().__init__(name, **kwargs)\n"
     ]
    }
   ],
   "source": [
    "lr = 0.001\n",
    "epochs = 1\n",
    "\n",
    "opt = tf.keras.optimizers.legacy.Adam(lr=lr, decay=lr / (epochs * 0.5))\n",
    "model.compile(loss='categorical_crossentropy', optimizer=opt, metrics=['accuracy'])"
   ]
  },
  {
   "cell_type": "code",
   "execution_count": 30,
   "metadata": {},
   "outputs": [
    {
     "name": "stdout",
     "output_type": "stream",
     "text": [
      "858/858 [==============================] - 136s 152ms/step - loss: 1.0568 - accuracy: 0.7141 - val_loss: 0.0772 - val_accuracy: 0.9787\n"
     ]
    }
   ],
   "source": [
    "aug = ImageDataGenerator(\n",
    "    rotation_range=10,\n",
    "    zoom_range=0.15,\n",
    "    width_shift_range=0.1,\n",
    "    height_shift_range=0.1,\n",
    "    shear_range=0.15,\n",
    "    horizontal_flip=False,\n",
    "    vertical_flip=False,\n",
    "    fill_mode=\"nearest\")\n",
    "\n",
    "history = model.fit(aug.flow(X_train, y_train, batch_size=32), epochs=epochs, validation_data=(X_val, y_val))"
   ]
  },
  {
   "cell_type": "code",
   "execution_count": 31,
   "metadata": {},
   "outputs": [
    {
     "name": "stdout",
     "output_type": "stream",
     "text": [
      "395/395 [==============================] - 7s 17ms/step\n",
      "Test Data accuracy:  94.43388756927949\n"
     ]
    }
   ],
   "source": [
    "test = pd.read_csv(data_dir + '/Test.csv')\n",
    "\n",
    "labels = test[\"ClassId\"].values\n",
    "imgs = test[\"Path\"].values\n",
    "\n",
    "data =[]\n",
    "\n",
    "for img in imgs:\n",
    "    try:\n",
    "        image = cv2.imread(data_dir + '/' +img)\n",
    "        image_fromarray = Image.fromarray(image, 'RGB')\n",
    "        resize_image = image_fromarray.resize((IMG_HEIGHT, IMG_WIDTH))\n",
    "        data.append(np.array(resize_image))\n",
    "    except:\n",
    "        print(\"Error in \" + img)\n",
    "X_test = np.array(data)\n",
    "X_test = X_test/255\n",
    "\n",
    "pred = np.argmax(model.predict(X_test), axis=-1)\n",
    "\n",
    "#Accuracy with the test data\n",
    "print('Test Data accuracy: ',accuracy_score(labels, pred)*100)"
   ]
  },
  {
   "cell_type": "code",
   "execution_count": 32,
   "metadata": {},
   "outputs": [],
   "source": [
    "from sklearn.metrics import confusion_matrix\n",
    "cf = confusion_matrix(labels, pred)"
   ]
  },
  {
   "cell_type": "code",
   "execution_count": 33,
   "metadata": {},
   "outputs": [
    {
     "name": "stdout",
     "output_type": "stream",
     "text": [
      "              precision    recall  f1-score   support\n",
      "\n",
      "           0       0.93      0.70      0.80        60\n",
      "           1       0.95      0.98      0.97       720\n",
      "           2       0.97      0.97      0.97       750\n",
      "           3       0.95      0.90      0.92       450\n",
      "           4       0.96      0.97      0.96       660\n",
      "           5       0.80      0.96      0.87       630\n",
      "           6       0.97      0.89      0.93       150\n",
      "           7       0.98      0.80      0.88       450\n",
      "           8       0.94      0.98      0.96       450\n",
      "           9       0.97      0.99      0.98       480\n",
      "          10       0.99      0.97      0.98       660\n",
      "          11       0.99      0.81      0.89       420\n",
      "          12       0.99      1.00      0.99       690\n",
      "          13       0.99      1.00      0.99       720\n",
      "          14       1.00      1.00      1.00       270\n",
      "          15       1.00      1.00      1.00       210\n",
      "          16       0.97      1.00      0.98       150\n",
      "          17       1.00      0.97      0.98       360\n",
      "          18       1.00      0.83      0.91       390\n",
      "          19       0.79      1.00      0.88        60\n",
      "          20       0.88      1.00      0.94        90\n",
      "          21       0.73      0.97      0.83        90\n",
      "          22       0.99      0.85      0.91       120\n",
      "          23       0.92      0.96      0.94       150\n",
      "          24       0.90      0.67      0.76        90\n",
      "          25       0.95      0.97      0.96       480\n",
      "          26       0.89      0.97      0.93       180\n",
      "          27       0.80      0.67      0.73        60\n",
      "          28       0.95      0.95      0.95       150\n",
      "          29       0.64      0.99      0.78        90\n",
      "          30       0.56      0.59      0.58       150\n",
      "          31       0.90      1.00      0.95       270\n",
      "          32       0.86      1.00      0.92        60\n",
      "          33       0.93      1.00      0.96       210\n",
      "          34       0.99      1.00      1.00       120\n",
      "          35       0.99      0.99      0.99       390\n",
      "          36       0.99      0.92      0.95       120\n",
      "          37       0.98      0.93      0.96        60\n",
      "          38       1.00      0.99      0.99       690\n",
      "          39       0.94      0.72      0.82        90\n",
      "          40       0.94      0.98      0.96        90\n",
      "          41       1.00      0.33      0.50        60\n",
      "          42       0.82      0.98      0.89        90\n",
      "\n",
      "    accuracy                           0.94     12630\n",
      "   macro avg       0.92      0.91      0.91     12630\n",
      "weighted avg       0.95      0.94      0.94     12630\n",
      "\n"
     ]
    }
   ],
   "source": [
    "from sklearn.metrics import classification_report\n",
    "\n",
    "print(classification_report(labels, pred))"
   ]
  },
  {
   "cell_type": "code",
   "execution_count": null,
   "metadata": {},
   "outputs": [],
   "source": []
  }
 ],
 "metadata": {
  "kernelspec": {
   "display_name": "hpc_env",
   "language": "python",
   "name": "hpc_env"
  },
  "language_info": {
   "codemirror_mode": {
    "name": "ipython",
    "version": 3
   },
   "file_extension": ".py",
   "mimetype": "text/x-python",
   "name": "python",
   "nbconvert_exporter": "python",
   "pygments_lexer": "ipython3",
   "version": "3.9.12"
  }
 },
 "nbformat": 4,
 "nbformat_minor": 2
}
