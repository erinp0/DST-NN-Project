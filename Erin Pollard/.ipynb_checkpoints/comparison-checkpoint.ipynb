{
 "cells": [
  {
   "cell_type": "markdown",
   "metadata": {},
   "source": [
    "# No filter dataset through the CNN"
   ]
  },
  {
   "cell_type": "code",
   "execution_count": 1,
   "metadata": {},
   "outputs": [],
   "source": [
    "import numpy as np\n",
    "import pandas as pd\n",
    "import os\n",
    "import cv2\n",
    "import matplotlib.pyplot as plt\n",
    "import tensorflow as tf\n",
    "from tensorflow import keras\n",
    "from PIL import Image\n",
    "from sklearn.model_selection import train_test_split\n",
    "from tensorflow.keras.preprocessing.image import ImageDataGenerator\n",
    "from tensorflow.keras.optimizers import Adam\n",
    "from sklearn.metrics import accuracy_score\n",
    "np.random.seed(42)\n",
    "\n",
    "from matplotlib import style\n",
    "style.use('fivethirtyeight')"
   ]
  },
  {
   "cell_type": "code",
   "execution_count": 2,
   "metadata": {},
   "outputs": [],
   "source": [
    "training_data2 = np.load('30_original_train_data.npy')\n",
    "training_label2 = np.load('30_original_train_labels.npy')"
   ]
  },
  {
   "cell_type": "code",
   "execution_count": 3,
   "metadata": {},
   "outputs": [
    {
     "data": {
      "text/plain": [
       "array([26, 15, 13, ..., 39,  1, 10])"
      ]
     },
     "execution_count": 3,
     "metadata": {},
     "output_type": "execute_result"
    }
   ],
   "source": [
    "training_label2"
   ]
  },
  {
   "cell_type": "code",
   "execution_count": 26,
   "metadata": {},
   "outputs": [],
   "source": [
    "NUM_CATEGORIES = 43\n",
    "IMG_HEIGHT =30\n",
    "IMG_WIDTH=30\n",
    "channels =3"
   ]
  },
  {
   "cell_type": "code",
   "execution_count": 10,
   "metadata": {},
   "outputs": [
    {
     "name": "stdout",
     "output_type": "stream",
     "text": [
      "X_train2.shape (27446, 30, 30, 3)\n",
      "X_valid2.shape (11763, 30, 30, 3)\n",
      "y_train2.shape (27446,)\n",
      "y_valid2.shape (11763,)\n"
     ]
    }
   ],
   "source": [
    "X_train2, X_val2, y_train2, y_val2 = train_test_split(training_data2, training_label2, test_size=0.3, random_state=42, shuffle=True)\n",
    "\n",
    "X_train2 = X_train2/255\n",
    "X_val = X_val2/255\n",
    "\n",
    "print(\"X_train2.shape\", X_train2.shape)\n",
    "print(\"X_valid2.shape\", X_val2.shape)\n",
    "print(\"y_train2.shape\", y_train2.shape)\n",
    "print(\"y_valid2.shape\", y_val2.shape)"
   ]
  },
  {
   "cell_type": "code",
   "execution_count": 11,
   "metadata": {},
   "outputs": [
    {
     "data": {
      "text/plain": [
       "array([[[[0.07058824, 0.08235294, 0.09803922],\n",
       "         [0.07058824, 0.08235294, 0.09019608],\n",
       "         [0.06666667, 0.0745098 , 0.07843137],\n",
       "         ...,\n",
       "         [0.0627451 , 0.05490196, 0.07058824],\n",
       "         [0.0627451 , 0.05490196, 0.06666667],\n",
       "         [0.0627451 , 0.05490196, 0.06666667]],\n",
       "\n",
       "        [[0.07058824, 0.0745098 , 0.08627451],\n",
       "         [0.07058824, 0.0745098 , 0.08235294],\n",
       "         [0.07843137, 0.07843137, 0.08627451],\n",
       "         ...,\n",
       "         [0.0627451 , 0.05098039, 0.0627451 ],\n",
       "         [0.06666667, 0.05490196, 0.06666667],\n",
       "         [0.0745098 , 0.0627451 , 0.0745098 ]],\n",
       "\n",
       "        [[0.06666667, 0.07058824, 0.07843137],\n",
       "         [0.0627451 , 0.06666667, 0.0745098 ],\n",
       "         [0.07058824, 0.0745098 , 0.07843137],\n",
       "         ...,\n",
       "         [0.0627451 , 0.0627451 , 0.0627451 ],\n",
       "         [0.0627451 , 0.05882353, 0.06666667],\n",
       "         [0.0627451 , 0.05490196, 0.06666667]],\n",
       "\n",
       "        ...,\n",
       "\n",
       "        [[0.30980392, 0.24705882, 0.45098039],\n",
       "         [0.23137255, 0.27843137, 0.36078431],\n",
       "         [0.18039216, 0.24313725, 0.24705882],\n",
       "         ...,\n",
       "         [0.0627451 , 0.05490196, 0.0627451 ],\n",
       "         [0.06666667, 0.05490196, 0.0627451 ],\n",
       "         [0.06666667, 0.05490196, 0.0627451 ]],\n",
       "\n",
       "        [[0.25490196, 0.23529412, 0.35294118],\n",
       "         [0.30588235, 0.34509804, 0.39215686],\n",
       "         [0.29411765, 0.3372549 , 0.35294118],\n",
       "         ...,\n",
       "         [0.06666667, 0.05490196, 0.0627451 ],\n",
       "         [0.07058824, 0.05882353, 0.06666667],\n",
       "         [0.0627451 , 0.05490196, 0.06666667]],\n",
       "\n",
       "        [[0.16470588, 0.20784314, 0.2745098 ],\n",
       "         [0.16862745, 0.19607843, 0.22745098],\n",
       "         [0.18431373, 0.18039216, 0.20784314],\n",
       "         ...,\n",
       "         [0.07058824, 0.05882353, 0.06666667],\n",
       "         [0.06666667, 0.05490196, 0.0627451 ],\n",
       "         [0.05882353, 0.05490196, 0.0627451 ]]],\n",
       "\n",
       "\n",
       "       [[[0.68627451, 0.56862745, 0.49019608],\n",
       "         [0.67843137, 0.56078431, 0.47843137],\n",
       "         [0.68235294, 0.55686275, 0.47843137],\n",
       "         ...,\n",
       "         [0.56078431, 0.4627451 , 0.41960784],\n",
       "         [0.49019608, 0.40784314, 0.33333333],\n",
       "         [0.59215686, 0.47058824, 0.38039216]],\n",
       "\n",
       "        [[0.6745098 , 0.56078431, 0.49411765],\n",
       "         [0.67843137, 0.56078431, 0.49019608],\n",
       "         [0.67843137, 0.56078431, 0.49019608],\n",
       "         ...,\n",
       "         [0.59607843, 0.50196078, 0.43921569],\n",
       "         [0.49019608, 0.43529412, 0.37647059],\n",
       "         [0.54117647, 0.42352941, 0.35294118]],\n",
       "\n",
       "        [[0.68235294, 0.56078431, 0.49411765],\n",
       "         [0.67843137, 0.55294118, 0.49411765],\n",
       "         [0.6627451 , 0.54901961, 0.48235294],\n",
       "         ...,\n",
       "         [0.62745098, 0.51372549, 0.44313725],\n",
       "         [0.56862745, 0.49019608, 0.43529412],\n",
       "         [0.5254902 , 0.43137255, 0.38431373]],\n",
       "\n",
       "        ...,\n",
       "\n",
       "        [[0.12156863, 0.10196078, 0.09411765],\n",
       "         [0.13333333, 0.10980392, 0.10588235],\n",
       "         [0.1372549 , 0.11372549, 0.10588235],\n",
       "         ...,\n",
       "         [0.12941176, 0.11372549, 0.09803922],\n",
       "         [0.14901961, 0.12941176, 0.11372549],\n",
       "         [0.1372549 , 0.1254902 , 0.11372549]],\n",
       "\n",
       "        [[0.10980392, 0.09411765, 0.08627451],\n",
       "         [0.12156863, 0.09803922, 0.09019608],\n",
       "         [0.1372549 , 0.10588235, 0.09411765],\n",
       "         ...,\n",
       "         [0.21176471, 0.17647059, 0.14117647],\n",
       "         [0.21176471, 0.17647059, 0.14509804],\n",
       "         [0.2       , 0.16078431, 0.14901961]],\n",
       "\n",
       "        [[0.11372549, 0.09411765, 0.08627451],\n",
       "         [0.12156863, 0.09803922, 0.09019608],\n",
       "         [0.12941176, 0.09411765, 0.09019608],\n",
       "         ...,\n",
       "         [0.32941176, 0.2745098 , 0.21568627],\n",
       "         [0.3254902 , 0.2745098 , 0.22745098],\n",
       "         [0.32156863, 0.2627451 , 0.2627451 ]]],\n",
       "\n",
       "\n",
       "       [[[0.16078431, 0.18039216, 0.2       ],\n",
       "         [0.17254902, 0.19215686, 0.21176471],\n",
       "         [0.19607843, 0.21176471, 0.21960784],\n",
       "         ...,\n",
       "         [0.16862745, 0.20392157, 0.19607843],\n",
       "         [0.16078431, 0.19607843, 0.18823529],\n",
       "         [0.15686275, 0.18039216, 0.17647059]],\n",
       "\n",
       "        [[0.15686275, 0.18039216, 0.19607843],\n",
       "         [0.19215686, 0.21176471, 0.21176471],\n",
       "         [0.18823529, 0.21176471, 0.21960784],\n",
       "         ...,\n",
       "         [0.19215686, 0.23529412, 0.22352941],\n",
       "         [0.18039216, 0.21960784, 0.20784314],\n",
       "         [0.18039216, 0.20784314, 0.20392157]],\n",
       "\n",
       "        [[0.13333333, 0.14901961, 0.14117647],\n",
       "         [0.16078431, 0.18039216, 0.18039216],\n",
       "         [0.2       , 0.21960784, 0.22745098],\n",
       "         ...,\n",
       "         [0.19215686, 0.21960784, 0.21568627],\n",
       "         [0.17647059, 0.20784314, 0.2       ],\n",
       "         [0.16470588, 0.20392157, 0.19607843]],\n",
       "\n",
       "        ...,\n",
       "\n",
       "        [[0.11372549, 0.11764706, 0.11372549],\n",
       "         [0.11764706, 0.12156863, 0.11764706],\n",
       "         [0.11764706, 0.1254902 , 0.12156863],\n",
       "         ...,\n",
       "         [0.16470588, 0.17254902, 0.16862745],\n",
       "         [0.14509804, 0.14509804, 0.1372549 ],\n",
       "         [0.12156863, 0.11372549, 0.11372549]],\n",
       "\n",
       "        [[0.12941176, 0.1372549 , 0.13333333],\n",
       "         [0.12941176, 0.12941176, 0.12156863],\n",
       "         [0.12156863, 0.12941176, 0.1254902 ],\n",
       "         ...,\n",
       "         [0.15686275, 0.15686275, 0.15294118],\n",
       "         [0.14117647, 0.1372549 , 0.12941176],\n",
       "         [0.11764706, 0.10980392, 0.10980392]],\n",
       "\n",
       "        [[0.1372549 , 0.14117647, 0.13333333],\n",
       "         [0.1254902 , 0.1254902 , 0.12156863],\n",
       "         [0.12156863, 0.12941176, 0.1254902 ],\n",
       "         ...,\n",
       "         [0.1372549 , 0.14117647, 0.1372549 ],\n",
       "         [0.12941176, 0.1254902 , 0.12941176],\n",
       "         [0.12156863, 0.11372549, 0.11764706]]],\n",
       "\n",
       "\n",
       "       ...,\n",
       "\n",
       "\n",
       "       [[[0.05490196, 0.05098039, 0.05098039],\n",
       "         [0.07058824, 0.05098039, 0.05490196],\n",
       "         [0.07843137, 0.06666667, 0.07058824],\n",
       "         ...,\n",
       "         [0.05490196, 0.03921569, 0.04705882],\n",
       "         [0.05098039, 0.04313725, 0.03921569],\n",
       "         [0.05882353, 0.05098039, 0.05098039]],\n",
       "\n",
       "        [[0.05098039, 0.04313725, 0.04313725],\n",
       "         [0.0745098 , 0.05098039, 0.05490196],\n",
       "         [0.0745098 , 0.05882353, 0.0627451 ],\n",
       "         ...,\n",
       "         [0.05098039, 0.03921569, 0.03921569],\n",
       "         [0.05098039, 0.03529412, 0.03529412],\n",
       "         [0.05098039, 0.03529412, 0.03529412]],\n",
       "\n",
       "        [[0.05098039, 0.03921569, 0.03529412],\n",
       "         [0.07843137, 0.05490196, 0.04705882],\n",
       "         [0.0745098 , 0.05882353, 0.05882353],\n",
       "         ...,\n",
       "         [0.05490196, 0.04313725, 0.04705882],\n",
       "         [0.04705882, 0.03529412, 0.03921569],\n",
       "         [0.05098039, 0.03921569, 0.03921569]],\n",
       "\n",
       "        ...,\n",
       "\n",
       "        [[0.05882353, 0.04313725, 0.04313725],\n",
       "         [0.05098039, 0.03921569, 0.04313725],\n",
       "         [0.04313725, 0.03529412, 0.03921569],\n",
       "         ...,\n",
       "         [0.04705882, 0.03921569, 0.03921569],\n",
       "         [0.05490196, 0.03921569, 0.03921569],\n",
       "         [0.05882353, 0.04313725, 0.04705882]],\n",
       "\n",
       "        [[0.05490196, 0.04313725, 0.04313725],\n",
       "         [0.05098039, 0.03921569, 0.04313725],\n",
       "         [0.04705882, 0.03921569, 0.04313725],\n",
       "         ...,\n",
       "         [0.04705882, 0.03529412, 0.03921569],\n",
       "         [0.05098039, 0.03921569, 0.04313725],\n",
       "         [0.05098039, 0.04313725, 0.04313725]],\n",
       "\n",
       "        [[0.05098039, 0.03921569, 0.03921569],\n",
       "         [0.04705882, 0.03921569, 0.03921569],\n",
       "         [0.05098039, 0.03921569, 0.04313725],\n",
       "         ...,\n",
       "         [0.04705882, 0.03529412, 0.04313725],\n",
       "         [0.04705882, 0.03529412, 0.03921569],\n",
       "         [0.04705882, 0.03529412, 0.04313725]]],\n",
       "\n",
       "\n",
       "       [[[0.08627451, 0.12156863, 0.15686275],\n",
       "         [0.09019608, 0.1254902 , 0.15294118],\n",
       "         [0.09803922, 0.12941176, 0.14901961],\n",
       "         ...,\n",
       "         [0.08627451, 0.11764706, 0.15686275],\n",
       "         [0.09803922, 0.12941176, 0.17254902],\n",
       "         [0.10980392, 0.1372549 , 0.16470588]],\n",
       "\n",
       "        [[0.08627451, 0.12941176, 0.16078431],\n",
       "         [0.08627451, 0.12941176, 0.15686275],\n",
       "         [0.09019608, 0.12941176, 0.14901961],\n",
       "         ...,\n",
       "         [0.10980392, 0.14901961, 0.18823529],\n",
       "         [0.11372549, 0.14117647, 0.17254902],\n",
       "         [0.10588235, 0.12941176, 0.14117647]],\n",
       "\n",
       "        [[0.09019608, 0.12941176, 0.15686275],\n",
       "         [0.09803922, 0.13333333, 0.15686275],\n",
       "         [0.09411765, 0.12941176, 0.15294118],\n",
       "         ...,\n",
       "         [0.10196078, 0.1372549 , 0.17647059],\n",
       "         [0.10196078, 0.1254902 , 0.14509804],\n",
       "         [0.09803922, 0.11372549, 0.12156863]],\n",
       "\n",
       "        ...,\n",
       "\n",
       "        [[0.14509804, 0.16470588, 0.17647059],\n",
       "         [0.14117647, 0.16470588, 0.17254902],\n",
       "         [0.14509804, 0.17647059, 0.18431373],\n",
       "         ...,\n",
       "         [0.16862745, 0.18823529, 0.19607843],\n",
       "         [0.16078431, 0.17254902, 0.18431373],\n",
       "         [0.12941176, 0.1372549 , 0.14117647]],\n",
       "\n",
       "        [[0.1254902 , 0.15294118, 0.15686275],\n",
       "         [0.11764706, 0.14509804, 0.15294118],\n",
       "         [0.12156863, 0.14901961, 0.16078431],\n",
       "         ...,\n",
       "         [0.15686275, 0.18039216, 0.19607843],\n",
       "         [0.15294118, 0.17647059, 0.19607843],\n",
       "         [0.15686275, 0.17254902, 0.18431373]],\n",
       "\n",
       "        [[0.1254902 , 0.15294118, 0.15294118],\n",
       "         [0.14117647, 0.16078431, 0.16470588],\n",
       "         [0.14509804, 0.16470588, 0.17254902],\n",
       "         ...,\n",
       "         [0.14901961, 0.17254902, 0.18039216],\n",
       "         [0.14117647, 0.16470588, 0.17647059],\n",
       "         [0.14509804, 0.16862745, 0.18039216]]],\n",
       "\n",
       "\n",
       "       [[[0.90196078, 0.96470588, 0.98823529],\n",
       "         [0.9254902 , 0.98039216, 0.99607843],\n",
       "         [0.93333333, 0.98823529, 1.        ],\n",
       "         ...,\n",
       "         [0.94117647, 1.        , 1.        ],\n",
       "         [0.95294118, 1.        , 1.        ],\n",
       "         [0.95686275, 1.        , 1.        ]],\n",
       "\n",
       "        [[0.82745098, 0.91372549, 0.95294118],\n",
       "         [0.84705882, 0.9254902 , 0.95294118],\n",
       "         [0.8627451 , 0.9372549 , 0.95686275],\n",
       "         ...,\n",
       "         [0.89803922, 1.        , 1.        ],\n",
       "         [0.90980392, 1.        , 1.        ],\n",
       "         [0.91764706, 1.        , 1.        ]],\n",
       "\n",
       "        [[0.83137255, 0.91372549, 0.96078431],\n",
       "         [0.83137255, 0.91764706, 0.95294118],\n",
       "         [0.85098039, 0.92941176, 0.95294118],\n",
       "         ...,\n",
       "         [0.88627451, 1.        , 1.        ],\n",
       "         [0.89411765, 1.        , 1.        ],\n",
       "         [0.89411765, 1.        , 1.        ]],\n",
       "\n",
       "        ...,\n",
       "\n",
       "        [[0.14117647, 0.14901961, 0.16470588],\n",
       "         [0.15686275, 0.17254902, 0.18431373],\n",
       "         [0.14901961, 0.16862745, 0.18431373],\n",
       "         ...,\n",
       "         [0.12941176, 0.12941176, 0.14117647],\n",
       "         [0.11764706, 0.1254902 , 0.13333333],\n",
       "         [0.1254902 , 0.12941176, 0.13333333]],\n",
       "\n",
       "        [[0.13333333, 0.14117647, 0.14509804],\n",
       "         [0.13333333, 0.14901961, 0.15686275],\n",
       "         [0.12156863, 0.14509804, 0.15686275],\n",
       "         ...,\n",
       "         [0.1254902 , 0.12941176, 0.14117647],\n",
       "         [0.11372549, 0.12156863, 0.13333333],\n",
       "         [0.12156863, 0.1254902 , 0.1372549 ]],\n",
       "\n",
       "        [[0.12156863, 0.13333333, 0.1372549 ],\n",
       "         [0.12941176, 0.1372549 , 0.14509804],\n",
       "         [0.1254902 , 0.13333333, 0.14117647],\n",
       "         ...,\n",
       "         [0.1254902 , 0.1254902 , 0.1372549 ],\n",
       "         [0.12156863, 0.1254902 , 0.14117647],\n",
       "         [0.1254902 , 0.12941176, 0.14509804]]]])"
      ]
     },
     "execution_count": 11,
     "metadata": {},
     "output_type": "execute_result"
    }
   ],
   "source": [
    "X_train2"
   ]
  },
  {
   "cell_type": "code",
   "execution_count": 12,
   "metadata": {},
   "outputs": [
    {
     "data": {
      "text/plain": [
       "array([12, 18,  7, ...,  8,  4,  8])"
      ]
     },
     "execution_count": 12,
     "metadata": {},
     "output_type": "execute_result"
    }
   ],
   "source": [
    "y_train2"
   ]
  },
  {
   "cell_type": "code",
   "execution_count": 13,
   "metadata": {},
   "outputs": [
    {
     "name": "stdout",
     "output_type": "stream",
     "text": [
      "(27446, 43)\n",
      "(11763, 43)\n"
     ]
    }
   ],
   "source": [
    "y_train2 = keras.utils.to_categorical(y_train2, NUM_CATEGORIES)\n",
    "y_val2 = keras.utils.to_categorical(y_val2, NUM_CATEGORIES)\n",
    "\n",
    "print(y_train2.shape)\n",
    "print(y_val2.shape)"
   ]
  },
  {
   "cell_type": "code",
   "execution_count": 16,
   "metadata": {},
   "outputs": [
    {
     "data": {
      "text/plain": [
       "array([[0., 0., 0., ..., 0., 0., 0.],\n",
       "       [0., 0., 0., ..., 0., 0., 0.],\n",
       "       [0., 0., 0., ..., 0., 0., 0.],\n",
       "       ...,\n",
       "       [0., 0., 0., ..., 0., 0., 0.],\n",
       "       [0., 0., 0., ..., 0., 0., 0.],\n",
       "       [0., 0., 0., ..., 0., 0., 0.]], dtype=float32)"
      ]
     },
     "execution_count": 16,
     "metadata": {},
     "output_type": "execute_result"
    }
   ],
   "source": [
    "y_train2"
   ]
  },
  {
   "cell_type": "markdown",
   "metadata": {},
   "source": [
    "# Checking if y_train from johns is same as this y_train2 one hot encode"
   ]
  },
  {
   "cell_type": "code",
   "execution_count": 20,
   "metadata": {},
   "outputs": [],
   "source": [
    "john_label = np.load('john_y_train.npy')\n",
    "john_data = np.load('john_X_train.npy')"
   ]
  },
  {
   "cell_type": "code",
   "execution_count": 21,
   "metadata": {},
   "outputs": [
    {
     "name": "stdout",
     "output_type": "stream",
     "text": [
      "identical\n"
     ]
    }
   ],
   "source": [
    "if john_label.all() == y_train2.all():\n",
    "    print(\"identical\")\n",
    "else:\n",
    "    print(\"not the same\")"
   ]
  },
  {
   "cell_type": "code",
   "execution_count": 22,
   "metadata": {},
   "outputs": [
    {
     "name": "stdout",
     "output_type": "stream",
     "text": [
      "identical\n"
     ]
    }
   ],
   "source": [
    "if john_data.all() == X_train2.all():\n",
    "    print(\"identical\")\n",
    "else:\n",
    "    print(\"not the same\")"
   ]
  },
  {
   "cell_type": "code",
   "execution_count": 27,
   "metadata": {},
   "outputs": [],
   "source": [
    "model = keras.models.Sequential([    \n",
    "    keras.layers.Conv2D(filters=16, kernel_size=(3,3), activation='relu', input_shape=(IMG_HEIGHT,IMG_WIDTH,channels)),\n",
    "    keras.layers.Conv2D(filters=32, kernel_size=(3,3), activation='relu'),\n",
    "    keras.layers.MaxPool2D(pool_size=(2, 2)),\n",
    "    keras.layers.BatchNormalization(axis=-1),\n",
    "    \n",
    "    keras.layers.Conv2D(filters=64, kernel_size=(3,3), activation='relu'),\n",
    "    keras.layers.Conv2D(filters=128, kernel_size=(3,3), activation='relu'),\n",
    "    keras.layers.MaxPool2D(pool_size=(2, 2)),\n",
    "    keras.layers.BatchNormalization(axis=-1),\n",
    "    \n",
    "    keras.layers.Flatten(),\n",
    "    keras.layers.Dense(512, activation='relu'),\n",
    "    keras.layers.BatchNormalization(),\n",
    "    keras.layers.Dropout(rate=0.5),\n",
    "    \n",
    "    keras.layers.Dense(43, activation='softmax')\n",
    "])"
   ]
  },
  {
   "cell_type": "code",
   "execution_count": 28,
   "metadata": {},
   "outputs": [
    {
     "name": "stderr",
     "output_type": "stream",
     "text": [
      "C:\\Users\\Team Knowhow\\anaconda3\\lib\\site-packages\\keras\\optimizers\\optimizer_v2\\adam.py:117: UserWarning: The `lr` argument is deprecated, use `learning_rate` instead.\n",
      "  super().__init__(name, **kwargs)\n"
     ]
    }
   ],
   "source": [
    "lr = 0.001\n",
    "epochs = 1\n",
    "\n",
    "opt = tf.keras.optimizers.legacy.Adam(lr=lr, decay=lr / (epochs * 0.5))\n",
    "model.compile(loss='categorical_crossentropy', optimizer=opt, metrics=['accuracy'])"
   ]
  },
  {
   "cell_type": "code",
   "execution_count": 29,
   "metadata": {},
   "outputs": [
    {
     "name": "stdout",
     "output_type": "stream",
     "text": [
      "858/858 [==============================] - 126s 140ms/step - loss: 1.0706 - accuracy: 0.7095 - val_loss: 94.7683 - val_accuracy: 0.5747\n"
     ]
    }
   ],
   "source": [
    "aug = ImageDataGenerator(\n",
    "    rotation_range=10,\n",
    "    zoom_range=0.15,\n",
    "    width_shift_range=0.1,\n",
    "    height_shift_range=0.1,\n",
    "    shear_range=0.15,\n",
    "    horizontal_flip=False,\n",
    "    vertical_flip=False,\n",
    "    fill_mode=\"nearest\")\n",
    "\n",
    "history = model.fit(aug.flow(X_train2, y_train2, batch_size=32), epochs=epochs, validation_data=(X_val2, y_val2))"
   ]
  },
  {
   "cell_type": "code",
   "execution_count": 34,
   "metadata": {},
   "outputs": [],
   "source": [
    "test_data2 = np.load('30_original_test_data.npy')\n",
    "test_labels2 = np.load('30_original_test_labels.npy')"
   ]
  },
  {
   "cell_type": "code",
   "execution_count": 35,
   "metadata": {},
   "outputs": [
    {
     "name": "stdout",
     "output_type": "stream",
     "text": [
      "395/395 [==============================] - 6s 16ms/step\n"
     ]
    }
   ],
   "source": [
    "pred = np.argmax(model.predict(test_data2), axis=-1)\n"
   ]
  },
  {
   "cell_type": "code",
   "execution_count": 36,
   "metadata": {},
   "outputs": [
    {
     "name": "stdout",
     "output_type": "stream",
     "text": [
      "Test Data accuracy:  0.6334125098970704\n"
     ]
    }
   ],
   "source": [
    "#Accuracy with the test data\n",
    "print('Test Data accuracy: ',accuracy_score(test_labels2, pred)*100)"
   ]
  },
  {
   "cell_type": "code",
   "execution_count": 37,
   "metadata": {},
   "outputs": [],
   "source": [
    "from sklearn.metrics import confusion_matrix\n",
    "cf = confusion_matrix(test_labels2, pred)"
   ]
  },
  {
   "cell_type": "code",
   "execution_count": 38,
   "metadata": {},
   "outputs": [
    {
     "name": "stdout",
     "output_type": "stream",
     "text": [
      "              precision    recall  f1-score   support\n",
      "\n",
      "           0       0.00      0.00      0.00         0\n",
      "           1       0.00      0.00      0.00         0\n",
      "           2       0.00      0.00      0.00         0\n",
      "           3       0.00      0.00      0.00         0\n",
      "           4       0.00      0.00      0.00         0\n",
      "           5       0.00      0.00      0.00         0\n",
      "           6       0.00      0.00      0.00         0\n",
      "           7       0.00      0.00      0.00         0\n",
      "           8       0.00      0.00      0.00         0\n",
      "           9       0.00      0.00      0.00         0\n",
      "          10       0.00      0.00      0.00         0\n",
      "          11       0.00      0.00      0.00         0\n",
      "          12       0.00      0.00      0.00         0\n",
      "          13       0.00      0.00      0.00         0\n",
      "          14       0.00      0.00      0.00         0\n",
      "          15       0.00      0.00      0.00         0\n",
      "          16       0.00      0.00      0.00         0\n",
      "          17       0.00      0.00      0.00         0\n",
      "          18       0.00      0.00      0.00         0\n",
      "          19       0.00      0.00      0.00         0\n",
      "          20       0.00      0.00      0.00         0\n",
      "          21       0.00      0.00      0.00         0\n",
      "          22       0.00      0.00      0.00         0\n",
      "          23       0.00      0.00      0.00         0\n",
      "          24       0.00      0.00      0.00         0\n",
      "          25       0.00      0.00      0.00         0\n",
      "          26       0.00      0.00      0.00         0\n",
      "          27       0.00      0.00      0.00         0\n",
      "          28       0.00      0.00      0.00         0\n",
      "          29       0.00      0.00      0.00         0\n",
      "          30       0.00      0.00      0.00         0\n",
      "          31       0.00      0.00      0.00         0\n",
      "          32       0.00      0.00      0.00         0\n",
      "          33       0.00      0.00      0.00         0\n",
      "          34       0.00      0.00      0.00         0\n",
      "          35       0.00      0.00      0.00         0\n",
      "          36       0.00      0.00      0.00         0\n",
      "          37       0.00      0.00      0.00         0\n",
      "          38       0.00      0.00      0.00         0\n",
      "          39       0.00      0.00      0.00         0\n",
      "          40       0.00      0.00      0.00         0\n",
      "          41       0.00      0.00      0.00         0\n",
      "          42       1.00      0.01      0.01     12630\n",
      "\n",
      "    accuracy                           0.01     12630\n",
      "   macro avg       0.02      0.00      0.00     12630\n",
      "weighted avg       1.00      0.01      0.01     12630\n",
      "\n"
     ]
    },
    {
     "name": "stderr",
     "output_type": "stream",
     "text": [
      "C:\\Users\\Team Knowhow\\anaconda3\\lib\\site-packages\\sklearn\\metrics\\_classification.py:1318: UndefinedMetricWarning: Recall and F-score are ill-defined and being set to 0.0 in labels with no true samples. Use `zero_division` parameter to control this behavior.\n",
      "  _warn_prf(average, modifier, msg_start, len(result))\n",
      "C:\\Users\\Team Knowhow\\anaconda3\\lib\\site-packages\\sklearn\\metrics\\_classification.py:1318: UndefinedMetricWarning: Recall and F-score are ill-defined and being set to 0.0 in labels with no true samples. Use `zero_division` parameter to control this behavior.\n",
      "  _warn_prf(average, modifier, msg_start, len(result))\n",
      "C:\\Users\\Team Knowhow\\anaconda3\\lib\\site-packages\\sklearn\\metrics\\_classification.py:1318: UndefinedMetricWarning: Recall and F-score are ill-defined and being set to 0.0 in labels with no true samples. Use `zero_division` parameter to control this behavior.\n",
      "  _warn_prf(average, modifier, msg_start, len(result))\n"
     ]
    }
   ],
   "source": [
    "from sklearn.metrics import classification_report\n",
    "\n",
    "print(classification_report(test_labels2, pred))"
   ]
  },
  {
   "cell_type": "markdown",
   "metadata": {},
   "source": [
    "# Bright-dark filter dataset through the CNN"
   ]
  },
  {
   "cell_type": "code",
   "execution_count": 2,
   "metadata": {},
   "outputs": [],
   "source": [
    "training_data = np.load('array_pixels_training.npy')\n",
    "training_label = np.load('array_pixels_label.npy')\n"
   ]
  },
  {
   "cell_type": "code",
   "execution_count": 3,
   "metadata": {},
   "outputs": [
    {
     "data": {
      "text/plain": [
       "(95460, 32, 32, 3)"
      ]
     },
     "execution_count": 3,
     "metadata": {},
     "output_type": "execute_result"
    }
   ],
   "source": [
    "training_data.shape"
   ]
  },
  {
   "cell_type": "code",
   "execution_count": 5,
   "metadata": {},
   "outputs": [
    {
     "name": "stdout",
     "output_type": "stream",
     "text": [
      "X_train.shape (66822, 32, 32, 3)\n",
      "X_valid.shape (28638, 32, 32, 3)\n",
      "y_train.shape (66822,)\n",
      "y_valid.shape (28638,)\n"
     ]
    }
   ],
   "source": [
    "X_train, X_val, y_train, y_val = train_test_split(training_data, training_label, test_size=0.3, random_state=42, shuffle=True)\n",
    "\n",
    "X_train = X_train \n",
    "X_val = X_val\n",
    "\n",
    "print(\"X_train.shape\", X_train.shape)\n",
    "print(\"X_valid.shape\", X_val.shape)\n",
    "print(\"y_train.shape\", y_train.shape)\n",
    "print(\"y_valid.shape\", y_val.shape)"
   ]
  },
  {
   "cell_type": "code",
   "execution_count": 6,
   "metadata": {},
   "outputs": [
    {
     "name": "stdout",
     "output_type": "stream",
     "text": [
      "(66822, 43)\n",
      "(28638, 43)\n"
     ]
    }
   ],
   "source": [
    "y_train = keras.utils.to_categorical(y_train, NUM_CATEGORIES)\n",
    "y_val = keras.utils.to_categorical(y_val, NUM_CATEGORIES)\n",
    "\n",
    "print(y_train.shape)\n",
    "print(y_val.shape)"
   ]
  },
  {
   "cell_type": "code",
   "execution_count": 7,
   "metadata": {},
   "outputs": [],
   "source": [
    "model = keras.models.Sequential([    \n",
    "    keras.layers.Conv2D(filters=16, kernel_size=(3,3), activation='relu', input_shape=(32,32,3)),\n",
    "    keras.layers.Conv2D(filters=32, kernel_size=(3,3), activation='relu'),\n",
    "    keras.layers.MaxPool2D(pool_size=(2, 2)),\n",
    "    keras.layers.BatchNormalization(axis=-1),\n",
    "    \n",
    "    keras.layers.Conv2D(filters=64, kernel_size=(3,3), activation='relu'),\n",
    "    keras.layers.Conv2D(filters=128, kernel_size=(3,3), activation='relu'),\n",
    "    keras.layers.MaxPool2D(pool_size=(2, 2)),\n",
    "    keras.layers.BatchNormalization(axis=-1),\n",
    "    \n",
    "    keras.layers.Flatten(),\n",
    "    keras.layers.Dense(512, activation='relu'),\n",
    "    keras.layers.BatchNormalization(),\n",
    "    keras.layers.Dropout(rate=0.5),\n",
    "    \n",
    "    keras.layers.Dense(43, activation='softmax')\n",
    "])"
   ]
  },
  {
   "cell_type": "code",
   "execution_count": 8,
   "metadata": {},
   "outputs": [
    {
     "name": "stderr",
     "output_type": "stream",
     "text": [
      "C:\\Users\\Team Knowhow\\anaconda3\\lib\\site-packages\\keras\\optimizers\\optimizer_v2\\adam.py:117: UserWarning: The `lr` argument is deprecated, use `learning_rate` instead.\n",
      "  super().__init__(name, **kwargs)\n"
     ]
    }
   ],
   "source": [
    "lr = 0.001\n",
    "epochs = 1\n",
    "\n",
    "opt = tf.keras.optimizers.legacy.Adam(lr=lr, decay=lr / (epochs * 0.5))\n",
    "model.compile(loss='categorical_crossentropy', optimizer=opt, metrics=['accuracy'])"
   ]
  },
  {
   "cell_type": "code",
   "execution_count": 9,
   "metadata": {},
   "outputs": [
    {
     "name": "stdout",
     "output_type": "stream",
     "text": [
      "2089/2089 [==============================] - 213s 101ms/step - loss: 4.2762 - accuracy: 0.0235 - val_loss: 3.8165 - val_accuracy: 0.0224\n"
     ]
    }
   ],
   "source": [
    "aug = ImageDataGenerator(\n",
    "    rotation_range=10,\n",
    "    zoom_range=0.15,\n",
    "    width_shift_range=0.1,\n",
    "    height_shift_range=0.1,\n",
    "    shear_range=0.15,\n",
    "    horizontal_flip=False,\n",
    "    vertical_flip=False,\n",
    "    fill_mode=\"nearest\")\n",
    "\n",
    "history = model.fit(aug.flow(X_train, y_train, batch_size=32), epochs=epochs, validation_data=(X_val, y_val))"
   ]
  },
  {
   "cell_type": "code",
   "execution_count": 10,
   "metadata": {},
   "outputs": [],
   "source": [
    "test_data = np.load('array_pixels_test.npy')\n",
    "test_labels = np.load('array_test_label.npy')"
   ]
  },
  {
   "cell_type": "code",
   "execution_count": 11,
   "metadata": {},
   "outputs": [
    {
     "name": "stdout",
     "output_type": "stream",
     "text": [
      "395/395 [==============================] - 8s 20ms/step\n",
      "Test Data accuracy:  0.023752969121140142\n"
     ]
    }
   ],
   "source": [
    "\n",
    "X_test = test_data\n",
    "\n",
    "pred = np.argmax(model.predict(X_test), axis=-1)\n",
    "\n",
    "#Accuracy with the test data\n",
    "print('Test Data accuracy: ',accuracy_score(test_labels, pred)*100)"
   ]
  },
  {
   "cell_type": "code",
   "execution_count": 12,
   "metadata": {},
   "outputs": [],
   "source": [
    "from sklearn.metrics import confusion_matrix\n",
    "cf = confusion_matrix(test_labels, pred)"
   ]
  },
  {
   "cell_type": "code",
   "execution_count": 13,
   "metadata": {},
   "outputs": [
    {
     "name": "stdout",
     "output_type": "stream",
     "text": [
      "              precision    recall  f1-score   support\n",
      "\n",
      "           0       0.00      0.00      0.00         0\n",
      "           1       0.00      0.00      0.00         0\n",
      "           2       0.00      0.00      0.00         0\n",
      "           3       0.00      0.00      0.00         0\n",
      "           4       0.00      0.00      0.00         0\n",
      "           5       0.00      0.00      0.00         0\n",
      "           6       0.00      0.00      0.00         0\n",
      "           7       0.00      0.00      0.00         0\n",
      "           8       0.00      0.00      0.00         0\n",
      "           9       0.00      0.00      0.00         0\n",
      "          10       0.00      0.00      0.00         0\n",
      "          11       0.00      0.00      0.00         0\n",
      "          12       0.00      0.00      0.00         0\n",
      "          13       0.00      0.00      0.00         0\n",
      "          14       0.00      0.00      0.00         0\n",
      "          15       0.00      0.00      0.00         0\n",
      "          17       0.00      0.00      0.00         0\n",
      "          18       0.00      0.00      0.00         0\n",
      "          19       0.00      0.00      0.00         0\n",
      "          20       0.00      0.00      0.00         0\n",
      "          21       0.00      0.00      0.00         0\n",
      "          22       0.00      0.00      0.00         0\n",
      "          23       0.00      0.00      0.00         0\n",
      "          24       0.00      0.00      0.00         0\n",
      "          25       1.00      0.00      0.00     12630\n",
      "          26       0.00      0.00      0.00         0\n",
      "          27       0.00      0.00      0.00         0\n",
      "          28       0.00      0.00      0.00         0\n",
      "          29       0.00      0.00      0.00         0\n",
      "          30       0.00      0.00      0.00         0\n",
      "          31       0.00      0.00      0.00         0\n",
      "          33       0.00      0.00      0.00         0\n",
      "          34       0.00      0.00      0.00         0\n",
      "          35       0.00      0.00      0.00         0\n",
      "          36       0.00      0.00      0.00         0\n",
      "          37       0.00      0.00      0.00         0\n",
      "          38       0.00      0.00      0.00         0\n",
      "          39       0.00      0.00      0.00         0\n",
      "          41       0.00      0.00      0.00         0\n",
      "          42       0.00      0.00      0.00         0\n",
      "\n",
      "    accuracy                           0.00     12630\n",
      "   macro avg       0.03      0.00      0.00     12630\n",
      "weighted avg       1.00      0.00      0.00     12630\n",
      "\n"
     ]
    },
    {
     "name": "stderr",
     "output_type": "stream",
     "text": [
      "C:\\Users\\Team Knowhow\\anaconda3\\lib\\site-packages\\sklearn\\metrics\\_classification.py:1318: UndefinedMetricWarning: Recall and F-score are ill-defined and being set to 0.0 in labels with no true samples. Use `zero_division` parameter to control this behavior.\n",
      "  _warn_prf(average, modifier, msg_start, len(result))\n",
      "C:\\Users\\Team Knowhow\\anaconda3\\lib\\site-packages\\sklearn\\metrics\\_classification.py:1318: UndefinedMetricWarning: Recall and F-score are ill-defined and being set to 0.0 in labels with no true samples. Use `zero_division` parameter to control this behavior.\n",
      "  _warn_prf(average, modifier, msg_start, len(result))\n",
      "C:\\Users\\Team Knowhow\\anaconda3\\lib\\site-packages\\sklearn\\metrics\\_classification.py:1318: UndefinedMetricWarning: Recall and F-score are ill-defined and being set to 0.0 in labels with no true samples. Use `zero_division` parameter to control this behavior.\n",
      "  _warn_prf(average, modifier, msg_start, len(result))\n"
     ]
    }
   ],
   "source": [
    "from sklearn.metrics import classification_report\n",
    "\n",
    "print(classification_report(test_labels, pred))"
   ]
  },
  {
   "cell_type": "code",
   "execution_count": null,
   "metadata": {},
   "outputs": [],
   "source": []
  }
 ],
 "metadata": {
  "kernelspec": {
   "display_name": "hpc_env",
   "language": "python",
   "name": "hpc_env"
  },
  "language_info": {
   "codemirror_mode": {
    "name": "ipython",
    "version": 3
   },
   "file_extension": ".py",
   "mimetype": "text/x-python",
   "name": "python",
   "nbconvert_exporter": "python",
   "pygments_lexer": "ipython3",
   "version": "3.9.12"
  }
 },
 "nbformat": 4,
 "nbformat_minor": 2
}
