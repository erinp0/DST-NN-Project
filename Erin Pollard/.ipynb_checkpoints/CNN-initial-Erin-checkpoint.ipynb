{
 "cells": [
  {
   "cell_type": "code",
   "execution_count": 1,
   "metadata": {},
   "outputs": [],
   "source": [
    "import numpy as np\n",
    "import pandas as pd\n",
    "import os\n",
    "import cv2\n",
    "import matplotlib.pyplot as plt\n",
    "import tensorflow as tf\n",
    "from tensorflow import keras\n",
    "from PIL import Image\n",
    "from sklearn.model_selection import train_test_split\n",
    "from tensorflow.keras.preprocessing.image import ImageDataGenerator\n",
    "from tensorflow.keras.optimizers import Adam\n",
    "from sklearn.metrics import accuracy_score\n",
    "np.random.seed(42)\n",
    "\n",
    "from matplotlib import style\n",
    "style.use('fivethirtyeight')"
   ]
  },
  {
   "cell_type": "code",
   "execution_count": 2,
   "metadata": {},
   "outputs": [],
   "source": [
    "training_data = np.load('32_original_train_data.npy')\n",
    "training_label = np.load('32_original_train_labels.npy')\n"
   ]
  },
  {
   "cell_type": "code",
   "execution_count": 3,
   "metadata": {},
   "outputs": [
    {
     "data": {
      "text/plain": [
       "(39209, 32, 32, 3)"
      ]
     },
     "execution_count": 3,
     "metadata": {},
     "output_type": "execute_result"
    }
   ],
   "source": [
    "training_data.shape"
   ]
  },
  {
   "cell_type": "code",
   "execution_count": 4,
   "metadata": {},
   "outputs": [],
   "source": [
    "NUM_CATEGORIES = 43"
   ]
  },
  {
   "cell_type": "code",
   "execution_count": 5,
   "metadata": {},
   "outputs": [
    {
     "data": {
      "text/plain": [
       "array([[[[ 42,  59, 106],\n",
       "         [ 39,  54,  96],\n",
       "         [ 35,  51,  78],\n",
       "         ...,\n",
       "         [ 42,  81, 137],\n",
       "         [ 49,  85, 136],\n",
       "         [ 68, 112, 176]],\n",
       "\n",
       "        [[ 47,  66, 106],\n",
       "         [ 41,  58,  91],\n",
       "         [ 32,  53,  88],\n",
       "         ...,\n",
       "         [ 23,  56,  93],\n",
       "         [ 19,  49,  61],\n",
       "         [ 30,  68,  84]],\n",
       "\n",
       "        [[ 48,  71, 114],\n",
       "         [ 37,  63,  95],\n",
       "         [ 28,  58,  97],\n",
       "         ...,\n",
       "         [ 27,  57,  88],\n",
       "         [ 18,  49,  61],\n",
       "         [ 20,  54,  67]],\n",
       "\n",
       "        ...,\n",
       "\n",
       "        [[ 31,  51,  94],\n",
       "         [ 38,  55,  91],\n",
       "         [ 31,  46,  81],\n",
       "         ...,\n",
       "         [ 33,  66,  92],\n",
       "         [ 41,  67, 100],\n",
       "         [ 40,  70,  99]],\n",
       "\n",
       "        [[ 43,  61,  98],\n",
       "         [ 43,  59, 100],\n",
       "         [ 51,  64, 107],\n",
       "         ...,\n",
       "         [ 44,  75, 104],\n",
       "         [ 57,  82, 118],\n",
       "         [ 43,  70, 103]],\n",
       "\n",
       "        [[ 52,  78, 116],\n",
       "         [ 49,  74, 123],\n",
       "         [ 54,  78, 123],\n",
       "         ...,\n",
       "         [ 47,  82, 111],\n",
       "         [ 33,  61,  85],\n",
       "         [ 31,  57,  81]]],\n",
       "\n",
       "\n",
       "       [[[218, 214, 184],\n",
       "         [255, 255, 251],\n",
       "         [255, 255, 255],\n",
       "         ...,\n",
       "         [ 23,  21,  22],\n",
       "         [ 21,  18,  20],\n",
       "         [ 22,  19,  20]],\n",
       "\n",
       "        [[212, 209, 189],\n",
       "         [255, 255, 253],\n",
       "         [255, 255, 255],\n",
       "         ...,\n",
       "         [ 20,  18,  20],\n",
       "         [ 20,  18,  19],\n",
       "         [ 23,  18,  19]],\n",
       "\n",
       "        [[207, 204, 189],\n",
       "         [255, 255, 255],\n",
       "         [255, 255, 255],\n",
       "         ...,\n",
       "         [ 20,  18,  20],\n",
       "         [ 20,  18,  19],\n",
       "         [ 22,  18,  18]],\n",
       "\n",
       "        ...,\n",
       "\n",
       "        [[ 22,  20,  23],\n",
       "         [ 22,  19,  23],\n",
       "         [ 22,  20,  23],\n",
       "         ...,\n",
       "         [ 35,  37,  42],\n",
       "         [ 35,  36,  44],\n",
       "         [ 37,  37,  46]],\n",
       "\n",
       "        [[ 26,  23,  27],\n",
       "         [ 26,  23,  28],\n",
       "         [ 25,  21,  26],\n",
       "         ...,\n",
       "         [ 46,  49,  59],\n",
       "         [ 45,  50,  63],\n",
       "         [ 46,  51,  68]],\n",
       "\n",
       "        [[ 37,  31,  35],\n",
       "         [ 36,  31,  35],\n",
       "         [ 36,  29,  32],\n",
       "         ...,\n",
       "         [ 81,  88, 111],\n",
       "         [ 98, 109, 118],\n",
       "         [126, 139, 152]]],\n",
       "\n",
       "\n",
       "       [[[108, 115,  87],\n",
       "         [169, 180, 154],\n",
       "         [135, 143, 119],\n",
       "         ...,\n",
       "         [ 43,  46,  49],\n",
       "         [ 46,  50,  55],\n",
       "         [ 45,  49,  56]],\n",
       "\n",
       "        [[ 94,  91,  71],\n",
       "         [175, 167, 147],\n",
       "         [143, 146, 129],\n",
       "         ...,\n",
       "         [ 42,  45,  47],\n",
       "         [ 43,  47,  51],\n",
       "         [ 42,  47,  53]],\n",
       "\n",
       "        [[ 98,  99,  86],\n",
       "         [152, 151, 138],\n",
       "         [131, 131, 119],\n",
       "         ...,\n",
       "         [ 40,  44,  46],\n",
       "         [ 40,  45,  49],\n",
       "         [ 42,  47,  53]],\n",
       "\n",
       "        ...,\n",
       "\n",
       "        [[ 25,  27,  30],\n",
       "         [ 26,  28,  29],\n",
       "         [ 26,  29,  29],\n",
       "         ...,\n",
       "         [ 42,  43,  47],\n",
       "         [ 42,  44,  47],\n",
       "         [ 43,  45,  48]],\n",
       "\n",
       "        [[ 25,  28,  30],\n",
       "         [ 26,  29,  30],\n",
       "         [ 27,  30,  30],\n",
       "         ...,\n",
       "         [ 42,  43,  46],\n",
       "         [ 43,  45,  49],\n",
       "         [ 40,  43,  48]],\n",
       "\n",
       "        [[ 26,  29,  30],\n",
       "         [ 27,  30,  31],\n",
       "         [ 27,  29,  30],\n",
       "         ...,\n",
       "         [ 42,  44,  47],\n",
       "         [ 44,  46,  51],\n",
       "         [ 43,  46,  54]]],\n",
       "\n",
       "\n",
       "       ...,\n",
       "\n",
       "\n",
       "       [[[ 90,  69,  66],\n",
       "         [ 30,  32,  34],\n",
       "         [ 45,  40,  35],\n",
       "         ...,\n",
       "         [ 15,  18,  17],\n",
       "         [ 15,  18,  17],\n",
       "         [ 18,  21,  20]],\n",
       "\n",
       "        [[ 83,  82,  73],\n",
       "         [ 38,  38,  41],\n",
       "         [ 43,  37,  37],\n",
       "         ...,\n",
       "         [ 15,  18,  16],\n",
       "         [ 15,  19,  17],\n",
       "         [ 20,  25,  24]],\n",
       "\n",
       "        [[175, 169, 142],\n",
       "         [ 68,  66,  71],\n",
       "         [ 32,  31,  28],\n",
       "         ...,\n",
       "         [ 15,  18,  17],\n",
       "         [ 16,  19,  19],\n",
       "         [ 26,  28,  26]],\n",
       "\n",
       "        ...,\n",
       "\n",
       "        [[ 35,  52,  54],\n",
       "         [ 44,  56,  54],\n",
       "         [ 58,  62,  53],\n",
       "         ...,\n",
       "         [125, 110,  97],\n",
       "         [124, 108,  95],\n",
       "         [118, 101,  88]],\n",
       "\n",
       "        [[ 53,  62,  61],\n",
       "         [ 74,  73,  60],\n",
       "         [123, 109,  85],\n",
       "         ...,\n",
       "         [115, 104,  94],\n",
       "         [117, 104,  94],\n",
       "         [115, 100,  90]],\n",
       "\n",
       "        [[ 81,  77,  59],\n",
       "         [130, 114,  88],\n",
       "         [156, 135, 112],\n",
       "         ...,\n",
       "         [ 84,  71,  62],\n",
       "         [ 87,  74,  69],\n",
       "         [ 88,  74,  69]]],\n",
       "\n",
       "\n",
       "       [[[ 54,  55,  59],\n",
       "         [ 50,  52,  53],\n",
       "         [ 48,  52,  52],\n",
       "         ...,\n",
       "         [ 65,  73,  80],\n",
       "         [ 50,  59,  62],\n",
       "         [ 62,  74,  80]],\n",
       "\n",
       "        [[ 51,  53,  54],\n",
       "         [ 47,  50,  50],\n",
       "         [ 46,  49,  51],\n",
       "         ...,\n",
       "         [ 64,  74,  79],\n",
       "         [ 51,  60,  60],\n",
       "         [ 51,  61,  63]],\n",
       "\n",
       "        [[ 51,  55,  56],\n",
       "         [ 51,  53,  54],\n",
       "         [ 50,  51,  53],\n",
       "         ...,\n",
       "         [ 67,  83,  89],\n",
       "         [ 56,  68,  70],\n",
       "         [ 54,  64,  67]],\n",
       "\n",
       "        ...,\n",
       "\n",
       "        [[ 61,  70,  80],\n",
       "         [ 50,  59,  65],\n",
       "         [ 49,  55,  59],\n",
       "         ...,\n",
       "         [ 47,  52,  52],\n",
       "         [ 48,  52,  52],\n",
       "         [ 46,  54,  55]],\n",
       "\n",
       "        [[ 56,  72,  82],\n",
       "         [ 53,  64,  71],\n",
       "         [ 52,  58,  62],\n",
       "         ...,\n",
       "         [ 46,  50,  50],\n",
       "         [ 50,  54,  54],\n",
       "         [ 48,  54,  54]],\n",
       "\n",
       "        [[ 57,  73,  83],\n",
       "         [ 60,  72,  78],\n",
       "         [ 57,  62,  66],\n",
       "         ...,\n",
       "         [ 46,  49,  50],\n",
       "         [ 48,  51,  50],\n",
       "         [ 48,  54,  54]]],\n",
       "\n",
       "\n",
       "       [[[ 59,  76,  98],\n",
       "         [ 62,  78, 102],\n",
       "         [ 65,  82, 109],\n",
       "         ...,\n",
       "         [194, 181, 176],\n",
       "         [197, 187, 179],\n",
       "         [193, 186, 178]],\n",
       "\n",
       "        [[ 58,  76,  98],\n",
       "         [ 62,  81, 104],\n",
       "         [ 62,  82, 106],\n",
       "         ...,\n",
       "         [190, 178, 178],\n",
       "         [194, 184, 179],\n",
       "         [190, 183, 178]],\n",
       "\n",
       "        [[ 65,  82, 104],\n",
       "         [ 67,  83, 106],\n",
       "         [ 60,  76,  99],\n",
       "         ...,\n",
       "         [172, 167, 169],\n",
       "         [180, 175, 173],\n",
       "         [185, 179, 178]],\n",
       "\n",
       "        ...,\n",
       "\n",
       "        [[ 50,  54,  64],\n",
       "         [ 45,  50,  61],\n",
       "         [ 45,  50,  62],\n",
       "         ...,\n",
       "         [ 48,  51,  60],\n",
       "         [ 41,  44,  41],\n",
       "         [ 30,  32,  35]],\n",
       "\n",
       "        [[ 48,  53,  63],\n",
       "         [ 43,  48,  59],\n",
       "         [ 41,  47,  59],\n",
       "         ...,\n",
       "         [ 59,  65,  70],\n",
       "         [ 51,  55,  50],\n",
       "         [ 37,  38,  39]],\n",
       "\n",
       "        [[ 47,  50,  60],\n",
       "         [ 42,  45,  56],\n",
       "         [ 41,  46,  58],\n",
       "         ...,\n",
       "         [ 52,  56,  58],\n",
       "         [ 53,  55,  49],\n",
       "         [ 44,  43,  42]]]], dtype=uint8)"
      ]
     },
     "execution_count": 5,
     "metadata": {},
     "output_type": "execute_result"
    }
   ],
   "source": [
    "training_data"
   ]
  },
  {
   "cell_type": "code",
   "execution_count": 6,
   "metadata": {},
   "outputs": [
    {
     "name": "stdout",
     "output_type": "stream",
     "text": [
      "X_train.shape (27446, 32, 32, 3)\n",
      "X_valid.shape (11763, 32, 32, 3)\n",
      "y_train.shape (27446,)\n",
      "y_valid.shape (11763,)\n"
     ]
    }
   ],
   "source": [
    "X_train, X_val, y_train, y_val = train_test_split(training_data, training_label, test_size=0.3, random_state=42, shuffle=True)\n",
    "\n",
    "X_train = X_train/255 \n",
    "X_val = X_val/255\n",
    "\n",
    "print(\"X_train.shape\", X_train.shape)\n",
    "print(\"X_valid.shape\", X_val.shape)\n",
    "print(\"y_train.shape\", y_train.shape)\n",
    "print(\"y_valid.shape\", y_val.shape)"
   ]
  },
  {
   "cell_type": "code",
   "execution_count": 7,
   "metadata": {},
   "outputs": [
    {
     "name": "stdout",
     "output_type": "stream",
     "text": [
      "(27446, 43)\n",
      "(11763, 43)\n"
     ]
    }
   ],
   "source": [
    "y_train = keras.utils.to_categorical(y_train, NUM_CATEGORIES)\n",
    "y_val = keras.utils.to_categorical(y_val, NUM_CATEGORIES)\n",
    "\n",
    "print(y_train.shape)\n",
    "print(y_val.shape)"
   ]
  },
  {
   "cell_type": "code",
   "execution_count": 8,
   "metadata": {},
   "outputs": [],
   "source": [
    "model = keras.models.Sequential([    \n",
    "    keras.layers.Conv2D(filters=16, kernel_size=(3,3), activation='relu', input_shape=(32,32,3)),\n",
    "    keras.layers.Conv2D(filters=32, kernel_size=(3,3), activation='relu'),\n",
    "    keras.layers.MaxPool2D(pool_size=(2, 2)),\n",
    "    keras.layers.BatchNormalization(axis=-1),\n",
    "    \n",
    "    keras.layers.Conv2D(filters=64, kernel_size=(3,3), activation='relu'),\n",
    "    keras.layers.Conv2D(filters=128, kernel_size=(3,3), activation='relu'),\n",
    "    keras.layers.MaxPool2D(pool_size=(2, 2)),\n",
    "    keras.layers.BatchNormalization(axis=-1),\n",
    "    \n",
    "    keras.layers.Flatten(),\n",
    "    keras.layers.Dense(512, activation='relu'),\n",
    "    keras.layers.BatchNormalization(),\n",
    "    keras.layers.Dropout(rate=0.5),\n",
    "    \n",
    "    keras.layers.Dense(43, activation='softmax')\n",
    "])"
   ]
  },
  {
   "cell_type": "code",
   "execution_count": 9,
   "metadata": {},
   "outputs": [
    {
     "name": "stderr",
     "output_type": "stream",
     "text": [
      "C:\\Users\\Team Knowhow\\anaconda3\\lib\\site-packages\\keras\\optimizers\\optimizer_v2\\adam.py:117: UserWarning: The `lr` argument is deprecated, use `learning_rate` instead.\n",
      "  super().__init__(name, **kwargs)\n"
     ]
    }
   ],
   "source": [
    "lr = 0.001\n",
    "epochs = 1\n",
    "\n",
    "opt = tf.keras.optimizers.legacy.Adam(lr=lr, decay=lr / (epochs * 0.5))\n",
    "model.compile(loss='categorical_crossentropy', optimizer=opt, metrics=['accuracy'])"
   ]
  },
  {
   "cell_type": "code",
   "execution_count": 10,
   "metadata": {},
   "outputs": [
    {
     "name": "stdout",
     "output_type": "stream",
     "text": [
      "858/858 [==============================] - 87s 99ms/step - loss: 1.0163 - accuracy: 0.7255 - val_loss: 0.0681 - val_accuracy: 0.9821\n"
     ]
    }
   ],
   "source": [
    "aug = ImageDataGenerator(\n",
    "    rotation_range=10,\n",
    "    zoom_range=0.15,\n",
    "    width_shift_range=0.1,\n",
    "    height_shift_range=0.1,\n",
    "    shear_range=0.15,\n",
    "    horizontal_flip=False,\n",
    "    vertical_flip=False,\n",
    "    fill_mode=\"nearest\")\n",
    "\n",
    "history = model.fit(aug.flow(X_train, y_train, batch_size=32), epochs=epochs, validation_data=(X_val, y_val))"
   ]
  },
  {
   "cell_type": "code",
   "execution_count": 11,
   "metadata": {},
   "outputs": [],
   "source": [
    "test_data = np.load('32_original_test_data.npy')\n",
    "test_labels = np.load('32_original_test_labels.npy')"
   ]
  },
  {
   "cell_type": "code",
   "execution_count": 16,
   "metadata": {},
   "outputs": [
    {
     "data": {
      "text/plain": [
       "array([42, 42, 42, ..., 42, 42, 42])"
      ]
     },
     "execution_count": 16,
     "metadata": {},
     "output_type": "execute_result"
    }
   ],
   "source": [
    "test_labels"
   ]
  },
  {
   "cell_type": "code",
   "execution_count": 13,
   "metadata": {},
   "outputs": [
    {
     "name": "stdout",
     "output_type": "stream",
     "text": [
      "395/395 [==============================] - 8s 20ms/step\n",
      "Test Data accuracy:  0.5067300079176564\n"
     ]
    }
   ],
   "source": [
    "\n",
    "X_test = test_data\n",
    "X_test = X_test/255\n",
    "\n",
    "pred = np.argmax(model.predict(X_test), axis=-1)\n",
    "\n",
    "#Accuracy with the test data\n",
    "print('Test Data accuracy: ',accuracy_score(test_labels, pred)*100)"
   ]
  },
  {
   "cell_type": "code",
   "execution_count": 14,
   "metadata": {},
   "outputs": [],
   "source": [
    "from sklearn.metrics import confusion_matrix\n",
    "cf = confusion_matrix(test_labels, pred)"
   ]
  },
  {
   "cell_type": "code",
   "execution_count": 15,
   "metadata": {},
   "outputs": [
    {
     "name": "stdout",
     "output_type": "stream",
     "text": [
      "              precision    recall  f1-score   support\n",
      "\n",
      "           0       0.00      0.00      0.00         0\n",
      "           1       0.00      0.00      0.00         0\n",
      "           2       0.00      0.00      0.00         0\n",
      "           3       0.00      0.00      0.00         0\n",
      "           4       0.00      0.00      0.00         0\n",
      "           5       0.00      0.00      0.00         0\n",
      "           6       0.00      0.00      0.00         0\n",
      "           7       0.00      0.00      0.00         0\n",
      "           8       0.00      0.00      0.00         0\n",
      "           9       0.00      0.00      0.00         0\n",
      "          10       0.00      0.00      0.00         0\n",
      "          11       0.00      0.00      0.00         0\n",
      "          12       0.00      0.00      0.00         0\n",
      "          13       0.00      0.00      0.00         0\n",
      "          14       0.00      0.00      0.00         0\n",
      "          15       0.00      0.00      0.00         0\n",
      "          16       0.00      0.00      0.00         0\n",
      "          17       0.00      0.00      0.00         0\n",
      "          18       0.00      0.00      0.00         0\n",
      "          19       0.00      0.00      0.00         0\n",
      "          20       0.00      0.00      0.00         0\n",
      "          21       0.00      0.00      0.00         0\n",
      "          22       0.00      0.00      0.00         0\n",
      "          23       0.00      0.00      0.00         0\n",
      "          24       0.00      0.00      0.00         0\n",
      "          25       0.00      0.00      0.00         0\n",
      "          26       0.00      0.00      0.00         0\n",
      "          27       0.00      0.00      0.00         0\n",
      "          28       0.00      0.00      0.00         0\n",
      "          29       0.00      0.00      0.00         0\n",
      "          30       0.00      0.00      0.00         0\n",
      "          31       0.00      0.00      0.00         0\n",
      "          32       0.00      0.00      0.00         0\n",
      "          33       0.00      0.00      0.00         0\n",
      "          34       0.00      0.00      0.00         0\n",
      "          35       0.00      0.00      0.00         0\n",
      "          36       0.00      0.00      0.00         0\n",
      "          37       0.00      0.00      0.00         0\n",
      "          38       0.00      0.00      0.00         0\n",
      "          39       0.00      0.00      0.00         0\n",
      "          40       0.00      0.00      0.00         0\n",
      "          41       0.00      0.00      0.00         0\n",
      "          42       1.00      0.01      0.01     12630\n",
      "\n",
      "    accuracy                           0.01     12630\n",
      "   macro avg       0.02      0.00      0.00     12630\n",
      "weighted avg       1.00      0.01      0.01     12630\n",
      "\n"
     ]
    },
    {
     "name": "stderr",
     "output_type": "stream",
     "text": [
      "C:\\Users\\Team Knowhow\\anaconda3\\lib\\site-packages\\sklearn\\metrics\\_classification.py:1318: UndefinedMetricWarning: Recall and F-score are ill-defined and being set to 0.0 in labels with no true samples. Use `zero_division` parameter to control this behavior.\n",
      "  _warn_prf(average, modifier, msg_start, len(result))\n",
      "C:\\Users\\Team Knowhow\\anaconda3\\lib\\site-packages\\sklearn\\metrics\\_classification.py:1318: UndefinedMetricWarning: Recall and F-score are ill-defined and being set to 0.0 in labels with no true samples. Use `zero_division` parameter to control this behavior.\n",
      "  _warn_prf(average, modifier, msg_start, len(result))\n",
      "C:\\Users\\Team Knowhow\\anaconda3\\lib\\site-packages\\sklearn\\metrics\\_classification.py:1318: UndefinedMetricWarning: Recall and F-score are ill-defined and being set to 0.0 in labels with no true samples. Use `zero_division` parameter to control this behavior.\n",
      "  _warn_prf(average, modifier, msg_start, len(result))\n"
     ]
    }
   ],
   "source": [
    "from sklearn.metrics import classification_report\n",
    "\n",
    "print(classification_report(test_labels, pred))"
   ]
  },
  {
   "cell_type": "code",
   "execution_count": null,
   "metadata": {},
   "outputs": [],
   "source": []
  }
 ],
 "metadata": {
  "kernelspec": {
   "display_name": "Python 3 (ipykernel)",
   "language": "python",
   "name": "python3"
  },
  "language_info": {
   "codemirror_mode": {
    "name": "ipython",
    "version": 3
   },
   "file_extension": ".py",
   "mimetype": "text/x-python",
   "name": "python",
   "nbconvert_exporter": "python",
   "pygments_lexer": "ipython3",
   "version": "3.9.12"
  }
 },
 "nbformat": 4,
 "nbformat_minor": 2
}
