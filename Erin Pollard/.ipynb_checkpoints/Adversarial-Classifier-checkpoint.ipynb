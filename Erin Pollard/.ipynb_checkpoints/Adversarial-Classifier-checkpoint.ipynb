{
 "cells": [
  {
   "cell_type": "markdown",
   "id": "7ee93cc2",
   "metadata": {},
   "source": [
    "# Classifying adversarial images"
   ]
  },
  {
   "cell_type": "markdown",
   "id": "20fc85c8",
   "metadata": {},
   "source": [
    "In order to aid in the correct classification of traffic signs, we wanted to explore designing a binary classifier which could distinguish between adversarial images and untampered images. In this notebook, the class label 1 represents an adversarial image and the class label 0 represents an untampered image."
   ]
  },
  {
   "cell_type": "markdown",
   "id": "fbc2ea2a",
   "metadata": {},
   "source": [
    "The idea would be to run images through this classifier first, before inputting the images into the multiclass CNN. The output from this binary classifier would serve as an additional feature for the multiclass CNN and would advise on whether the image it was classifying has been perturbed. "
   ]
  },
  {
   "cell_type": "markdown",
   "id": "f7b7ab66",
   "metadata": {},
   "source": [
    "First, import the necessary packages."
   ]
  },
  {
   "cell_type": "code",
   "execution_count": 1,
   "id": "bb595346",
   "metadata": {},
   "outputs": [],
   "source": [
    "import numpy as np\n",
    "import pandas as pd\n",
    "import os\n",
    "import cv2\n",
    "import matplotlib.pyplot as plt\n",
    "import tensorflow as tf\n",
    "from tensorflow import keras\n",
    "from PIL import Image\n",
    "from sklearn.model_selection import train_test_split\n",
    "from tensorflow.keras.preprocessing.image import ImageDataGenerator\n",
    "from tensorflow.keras.optimizers import Adam\n",
    "from sklearn.metrics import accuracy_score\n",
    "np.random.seed(42)\n",
    "\n",
    "from matplotlib import style\n",
    "style.use('fivethirtyeight')"
   ]
  },
  {
   "cell_type": "markdown",
   "id": "17b43242",
   "metadata": {},
   "source": [
    "Next, define the file paths for the adversarial images and real images. If you would like to replicate this notebook, the adversarial images can be found [here](https://drive.google.com/drive/u/0/folders/1B7XcUAJHHn1rkReNK7sENGZ61y_A8OY8). The untampered image npy file can be found [here](https://drive.google.com/drive/u/0/folders/19b7cLwvnNHwuOL3eQ0gaCBclAEKvD25B) and is called '32_filter_training_data.npy'. Once downloaded, you can edit the file paths below to match your desktop file paths."
   ]
  },
  {
   "cell_type": "code",
   "execution_count": 2,
   "id": "aa248320",
   "metadata": {},
   "outputs": [],
   "source": [
    "#untampered dataset (with bright dark filter applied), stored as npy files within folders\n",
    "untampered = np.load('C:\\\\Users\\\\Team Knowhow\\\\Documents\\\\YEAR 4\\\\Data Science Toolbox\\\\DST-NN-Project\\\\Erin Pollard\\\\32_filter_training_data.npy')\n",
    "\n",
    "#adversarial image dataset, stored as 4 npy files - 4 types of adversarial attacks\n",
    "adv_data1 = np.load('noisy_training.npy')\n",
    "adv_data2 = np.load('black_patched_training.npy')\n",
    "adv_data3 = np.load('white_patched_training.npy')\n",
    "adv_data4 = np.load('same_image_patched_training.npy')"
   ]
  },
  {
   "cell_type": "markdown",
   "id": "3f679698",
   "metadata": {},
   "source": [
    "Next, we want to create an array which stores the class labels. We shall store 156836 1's to the labels array and append 39,209 0's for the number of original images. We then combine the adversary and untampered ndarrays to form one training set, before shuffling both the training set and labels (using the same index)."
   ]
  },
  {
   "cell_type": "code",
   "execution_count": 3,
   "id": "19b45689",
   "metadata": {},
   "outputs": [],
   "source": [
    "ones = np.ones(156836,dtype='float32')\n",
    "zeros = np.zeros(39209,dtype='float32')\n",
    "labels = np.concatenate((ones,zeros),axis=0)\n"
   ]
  },
  {
   "cell_type": "code",
   "execution_count": 4,
   "id": "df2ae26b",
   "metadata": {},
   "outputs": [],
   "source": [
    "training_set = np.concatenate((adv_data1,adv_data2,adv_data3,adv_data4,untampered),axis=0,dtype='float32')"
   ]
  },
  {
   "cell_type": "code",
   "execution_count": 7,
   "id": "b553da8c",
   "metadata": {},
   "outputs": [],
   "source": [
    "s=np.arange(training_set.shape[0])\n",
    "np.random.seed(42)\n",
    "np.random.shuffle(s)\n",
    "training_set=training_set[s]\n",
    "labels=labels[s]"
   ]
  },
  {
   "cell_type": "markdown",
   "id": "fdcd5aa2",
   "metadata": {},
   "source": [
    "Here we create the train-validation split."
   ]
  },
  {
   "cell_type": "code",
   "execution_count": 12,
   "id": "866d1d56",
   "metadata": {},
   "outputs": [
    {
     "name": "stdout",
     "output_type": "stream",
     "text": [
      "X_train.shape (137231, 32, 32, 3)\n",
      "X_valid.shape (58814, 32, 32, 3)\n",
      "y_train.shape (137231,)\n",
      "y_valid.shape (58814,)\n"
     ]
    }
   ],
   "source": [
    "X_train, X_val, y_train, y_val = train_test_split(training_set, labels, test_size=0.3, random_state=42, shuffle=True)\n",
    "\n",
    "X_train = X_train\n",
    "X_val = X_val\n",
    "\n",
    "print(\"X_train.shape\", X_train.shape)\n",
    "print(\"X_valid.shape\", X_val.shape)\n",
    "print(\"y_train.shape\", y_train.shape)\n",
    "print(\"y_valid.shape\", y_val.shape)"
   ]
  },
  {
   "cell_type": "markdown",
   "id": "9608c73a",
   "metadata": {},
   "source": [
    "Next we define the structure of the model."
   ]
  },
  {
   "cell_type": "code",
   "execution_count": 13,
   "id": "615dc277",
   "metadata": {},
   "outputs": [],
   "source": [
    "model = keras.models.Sequential([    \n",
    "    keras.layers.Conv2D(16, (3,3), activation='relu', input_shape=(32, 32, 3)),\n",
    "    keras.layers.Conv2D(filters=32, kernel_size=(3,3), activation='relu'),\n",
    "    keras.layers.MaxPool2D(pool_size=(2, 2)),\n",
    "    keras.layers.BatchNormalization(axis=-1),\n",
    "    \n",
    "    keras.layers.Conv2D(filters=64, kernel_size=(3,3), activation='relu'),\n",
    "    keras.layers.Conv2D(filters=128, kernel_size=(3,3), activation='relu'),\n",
    "    keras.layers.Dropout(rate=0.4),\n",
    "    keras.layers.MaxPool2D(pool_size=(2, 2)),\n",
    "    keras.layers.BatchNormalization(axis=-1),\n",
    "    \n",
    "    keras.layers.Flatten(),\n",
    "    keras.layers.Dense(512, activation='relu'),\n",
    "    keras.layers.BatchNormalization(), #normalises output mean close to 0\n",
    "    keras.layers.Dropout(rate=0.4),\n",
    "    \n",
    "    keras.layers.Dense(1, activation='sigmoid')\n",
    "])"
   ]
  },
  {
   "cell_type": "code",
   "execution_count": 15,
   "id": "cc1893c9",
   "metadata": {},
   "outputs": [
    {
     "name": "stderr",
     "output_type": "stream",
     "text": [
      "C:\\Users\\Team Knowhow\\anaconda3\\lib\\site-packages\\keras\\optimizers\\optimizer_v2\\adam.py:117: UserWarning: The `lr` argument is deprecated, use `learning_rate` instead.\n",
      "  super().__init__(name, **kwargs)\n"
     ]
    }
   ],
   "source": [
    "lr = 0.001\n",
    "epochs = 3\n",
    "\n",
    "opt =tf.keras.optimizers.legacy.Adam(lr=lr, decay=lr / (epochs * 0.5))\n",
    "model.compile(loss='categorical_crossentropy', optimizer=opt, metrics=['accuracy'])"
   ]
  },
  {
   "cell_type": "code",
   "execution_count": 16,
   "id": "0c9a1a59",
   "metadata": {},
   "outputs": [
    {
     "name": "stdout",
     "output_type": "stream",
     "text": [
      "4289/4289 [==============================] - 484s 112ms/step - loss: 0.0000e+00 - accuracy: 0.6073 - val_loss: 0.0000e+00 - val_accuracy: 0.7755\n"
     ]
    }
   ],
   "source": [
    "aug = ImageDataGenerator(\n",
    "    rotation_range=10,\n",
    "    zoom_range=0.15,\n",
    "    width_shift_range=0.1,\n",
    "    height_shift_range=0.1,\n",
    "    shear_range=0.15,\n",
    "    horizontal_flip=False,\n",
    "    vertical_flip=False,\n",
    "    fill_mode=\"nearest\")\n",
    "\n",
    "history = model.fit(aug.flow(X_train, y_train, batch_size=32), epochs=epochs, validation_data=(X_val, y_val))"
   ]
  },
  {
   "cell_type": "markdown",
   "id": "35e8bbd5",
   "metadata": {},
   "source": [
    "Below plots should only be ran if more than one epoch is used."
   ]
  },
  {
   "cell_type": "code",
   "execution_count": 18,
   "id": "9b98cf67",
   "metadata": {},
   "outputs": [
    {
     "data": {
      "image/png": "[encoded data removed]",
      "text/plain": [
       "<Figure size 432x288 with 1 Axes>"
      ]
     },
     "metadata": {},
     "output_type": "display_data"
    },
    {
     "data": {
      "image/png": "[encoded data removed]",
      "text/plain": [
       "<Figure size 432x288 with 1 Axes>"
      ]
     },
     "metadata": {},
     "output_type": "display_data"
    }
   ],
   "source": [
    "# summarize history for accuracy \n",
    "plt.plot(history.history['accuracy'])\n",
    "plt.plot(history.history['val_accuracy'])\n",
    "plt.title('Model accuracy')\n",
    "plt.ylabel('Accuracy')\n",
    "plt.xlabel('Epoch')\n",
    "plt.legend(['Train', 'Validation'], loc='upper left')\n",
    "plt.show()\n",
    "# summarize history for loss\n",
    "plt.plot(history.history['loss'])\n",
    "plt.plot(history.history['val_loss'])\n",
    "plt.title('Model loss')\n",
    "plt.ylabel('Loss')\n",
    "plt.xlabel('Epoch')\n",
    "plt.legend(['Train', 'Validation'], loc='upper left')\n",
    "plt.show()"
   ]
  },
  {
   "cell_type": "code",
   "execution_count": null,
   "id": "3db13f58",
   "metadata": {},
   "outputs": [],
   "source": []
  }
 ],
 "metadata": {
  "kernelspec": {
   "display_name": "hpc_env",
   "language": "python",
   "name": "hpc_env"
  },
  "language_info": {
   "codemirror_mode": {
    "name": "ipython",
    "version": 3
   },
   "file_extension": ".py",
   "mimetype": "text/x-python",
   "name": "python",
   "nbconvert_exporter": "python",
   "pygments_lexer": "ipython3",
   "version": "3.9.12"
  }
 },
 "nbformat": 4,
 "nbformat_minor": 5
}
