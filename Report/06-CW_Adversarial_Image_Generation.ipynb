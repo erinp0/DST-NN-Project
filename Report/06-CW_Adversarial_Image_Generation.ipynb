{
 "cells": [
  {
   "cell_type": "markdown",
   "id": "25f66ae4",
   "metadata": {},
   "source": [
    "# Creating Adversarial Images Using the Carlini-Wagner Attack"
   ]
  },
  {
   "cell_type": "markdown",
   "id": "e1ed1bea",
   "metadata": {},
   "source": [
    "## 1. Introduction\n",
    "\n",
    "Now in this section, we develop a grey-box attack, i.e. one that knows the initial model architecture and training weights. The attack we decided to implement is the Carlini-Wagner L2 attack, first introduced in [Towards Evaluating the Robustness\n",
    "of Neural Networks](https://arxiv.org/pdf/1608.04644.pdf). This attack uses a loss function which balances the size of perturbation produced against probability of successfully causing a misclassification, to produce adversarial examples which should not be very obvious to the human eye.\n",
    "\n",
    "To carry out this attack, we use the [cleverhans](https://github.com/cleverhans-lab/cleverhans) library. There are many hyperparameters of the attack to consider, which are explained in the [carlini_wagner_l2.py](https://github.com/cleverhans-lab/cleverhans/blob/master/cleverhans/tf2/attacks/carlini_wagner_l2.py) file. After some investigation into these hyperparameters of the attack, we decided on the following setup. \n",
    "\n",
    "We fix the 'initial_const' and 'binary_search_steps' at 1 and 15 respectively; 'initial_const' defines an initial weight on the importance of successfully causing misclassification, and 'binary_search_steps' controls the number of times the algorithm looks for an ideal perturbation which balances perturbation size against misclassification success. These two values seemed to give a good balance between a perturbation being found and the perturbation not being too large.\n",
    "\n",
    "We create half of the grey-box adversarial test set with a 'learning_rate' of 0.05 and half with 0.2. The learning rate controls how much change is made per search step. The 0.2 value should give a larger perturbation than the 0.05 value. I wanted to include two variations of the algorithm as the defences may be better at dealing with smaller or larger perturbations, and this should test it more thoroughly."
   ]
  },
  {
   "cell_type": "code",
   "execution_count": 1,
   "id": "83f5fd0b",
   "metadata": {},
   "outputs": [],
   "source": [
    "import numpy as np\n",
    "np.random.seed(1)\n",
    "import matplotlib.pyplot as plt\n",
    "import tensorflow as tf\n",
    "#!pip3 install cleverhans\n",
    "from cleverhans.tf2.attacks import carlini_wagner_l2"
   ]
  },
  {
   "cell_type": "markdown",
   "id": "9a017dab",
   "metadata": {},
   "source": [
    "## 2. Investigation\n",
    "First we load in the test images, as well as the test data labels so that we can compare the predictions to the true class and check everything is as it should be."
   ]
  },
  {
   "cell_type": "code",
   "execution_count": 2,
   "id": "5a551196",
   "metadata": {},
   "outputs": [],
   "source": [
    "img_array = np.load('32_filter_test_data.npy')\n",
    "labels=np.load('32_filter_test_label.npy')"
   ]
  },
  {
   "cell_type": "markdown",
   "id": "a8afcc3a",
   "metadata": {},
   "source": [
    "First we have the code which uses the 'learning_rate' of 0.05. We show how it works on image with index 9 in the test set."
   ]
  },
  {
   "cell_type": "code",
   "execution_count": 3,
   "id": "1b696efe",
   "metadata": {},
   "outputs": [],
   "source": [
    "index=9"
   ]
  },
  {
   "cell_type": "markdown",
   "id": "79faa63d",
   "metadata": {},
   "source": [
    "The Carlini-Wagner attack can be implemented by either supplying the model itself or querying the model to learn about its outputs. From what we discussed about our setting, we will assume that the attackers somehow have access to the original model. So we load that in here."
   ]
  },
  {
   "cell_type": "code",
   "execution_count": 4,
   "id": "cea29ac3",
   "metadata": {},
   "outputs": [],
   "source": [
    "model = tf.keras.models.load_model('basic_cnn_model_filter.h5')"
   ]
  },
  {
   "cell_type": "markdown",
   "id": "b79092ea",
   "metadata": {},
   "source": [
    "We now must define a function which returns the model as that is the form that the attack object expects."
   ]
  },
  {
   "cell_type": "code",
   "execution_count": 5,
   "id": "7cae6754",
   "metadata": {},
   "outputs": [],
   "source": [
    "def model_fn(x):\n",
    "    return model(x)"
   ]
  },
  {
   "cell_type": "markdown",
   "id": "5399ce29",
   "metadata": {},
   "source": [
    "This line of code defines the attack."
   ]
  },
  {
   "cell_type": "code",
   "execution_count": 6,
   "id": "58776ed9",
   "metadata": {},
   "outputs": [],
   "source": [
    "attack = carlini_wagner_l2.CarliniWagnerL2(model_fn,initial_const=1,learning_rate=5e-2,binary_search_steps=15)"
   ]
  },
  {
   "cell_type": "markdown",
   "id": "a25013d7",
   "metadata": {},
   "source": [
    "We now get the image from the image array, put it through a keras preprocessing function to make sure it is in the correct form and then expand to give the image an extra dimension. This is because the attack expects a batch of images, but we are just trying to test it on one currently, so we have to do this to make sure it is in the correct form."
   ]
  },
  {
   "cell_type": "code",
   "execution_count": 7,
   "id": "445d6d07",
   "metadata": {},
   "outputs": [],
   "source": [
    "image = tf.keras.preprocessing.image.img_to_array(img_array[index])\n",
    "image_batch = np.expand_dims(image, axis=0)"
   ]
  },
  {
   "cell_type": "markdown",
   "id": "6c15d2d6",
   "metadata": {},
   "source": [
    "Then this is the code to actually run the attack, and we afterwards return it to its original dimensions."
   ]
  },
  {
   "cell_type": "code",
   "execution_count": 8,
   "id": "71948c77",
   "metadata": {},
   "outputs": [],
   "source": [
    "adv_image_batch = attack.attack(image_batch)\n",
    "adv_image = adv_image_batch[0]"
   ]
  },
  {
   "cell_type": "markdown",
   "id": "95b747bd",
   "metadata": {},
   "source": [
    "So let's check the predictions of the original image against the adversarial image, as well as the correct class. We also include a check that the adversarial image has changed from the original one, because during my experimenting I found that occasionally the attack cannot find a pertubation and so the image does not change."
   ]
  },
  {
   "cell_type": "code",
   "execution_count": 9,
   "id": "238e45a9",
   "metadata": {},
   "outputs": [
    {
     "name": "stdout",
     "output_type": "stream",
     "text": [
      "1/1 [==============================] - 0s 382ms/step\n",
      "1/1 [==============================] - 0s 42ms/step\n",
      "tf.Tensor(37, shape=(), dtype=int64)\n",
      "tf.Tensor(35, shape=(), dtype=int64)\n",
      "35\n",
      "False\n"
     ]
    }
   ],
   "source": [
    "adv_prediction = model.predict(tf.expand_dims(adv_image, axis=0))\n",
    "prediction = model.predict(tf.expand_dims(image, axis=0))\n",
    "adv_class = tf.argmax(adv_prediction[0])\n",
    "pred_class = tf.argmax(prediction[0])\n",
    "print(adv_class)\n",
    "print(pred_class)\n",
    "print(labels[index])\n",
    "print(np.array_equal(image, adv_image))"
   ]
  },
  {
   "cell_type": "markdown",
   "id": "6ce84384",
   "metadata": {},
   "source": [
    "We can see that there has successfully been a misclassification of the adversarial image, and it looks like everything else is as it should be. Now we take a look at the output and how obvious the pertubation is to the human eye."
   ]
  },
  {
   "cell_type": "code",
   "execution_count": 10,
   "id": "8f5c8d01",
   "metadata": {},
   "outputs": [
    {
     "data": {
      "text/plain": [
       "<matplotlib.image.AxesImage at 0x20103653730>"
      ]
     },
     "execution_count": 10,
     "metadata": {},
     "output_type": "execute_result"
    },
    {
     "data": {
      "image/png": "[encoded data removed]",
      "text/plain": [
       "<Figure size 640x480 with 1 Axes>"
      ]
     },
     "metadata": {},
     "output_type": "display_data"
    }
   ],
   "source": [
    "plt.imshow(image)"
   ]
  },
  {
   "cell_type": "code",
   "execution_count": 11,
   "id": "3704dcc0",
   "metadata": {},
   "outputs": [
    {
     "data": {
      "text/plain": [
       "<matplotlib.image.AxesImage at 0x2010368baf0>"
      ]
     },
     "execution_count": 11,
     "metadata": {},
     "output_type": "execute_result"
    },
    {
     "data": {
      "image/png": "[encoded data removed]",
      "text/plain": [
       "<Figure size 640x480 with 1 Axes>"
      ]
     },
     "metadata": {},
     "output_type": "display_data"
    }
   ],
   "source": [
    "plt.imshow(adv_image)"
   ]
  },
  {
   "cell_type": "markdown",
   "id": "2314626b",
   "metadata": {},
   "source": [
    "We can see that the perturbation is definitely visible, so it fits our requirement of being able to physically apply this to road signs. However, it is not too large that it would immediately be noticeable as something trying to cause harm. So overall, this is in the realms of what we were aiming for.\n",
    "\n",
    "We now check that the attack algorithm is working not just on this example. Here, we test the first 100 images in the test set and see what number of them didn't change."
   ]
  },
  {
   "cell_type": "code",
   "execution_count": 372,
   "id": "75d22f8a",
   "metadata": {},
   "outputs": [
    {
     "name": "stdout",
     "output_type": "stream",
     "text": [
      "1/1 [==============================] - 0s 172ms/step\n",
      "1/1 [==============================] - 0s 22ms/step\n",
      "1/1 [==============================] - 0s 112ms/step\n",
      "1/1 [==============================] - 0s 35ms/step\n",
      "1/1 [==============================] - 0s 142ms/step\n",
      "1/1 [==============================] - 0s 21ms/step\n",
      "1/1 [==============================] - 0s 153ms/step\n",
      "1/1 [==============================] - 0s 24ms/step\n",
      "1/1 [==============================] - 0s 158ms/step\n",
      "1/1 [==============================] - 0s 20ms/step\n",
      "1/1 [==============================] - 0s 127ms/step\n",
      "1/1 [==============================] - 0s 27ms/step\n",
      "1/1 [==============================] - 0s 134ms/step\n",
      "1/1 [==============================] - 0s 23ms/step\n",
      "1/1 [==============================] - 0s 157ms/step\n",
      "1/1 [==============================] - 0s 34ms/step\n",
      "1/1 [==============================] - 0s 141ms/step\n",
      "1/1 [==============================] - 0s 25ms/step\n",
      "1/1 [==============================] - 0s 141ms/step\n",
      "1/1 [==============================] - 0s 46ms/step\n",
      "1/1 [==============================] - 0s 120ms/step\n",
      "1/1 [==============================] - 0s 33ms/step\n",
      "1/1 [==============================] - 0s 112ms/step\n",
      "1/1 [==============================] - 0s 26ms/step\n",
      "1/1 [==============================] - 0s 142ms/step\n",
      "1/1 [==============================] - 0s 29ms/step\n",
      "1/1 [==============================] - 0s 144ms/step\n",
      "1/1 [==============================] - 0s 24ms/step\n",
      "1/1 [==============================] - 0s 147ms/step\n",
      "1/1 [==============================] - 0s 18ms/step\n",
      "1/1 [==============================] - 0s 111ms/step\n",
      "1/1 [==============================] - 0s 30ms/step\n",
      "1/1 [==============================] - 0s 79ms/step\n",
      "1/1 [==============================] - 0s 27ms/step\n",
      "1/1 [==============================] - 0s 143ms/step\n",
      "1/1 [==============================] - 0s 19ms/step\n",
      "1/1 [==============================] - 0s 126ms/step\n",
      "1/1 [==============================] - 0s 29ms/step\n",
      "1/1 [==============================] - 1s 560ms/step\n",
      "1/1 [==============================] - 0s 26ms/step\n",
      "1/1 [==============================] - 0s 160ms/step\n",
      "1/1 [==============================] - 0s 22ms/step\n",
      "1/1 [==============================] - 0s 173ms/step\n",
      "1/1 [==============================] - 0s 26ms/step\n",
      "1/1 [==============================] - 0s 97ms/step\n",
      "1/1 [==============================] - 0s 20ms/step\n",
      "1/1 [==============================] - 0s 157ms/step\n",
      "1/1 [==============================] - 0s 34ms/step\n",
      "1/1 [==============================] - 0s 126ms/step\n",
      "1/1 [==============================] - 0s 22ms/step\n",
      "1/1 [==============================] - 0s 173ms/step\n",
      "1/1 [==============================] - 0s 21ms/step\n",
      "1/1 [==============================] - 0s 126ms/step\n",
      "1/1 [==============================] - 0s 23ms/step\n",
      "1/1 [==============================] - 0s 144ms/step\n",
      "1/1 [==============================] - 0s 29ms/step\n",
      "1/1 [==============================] - 0s 126ms/step\n",
      "1/1 [==============================] - 0s 17ms/step\n",
      "1/1 [==============================] - 0s 110ms/step\n",
      "1/1 [==============================] - 0s 26ms/step\n",
      "1/1 [==============================] - 0s 160ms/step\n",
      "1/1 [==============================] - 0s 37ms/step\n",
      "1/1 [==============================] - 0s 131ms/step\n",
      "1/1 [==============================] - 0s 40ms/step\n",
      "1/1 [==============================] - 0s 111ms/step\n",
      "1/1 [==============================] - 0s 40ms/step\n",
      "1/1 [==============================] - 0s 111ms/step\n",
      "1/1 [==============================] - 0s 27ms/step\n",
      "1/1 [==============================] - 0s 126ms/step\n",
      "1/1 [==============================] - 0s 22ms/step\n",
      "1/1 [==============================] - 0s 96ms/step\n",
      "1/1 [==============================] - 0s 29ms/step\n",
      "1/1 [==============================] - 0s 94ms/step\n",
      "1/1 [==============================] - 0s 31ms/step\n",
      "1/1 [==============================] - 0s 120ms/step\n",
      "1/1 [==============================] - 0s 34ms/step\n",
      "1/1 [==============================] - 0s 126ms/step\n",
      "1/1 [==============================] - 0s 21ms/step\n",
      "1/1 [==============================] - 0s 126ms/step\n",
      "1/1 [==============================] - 0s 29ms/step\n",
      "1/1 [==============================] - 0s 151ms/step\n",
      "1/1 [==============================] - 0s 19ms/step\n",
      "1/1 [==============================] - 0s 116ms/step\n",
      "1/1 [==============================] - 0s 29ms/step\n",
      "1/1 [==============================] - 0s 173ms/step\n",
      "1/1 [==============================] - 0s 32ms/step\n",
      "1/1 [==============================] - 0s 174ms/step\n",
      "1/1 [==============================] - 0s 26ms/step\n",
      "1/1 [==============================] - 0s 157ms/step\n",
      "1/1 [==============================] - 0s 34ms/step\n",
      "1/1 [==============================] - 0s 110ms/step\n",
      "1/1 [==============================] - 0s 19ms/step\n",
      "1/1 [==============================] - 0s 175ms/step\n",
      "1/1 [==============================] - 0s 26ms/step\n",
      "1/1 [==============================] - 0s 142ms/step\n",
      "1/1 [==============================] - 0s 21ms/step\n",
      "1/1 [==============================] - 0s 126ms/step\n",
      "1/1 [==============================] - 0s 32ms/step\n",
      "1/1 [==============================] - 0s 126ms/step\n",
      "1/1 [==============================] - 0s 27ms/step\n",
      "1/1 [==============================] - 0s 94ms/step\n",
      "1/1 [==============================] - 0s 19ms/step\n",
      "1/1 [==============================] - 0s 112ms/step\n",
      "1/1 [==============================] - 0s 27ms/step\n",
      "1/1 [==============================] - 0s 108ms/step\n",
      "1/1 [==============================] - 0s 15ms/step\n",
      "1/1 [==============================] - 0s 132ms/step\n",
      "1/1 [==============================] - 0s 16ms/step\n",
      "1/1 [==============================] - 0s 142ms/step\n",
      "1/1 [==============================] - 0s 32ms/step\n",
      "1/1 [==============================] - 0s 158ms/step\n",
      "1/1 [==============================] - 0s 16ms/step\n",
      "1/1 [==============================] - 0s 157ms/step\n",
      "1/1 [==============================] - 0s 16ms/step\n",
      "1/1 [==============================] - 0s 159ms/step\n",
      "1/1 [==============================] - 0s 7ms/step\n",
      "1/1 [==============================] - 0s 122ms/step\n",
      "1/1 [==============================] - 0s 32ms/step\n",
      "1/1 [==============================] - 0s 174ms/step\n",
      "1/1 [==============================] - 0s 32ms/step\n",
      "1/1 [==============================] - 0s 158ms/step\n",
      "1/1 [==============================] - 0s 33ms/step\n",
      "1/1 [==============================] - 0s 174ms/step\n",
      "1/1 [==============================] - 0s 16ms/step\n",
      "1/1 [==============================] - 0s 110ms/step\n",
      "1/1 [==============================] - 0s 32ms/step\n",
      "1/1 [==============================] - 0s 128ms/step\n",
      "1/1 [==============================] - 0s 20ms/step\n",
      "1/1 [==============================] - 0s 122ms/step\n",
      "1/1 [==============================] - 0s 31ms/step\n",
      "1/1 [==============================] - 0s 118ms/step\n",
      "1/1 [==============================] - 0s 22ms/step\n",
      "1/1 [==============================] - 0s 166ms/step\n",
      "1/1 [==============================] - 0s 32ms/step\n",
      "1/1 [==============================] - 0s 149ms/step\n",
      "1/1 [==============================] - 0s 24ms/step\n",
      "1/1 [==============================] - 0s 116ms/step\n",
      "1/1 [==============================] - 0s 17ms/step\n",
      "1/1 [==============================] - 0s 110ms/step\n",
      "1/1 [==============================] - 0s 31ms/step\n",
      "1/1 [==============================] - 0s 152ms/step\n",
      "1/1 [==============================] - 0s 33ms/step\n",
      "1/1 [==============================] - 0s 137ms/step\n",
      "1/1 [==============================] - 0s 16ms/step\n",
      "1/1 [==============================] - 0s 141ms/step\n",
      "1/1 [==============================] - 0s 17ms/step\n",
      "1/1 [==============================] - 0s 145ms/step\n",
      "1/1 [==============================] - 0s 47ms/step\n",
      "1/1 [==============================] - 0s 160ms/step\n",
      "1/1 [==============================] - 0s 16ms/step\n",
      "1/1 [==============================] - 0s 126ms/step\n",
      "1/1 [==============================] - 0s 14ms/step\n",
      "1/1 [==============================] - 0s 123ms/step\n",
      "1/1 [==============================] - 0s 24ms/step\n",
      "1/1 [==============================] - 0s 115ms/step\n",
      "1/1 [==============================] - 0s 18ms/step\n",
      "1/1 [==============================] - 0s 101ms/step\n",
      "1/1 [==============================] - 0s 16ms/step\n",
      "1/1 [==============================] - 0s 156ms/step\n",
      "1/1 [==============================] - 0s 32ms/step\n",
      "1/1 [==============================] - 0s 96ms/step\n",
      "1/1 [==============================] - 0s 31ms/step\n",
      "1/1 [==============================] - 0s 173ms/step\n",
      "1/1 [==============================] - 0s 32ms/step\n",
      "1/1 [==============================] - 0s 143ms/step\n",
      "1/1 [==============================] - 0s 31ms/step\n",
      "1/1 [==============================] - 0s 159ms/step\n",
      "1/1 [==============================] - 0s 20ms/step\n",
      "1/1 [==============================] - 0s 173ms/step\n",
      "1/1 [==============================] - 0s 19ms/step\n",
      "1/1 [==============================] - 0s 110ms/step\n",
      "1/1 [==============================] - 0s 32ms/step\n",
      "1/1 [==============================] - 0s 85ms/step\n",
      "1/1 [==============================] - 0s 35ms/step\n",
      "1/1 [==============================] - 0s 160ms/step\n",
      "1/1 [==============================] - 0s 21ms/step\n",
      "1/1 [==============================] - 0s 190ms/step\n",
      "1/1 [==============================] - 0s 32ms/step\n",
      "1/1 [==============================] - 0s 156ms/step\n",
      "1/1 [==============================] - 0s 36ms/step\n",
      "1/1 [==============================] - 0s 174ms/step\n",
      "1/1 [==============================] - 0s 16ms/step\n",
      "1/1 [==============================] - 0s 165ms/step\n",
      "1/1 [==============================] - 0s 26ms/step\n",
      "1/1 [==============================] - 0s 142ms/step\n",
      "1/1 [==============================] - 0s 15ms/step\n",
      "1/1 [==============================] - 0s 191ms/step\n",
      "1/1 [==============================] - 0s 15ms/step\n",
      "1/1 [==============================] - 0s 125ms/step\n",
      "1/1 [==============================] - 0s 10ms/step\n",
      "1/1 [==============================] - 0s 146ms/step\n",
      "1/1 [==============================] - 0s 38ms/step\n",
      "1/1 [==============================] - 0s 168ms/step\n",
      "1/1 [==============================] - 0s 31ms/step\n",
      "1/1 [==============================] - 0s 146ms/step\n",
      "1/1 [==============================] - 0s 20ms/step\n",
      "1/1 [==============================] - 0s 144ms/step\n",
      "1/1 [==============================] - 0s 31ms/step\n",
      "1/1 [==============================] - 0s 120ms/step\n",
      "1/1 [==============================] - 0s 24ms/step\n"
     ]
    }
   ],
   "source": [
    "count=0\n",
    "for i in range(100):\n",
    "    index=i\n",
    "    img_array = np.load('32_filter_test_data.npy')\n",
    "    model = tf.keras.models.load_model('basic_cnn_model_filter.h5')\n",
    "    def model_fn(x):\n",
    "        return model(x)\n",
    "    attack = carlini_wagner_l2.CarliniWagnerL2(model_fn,initial_const=1,learning_rate=5e-2,binary_search_steps=15)\n",
    "    image = tf.keras.preprocessing.image.img_to_array(img_array[index])\n",
    "    image_batch = np.expand_dims(image, axis=0)\n",
    "    adv_image_batch = attack.attack(image_batch)\n",
    "    adv_image = adv_image_batch[0]\n",
    "    adv_prediction = model.predict(tf.expand_dims(adv_image, axis=0))\n",
    "    prediction = model.predict(tf.expand_dims(image, axis=0))\n",
    "    adv_class = tf.argmax(adv_prediction[0])\n",
    "    pred_class = tf.argmax(prediction[0])\n",
    "    if adv_class == pred_class:\n",
    "        count+=1"
   ]
  },
  {
   "cell_type": "code",
   "execution_count": 373,
   "id": "65e986b7",
   "metadata": {},
   "outputs": [
    {
     "name": "stdout",
     "output_type": "stream",
     "text": [
      "2\n"
     ]
    }
   ],
   "source": [
    "print(count)"
   ]
  },
  {
   "cell_type": "markdown",
   "id": "d609d124",
   "metadata": {},
   "source": [
    "2/100 seems not too bad for failures.\n",
    "\n",
    "Now let's have a look at what happens when we increase the 'learning_rate' to 0.2."
   ]
  },
  {
   "cell_type": "code",
   "execution_count": 36,
   "id": "d414709c",
   "metadata": {},
   "outputs": [
    {
     "name": "stdout",
     "output_type": "stream",
     "text": [
      "1/1 [==============================] - 0s 273ms/step\n",
      "1/1 [==============================] - 0s 46ms/step\n",
      "tf.Tensor(37, shape=(), dtype=int64)\n",
      "tf.Tensor(35, shape=(), dtype=int64)\n",
      "35\n",
      "False\n"
     ]
    }
   ],
   "source": [
    "index=9\n",
    "img_array = np.load('32_filter_test_data.npy')\n",
    "model = tf.keras.models.load_model('basic_cnn_model_filter.h5')\n",
    "def model_fn(x):\n",
    "    return model(x)\n",
    "attack = carlini_wagner_l2.CarliniWagnerL2(model_fn,initial_const=1,learning_rate=2e-1,binary_search_steps=15)\n",
    "image = tf.keras.preprocessing.image.img_to_array(img_array[index])\n",
    "image_batch = np.expand_dims(image, axis=0)\n",
    "adv_image_batch = attack.attack(image_batch)\n",
    "adv_image = adv_image_batch[0]\n",
    "adv_prediction = model.predict(tf.expand_dims(adv_image, axis=0))\n",
    "prediction = model.predict(tf.expand_dims(image, axis=0))\n",
    "adv_class = tf.argmax(adv_prediction[0])\n",
    "pred_class = tf.argmax(prediction[0])\n",
    "print(adv_class)\n",
    "print(pred_class)\n",
    "print(labels[index])\n",
    "print(np.array_equal(image, adv_image))"
   ]
  },
  {
   "cell_type": "code",
   "execution_count": 37,
   "id": "c91e0d68",
   "metadata": {},
   "outputs": [
    {
     "data": {
      "text/plain": [
       "<matplotlib.image.AxesImage at 0x2c4d4846580>"
      ]
     },
     "execution_count": 37,
     "metadata": {},
     "output_type": "execute_result"
    },
    {
     "data": {
      "image/png": "[encoded data removed]",
      "text/plain": [
       "<Figure size 640x480 with 1 Axes>"
      ]
     },
     "metadata": {},
     "output_type": "display_data"
    }
   ],
   "source": [
    "plt.imshow(image)"
   ]
  },
  {
   "cell_type": "code",
   "execution_count": 38,
   "id": "eee4a403",
   "metadata": {},
   "outputs": [
    {
     "data": {
      "text/plain": [
       "<matplotlib.image.AxesImage at 0x2c4d5579af0>"
      ]
     },
     "execution_count": 38,
     "metadata": {},
     "output_type": "execute_result"
    },
    {
     "data": {
      "image/png": "[encoded data removed]",
      "text/plain": [
       "<Figure size 640x480 with 1 Axes>"
      ]
     },
     "metadata": {},
     "output_type": "display_data"
    }
   ],
   "source": [
    "plt.imshow(adv_image)"
   ]
  },
  {
   "cell_type": "markdown",
   "id": "00869a87",
   "metadata": {},
   "source": [
    "This definitely produces a different style of perturbation, so we will use this for half of the test set to give some variety."
   ]
  },
  {
   "cell_type": "markdown",
   "id": "5bda6edc",
   "metadata": {},
   "source": [
    "## 3. Test Set Generation\n",
    "\n",
    "Each adversarial image creation takes a few minutes so we will need to parallelise the generation of 12630 of them. I will now split into into batches to run on the HPC. I will do 421 batches since we have:"
   ]
  },
  {
   "cell_type": "code",
   "execution_count": 52,
   "id": "5815d5ef",
   "metadata": {},
   "outputs": [
    {
     "data": {
      "text/plain": [
       "421.0"
      ]
     },
     "execution_count": 52,
     "metadata": {},
     "output_type": "execute_result"
    }
   ],
   "source": [
    "len(img_array)/30"
   ]
  },
  {
   "cell_type": "markdown",
   "id": "c456fa89",
   "metadata": {},
   "source": [
    "We will do 211 batches of the 0.05 learning rate and 210 batches of the 0.2 learning rate as we don't require them to be equal. This means we will produce 6330 with learning rate 0.05."
   ]
  },
  {
   "cell_type": "code",
   "execution_count": 105,
   "id": "bcfe9568",
   "metadata": {},
   "outputs": [
    {
     "data": {
      "text/plain": [
       "6330"
      ]
     },
     "execution_count": 105,
     "metadata": {},
     "output_type": "execute_result"
    }
   ],
   "source": [
    "30*211"
   ]
  },
  {
   "cell_type": "markdown",
   "id": "029a430d",
   "metadata": {},
   "source": [
    "So each batch will be 30 images long. Each image takes less than 10 minutes to complete so each batch will take less than 300 minutes which equals 5 hours. So we can set a limit of 5 hours on each batch. We will just do a run through below of a batch of two to demonstrate."
   ]
  },
  {
   "cell_type": "code",
   "execution_count": 109,
   "id": "e0f0b2e9",
   "metadata": {},
   "outputs": [],
   "source": [
    "batch_size=2\n",
    "index=1\n",
    "adv_img_array=np.zeros((batch_size,32,32,3))\n",
    "for i in range(batch_size):\n",
    "    attack = carlini_wagner_l2.CarliniWagnerL2(model_fn,initial_const=1,learning_rate=2e-1,binary_search_steps=15)\n",
    "    current_index=(index-1)*batch_size+i\n",
    "    image = tf.keras.preprocessing.image.img_to_array(img_array[current_index])\n",
    "    image_batch = np.expand_dims(image, axis=0)\n",
    "    adv_image_batch = attack.attack(image_batch)\n",
    "    adv_img_array[i] = adv_image_batch[0]"
   ]
  },
  {
   "cell_type": "code",
   "execution_count": 110,
   "id": "7453d743",
   "metadata": {},
   "outputs": [
    {
     "data": {
      "text/plain": [
       "<matplotlib.image.AxesImage at 0x2c4d2e5a4c0>"
      ]
     },
     "execution_count": 110,
     "metadata": {},
     "output_type": "execute_result"
    },
    {
     "data": {
      "image/png": "[encoded data removed]",
      "text/plain": [
       "<Figure size 640x480 with 1 Axes>"
      ]
     },
     "metadata": {},
     "output_type": "display_data"
    }
   ],
   "source": [
    "plt.imshow(adv_img_array[0])"
   ]
  },
  {
   "cell_type": "code",
   "execution_count": 111,
   "id": "a7d0f650",
   "metadata": {},
   "outputs": [
    {
     "data": {
      "text/plain": [
       "<matplotlib.image.AxesImage at 0x2c4d4744910>"
      ]
     },
     "execution_count": 111,
     "metadata": {},
     "output_type": "execute_result"
    },
    {
     "data": {
      "image/png": "[encoded data removed]",
      "text/plain": [
       "<Figure size 640x480 with 1 Axes>"
      ]
     },
     "metadata": {},
     "output_type": "display_data"
    }
   ],
   "source": [
    "plt.imshow(adv_img_array[1])"
   ]
  },
  {
   "cell_type": "markdown",
   "id": "dd33be28",
   "metadata": {},
   "source": [
    "Just to check we have our indices correct, we look at the corresponding images in the original array."
   ]
  },
  {
   "cell_type": "code",
   "execution_count": 112,
   "id": "859a427b",
   "metadata": {},
   "outputs": [
    {
     "data": {
      "text/plain": [
       "<matplotlib.image.AxesImage at 0x2c48000cb20>"
      ]
     },
     "execution_count": 112,
     "metadata": {},
     "output_type": "execute_result"
    },
    {
     "data": {
      "image/png": "[encoded data removed]",
      "text/plain": [
       "<Figure size 640x480 with 1 Axes>"
      ]
     },
     "metadata": {},
     "output_type": "display_data"
    }
   ],
   "source": [
    "plt.imshow(img_array[0])"
   ]
  },
  {
   "cell_type": "code",
   "execution_count": 113,
   "id": "ba62b265",
   "metadata": {},
   "outputs": [
    {
     "data": {
      "text/plain": [
       "<matplotlib.image.AxesImage at 0x2c4d2e2c8e0>"
      ]
     },
     "execution_count": 113,
     "metadata": {},
     "output_type": "execute_result"
    },
    {
     "data": {
      "image/png": "[encoded data removed]",
      "text/plain": [
       "<Figure size 640x480 with 1 Axes>"
      ]
     },
     "metadata": {},
     "output_type": "display_data"
    }
   ],
   "source": [
    "plt.imshow(img_array[1])"
   ]
  },
  {
   "cell_type": "markdown",
   "id": "389bdf47",
   "metadata": {},
   "source": [
    "Finally, we save the file, adding the index at the front so we can then easily combine them after the creation of them is complete."
   ]
  },
  {
   "cell_type": "code",
   "execution_count": null,
   "id": "0e830763",
   "metadata": {},
   "outputs": [],
   "source": [
    "file_name = str(index) + \"_adv_batch_trial.npy\"\n",
    "np.save(file_name, adv_img_array)"
   ]
  },
  {
   "cell_type": "markdown",
   "id": "a2ae03c5",
   "metadata": {},
   "source": [
    "Below we show the datasets obtained from the HPC, which can be found on google drive."
   ]
  },
  {
   "cell_type": "code",
   "execution_count": 143,
   "id": "aa99f14e",
   "metadata": {},
   "outputs": [],
   "source": [
    "cw_advs_005 = np.load('005_cw_advs.npy')\n",
    "cw_advs_02 = np.load('02_cw_advs.npy')"
   ]
  },
  {
   "cell_type": "code",
   "execution_count": 144,
   "id": "a41801b1",
   "metadata": {},
   "outputs": [
    {
     "data": {
      "text/plain": [
       "(6330, 32, 32, 3)"
      ]
     },
     "execution_count": 144,
     "metadata": {},
     "output_type": "execute_result"
    }
   ],
   "source": [
    "cw_advs_005.shape"
   ]
  },
  {
   "cell_type": "code",
   "execution_count": 142,
   "id": "0f9ca96f",
   "metadata": {},
   "outputs": [
    {
     "data": {
      "text/plain": [
       "(6300, 32, 32, 3)"
      ]
     },
     "execution_count": 142,
     "metadata": {},
     "output_type": "execute_result"
    }
   ],
   "source": [
    "cw_advs_02.shape"
   ]
  },
  {
   "cell_type": "code",
   "execution_count": 145,
   "id": "2dc6b301",
   "metadata": {},
   "outputs": [
    {
     "data": {
      "text/plain": [
       "<matplotlib.image.AxesImage at 0x2c48cac0790>"
      ]
     },
     "execution_count": 145,
     "metadata": {},
     "output_type": "execute_result"
    },
    {
     "data": {
      "image/png": "[encoded data removed]",
      "text/plain": [
       "<Figure size 640x480 with 1 Axes>"
      ]
     },
     "metadata": {},
     "output_type": "display_data"
    }
   ],
   "source": [
    "plt.imshow(cw_advs_005[0])"
   ]
  },
  {
   "cell_type": "code",
   "execution_count": 146,
   "id": "a745782c",
   "metadata": {},
   "outputs": [
    {
     "data": {
      "text/plain": [
       "<matplotlib.image.AxesImage at 0x2c4801b4fd0>"
      ]
     },
     "execution_count": 146,
     "metadata": {},
     "output_type": "execute_result"
    },
    {
     "data": {
      "image/png": "[encoded data removed]",
      "text/plain": [
       "<Figure size 640x480 with 1 Axes>"
      ]
     },
     "metadata": {},
     "output_type": "display_data"
    }
   ],
   "source": [
    "plt.imshow(cw_advs_02[0])"
   ]
  },
  {
   "cell_type": "code",
   "execution_count": null,
   "id": "78ece7f2",
   "metadata": {},
   "outputs": [],
   "source": []
  }
 ],
 "metadata": {
  "kernelspec": {
   "display_name": "Python 3 (ipykernel)",
   "language": "python",
   "name": "python3"
  },
  "language_info": {
   "codemirror_mode": {
    "name": "ipython",
    "version": 3
   },
   "file_extension": ".py",
   "mimetype": "text/x-python",
   "name": "python",
   "nbconvert_exporter": "python",
   "pygments_lexer": "ipython3",
   "version": "3.9.13"
  }
 },
 "nbformat": 4,
 "nbformat_minor": 5
}
