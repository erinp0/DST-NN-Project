{
 "cells": [
  {
   "cell_type": "markdown",
   "id": "2b18f607",
   "metadata": {},
   "source": [
    "# Discussion"
   ]
  },
  {
   "cell_type": "markdown",
   "id": "560ae237",
   "metadata": {},
   "source": [
    "## Performance Metric"
   ]
  },
  {
   "cell_type": "markdown",
   "id": "d088b0cb",
   "metadata": {},
   "source": [
    "Due to ... we decided to use an aggregated F-1 score to evaluate our models."
   ]
  },
  {
   "cell_type": "markdown",
   "id": "dfb43f6e",
   "metadata": {},
   "source": [
    "# Easy Adversary attack"
   ]
  },
  {
   "cell_type": "markdown",
   "id": "08006e2e",
   "metadata": {},
   "source": [
    "# Carlini-Wagner attack"
   ]
  },
  {
   "cell_type": "code",
   "execution_count": null,
   "id": "4e6c98b9",
   "metadata": {},
   "outputs": [],
   "source": []
  },
  {
   "cell_type": "markdown",
   "id": "9bb1a1f1",
   "metadata": {},
   "source": [
    "# Limitations"
   ]
  },
  {
   "cell_type": "markdown",
   "id": "68170680",
   "metadata": {},
   "source": [
    "We recognise that our project is not fully polished and there are limitations to the conclusions we have drawn.\n",
    "* \n",
    "* "
   ]
  },
  {
   "cell_type": "markdown",
   "id": "0ff0dd37",
   "metadata": {},
   "source": [
    "# Future works"
   ]
  },
  {
   "cell_type": "markdown",
   "id": "b485a05f",
   "metadata": {},
   "source": [
    "Given the time constraints and difficulties we encountered, there are numerous avenues for further exploration with our data. Some of them are listed below:\n",
    "* Due to time constraints, we did not explore hyperparameter tuning in any of our models (autoencoder, classifier, neural networks) and this could be explored in future renditions of the work."
   ]
  },
  {
   "cell_type": "code",
   "execution_count": null,
   "id": "b760eb39",
   "metadata": {},
   "outputs": [],
   "source": []
  }
 ],
 "metadata": {
  "kernelspec": {
   "display_name": "Python 3 (ipykernel)",
   "language": "python",
   "name": "python3"
  },
  "language_info": {
   "codemirror_mode": {
    "name": "ipython",
    "version": 3
   },
   "file_extension": ".py",
   "mimetype": "text/x-python",
   "name": "python",
   "nbconvert_exporter": "python",
   "pygments_lexer": "ipython3",
   "version": "3.9.12"
  }
 },
 "nbformat": 4,
 "nbformat_minor": 5
}
