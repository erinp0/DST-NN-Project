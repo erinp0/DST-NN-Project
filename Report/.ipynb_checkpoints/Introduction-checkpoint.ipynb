{
 "cells": [
  {
   "cell_type": "markdown",
   "id": "aeff8e94",
   "metadata": {},
   "source": [
    "# Introduction\n",
    "\n",
    "## 1. Project Overview\n",
    "\n",
    "The general aim of this project is to investigate developing a multiclass neural network image classifer, with a focus on improving the robustness of the classifier. \n",
    "\n",
    "Robustness refers to the ability of the model to handle inputs which differ from its training set. \n",
    "\n",
    "The need for robustness can be split into two categories. Firstly, real-world data will always be a challenge as it is impossible to encapsulate every type of data into the training set, so it will always encounter something new in some capacity. We want to make the model robust to this. Secondly, for varying reasons, there can be attacks on systems. The aim of these attacks is to cause misclassification. This is the other type of robustness that we will consider.\n",
    "\n",
    "## 2. Specific Problem\n",
    "\n",
    "Our application domain in which we will be investigating robustness is road sign image classification. This relates to a real-world problem which could become significant to our society in the furture: the saftey of driverless cars. \n",
    "\n",
    "Driverless cars use sophisticated systems to decide what actions to take depending on what they record around them. Classifying road signs would be one part of this."
   ]
  },
  {
   "cell_type": "code",
   "execution_count": null,
   "id": "1c711a69",
   "metadata": {},
   "outputs": [],
   "source": []
  }
 ],
 "metadata": {
  "kernelspec": {
   "display_name": "Python 3 (ipykernel)",
   "language": "python",
   "name": "python3"
  },
  "language_info": {
   "codemirror_mode": {
    "name": "ipython",
    "version": 3
   },
   "file_extension": ".py",
   "mimetype": "text/x-python",
   "name": "python",
   "nbconvert_exporter": "python",
   "pygments_lexer": "ipython3",
   "version": "3.9.13"
  }
 },
 "nbformat": 4,
 "nbformat_minor": 5
}
